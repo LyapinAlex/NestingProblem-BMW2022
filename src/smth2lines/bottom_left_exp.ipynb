{
 "cells": [
  {
   "cell_type": "code",
   "execution_count": 13,
   "metadata": {
    "collapsed": true
   },
   "outputs": [
    {
     "name": "stdout",
     "output_type": "stream",
     "text": [
      "[[[0.7, 1.8]], [[0.46666666666666656, 2.043243243243243]], [[0.23333333333333328, 2.2864864864864862]], [[0.0, 2.701]], [[2.7, 2.7]]]\n",
      "[[[0, 0], [10, 10]], [[0, 0], [10, 10]], [[0, 0], [10, 10]], [[0, 0], [10, 10]], [[0, 0], [10, 10]], [[0, 0], [10, 10]], [[0, 0], [10, 10]], [[0, 0], [10, 10]], [[0, 0], [10, 10]], [[0, 0], [10, 10]], [[0, 0], [10, 10]], [[0, 0], [10, 10]], [[0, 0], [10, 10]], [[0, 0], [10, 10]], [[0, 0], [10, 10]], [[0, 0], [10, 10]], [[0, 0], [10, 10]], [[0, 0], [10, 10]], [[0, 0], [10, 10]], [[0, 0], [10, 10]], [[0, 0], [10, 10]], [[0, 0], [10, 10]], [[0, 0], [10, 10]], [[0, 0], [10, 10]], [[0, 0], [10, 10]], [[0, 0], [10, 10]], [[0, 0], [10, 10]], [[0, 0], [10, 10]], [[0, 0], [10, 10]], [[0, 0], [10, 10]]]\n"
     ]
    }
   ],
   "source": [
    "from src.smth2matrix.shift2zero import shift2zero\n",
    "import numpy as np\n",
    "from src.greedy_alg.class_pallets import Pallets\n",
    "from src.class_item import Item\n",
    "\n",
    "from copy import copy\n",
    "\n",
    "points = np.array([[0.3, 3], [1, 0], [2.1, 0], [3, 3.7]])\n",
    "shift2zero(points)\n",
    "\n",
    "h = 1\n",
    "\n",
    "item_1 = Item(1, points)\n",
    "item_1.set_segments(h)\n",
    "\n",
    "# item_1.segments = segments\n",
    "\n",
    "item_2 = Item(2, copy(points))\n",
    "item_2.set_segments(h)\n",
    "\n",
    "# item_2.segments = copy(segments_2)\n",
    "\n",
    "item_3 = Item(3, copy(points))\n",
    "item_3.set_segments(h)\n",
    "\n",
    "# item_3.segments = copy(segments_2)\n",
    "\n",
    "item_4 = Item(4, copy(points))\n",
    "item_4.set_segments(h)\n",
    "\n",
    "# item_4.segments = copy(segments_2)\n",
    "\n",
    "item_5 = Item(5, copy(points))\n",
    "item_5.set_segments(h)\n",
    "\n",
    "# item_5.segments = copy(segments_2)\n",
    "\n",
    "items = [copy(item_1), copy(item_2), copy(item_3), copy(item_4), copy(item_5)]\n",
    "\n",
    "from src.class_packing import Packing\n",
    "from src.smth2lines.polygon2segments import polygon2segments\n",
    "\n",
    "h = 1\n",
    "points = np.array([[0.3, 3], [1, 0], [2.1, 0], [3, 3.7]])\n",
    "\n",
    "lines = polygon2segments(points, h)\n",
    "print(lines)\n",
    "\n",
    "packaging = Packing(width=10, height=30, drill_radius=0)\n",
    "\n",
    "pallets = Pallets([10, 30])\n",
    "pallets.add_pallet_lines()\n",
    "\n",
    "print(pallets.pallet_lines)\n"
   ]
  },
  {
   "cell_type": "code",
   "execution_count": 14,
   "outputs": [],
   "source": [
    "packaging.items = items\n",
    "packaging.pallets = pallets\n",
    "packaging.h = h"
   ],
   "metadata": {
    "collapsed": false,
    "pycharm": {
     "name": "#%%\n"
    }
   }
  },
  {
   "cell_type": "code",
   "execution_count": 15,
   "outputs": [
    {
     "name": "stdout",
     "output_type": "stream",
     "text": [
      "\n",
      "строка 0 : [[0, 0], [0.7, 1.8], [10, 10]]\n",
      "строка 1 : [[0, 0], [0.46666666666666656, 2.043243243243243], [10, 10]]\n",
      "строка 2 : [[0, 0], [0.23333333333333328, 2.2864864864864862], [10, 10]]\n",
      "строка 3 : [[0, 0], [0.0, 2.701], [10, 10]]\n",
      "строка 4 : [[0, 0], [2.7, 2.7], [10, 10]]\n",
      "\n",
      "строка 0 : [[0, 0], [0.7, 1.8], [3.401, 4.501], [10, 10]]\n",
      "строка 1 : [[0, 0], [0.46666666666666656, 2.043243243243243], [3.1676666666666664, 4.744243243243243], [10, 10]]\n",
      "строка 2 : [[0, 0], [0.23333333333333328, 2.2864864864864862], [2.9343333333333335, 4.987486486486486], [10, 10]]\n",
      "строка 3 : [[0, 0], [0.0, 2.701], [2.701, 5.402], [10, 10]]\n",
      "строка 4 : [[0, 0], [2.7, 2.7], [5.401, 5.401], [10, 10]]\n",
      "\n",
      "строка 0 : [[0, 0], [0.7, 1.8], [3.401, 4.501], [6.102, 7.202], [10, 10]]\n",
      "строка 1 : [[0, 0], [0.46666666666666656, 2.043243243243243], [3.1676666666666664, 4.744243243243243], [5.868666666666667, 7.445243243243243], [10, 10]]\n",
      "строка 2 : [[0, 0], [0.23333333333333328, 2.2864864864864862], [2.9343333333333335, 4.987486486486486], [5.6353333333333335, 7.688486486486486], [10, 10]]\n",
      "строка 3 : [[0, 0], [0.0, 2.701], [2.701, 5.402], [5.402, 8.103], [10, 10]]\n",
      "строка 4 : [[0, 0], [2.7, 2.7], [5.401, 5.401], [8.102, 8.102], [10, 10]]\n",
      "\n",
      "строка 4 : [[0, 0], [0.7, 1.8], [2.7, 2.7], [5.401, 5.401], [8.102, 8.102], [10, 10]]\n",
      "строка 5 : [[0, 0], [0.46666666666666656, 2.043243243243243], [10, 10]]\n",
      "строка 6 : [[0, 0], [0.23333333333333328, 2.2864864864864862], [10, 10]]\n",
      "строка 7 : [[0, 0], [0.0, 2.701], [10, 10]]\n",
      "строка 8 : [[0, 0], [2.7, 2.7], [10, 10]]\n",
      "\n",
      "строка 4 : [[0, 0], [0.7, 1.8], [2.7, 2.7], [3.401, 4.501], [5.401, 5.401], [8.102, 8.102], [10, 10]]\n",
      "строка 5 : [[0, 0], [0.46666666666666656, 2.043243243243243], [3.1676666666666664, 4.744243243243243], [10, 10]]\n",
      "строка 6 : [[0, 0], [0.23333333333333328, 2.2864864864864862], [2.9343333333333335, 4.987486486486486], [10, 10]]\n",
      "строка 7 : [[0, 0], [0.0, 2.701], [2.701, 5.402], [10, 10]]\n",
      "строка 8 : [[0, 0], [2.7, 2.7], [5.401, 5.401], [10, 10]]\n"
     ]
    }
   ],
   "source": [
    "def pack_item(item, pallets, t_vector, r):\n",
    "    print()\n",
    "    item.t_vector = [t_vector, r]\n",
    "    item.packed = True\n",
    "    for s in range(len(item.segments)):\n",
    "        for l in range(len(item.segments[s])):\n",
    "            new_line = [copy(item.segments[s][l][0]) + copy(item.t_vector[0]), copy(item.segments[s][l][1]) + copy(item.t_vector[0])]\n",
    "            pallets.pallet_lines[r+s].append(copy(new_line))\n",
    "        pallets.pallet_lines[r+s].sort(key=lambda x: int(x[0]), reverse=False)\n",
    "        print('строка', r+s , ':', pallets.pallet_lines[r+s])\n",
    "\n",
    "def pack_segments(items, pallets):\n",
    "    for item in items:\n",
    "        r = 0\n",
    "        while r < len(pallets.pallet_lines) and item.packed == False:\n",
    "            row = pallets.pallet_lines[r]\n",
    "            k = 1\n",
    "            ex_flag = 0\n",
    "            while k < len(row) and item.packed == False and ex_flag == 0:\n",
    "                t_vector = row[k-1][1] - item.segments[0][0][0]\n",
    "                i = 0\n",
    "                l = len(item.segments[0])\n",
    "                while i < len(item.segments) and r + i < len(pallets.pallet_lines) and ex_flag == 0:\n",
    "                        j = 0\n",
    "                        while j < len(item.segments[i]) and ex_flag == 0:\n",
    "                            m = 0\n",
    "                            while m < len(pallets.pallet_lines[r+i]) and ex_flag == 0:\n",
    "                                # случаи пересечения линии и упаковки\n",
    "                                if pallets.pallet_lines[r+i][m][0] <= item.segments[i][j][0] + t_vector < pallets.pallet_lines[r+i][m][1]:\n",
    "                                    t_vector += pallets.pallet_lines[r+i][m][1] - (item.segments[i][j][0] + t_vector)\n",
    "                                    i = 0\n",
    "                                elif pallets.pallet_lines[r+i][m][0] <= item.segments[i][j][1] + t_vector < pallets.pallet_lines[r+i][m][1]:\n",
    "                                    t_vector += pallets.pallet_lines[r+i][m][1] - (item.segments[i][j][0] + t_vector)\n",
    "                                    i = 0\n",
    "                                # объект выходит за границы палеты\n",
    "                                elif item.segments[i][j][0] + t_vector < 0:\n",
    "                                    t_vector = - item.segments[i][j][0]\n",
    "                                    i = 0\n",
    "                                # наверное надо сделать это первым условием, будет чаще всего встречаться\n",
    "                                elif item.segments[i][j][1] + t_vector > pallets.shape[0]:\n",
    "                                    ex_flag = 1\n",
    "                                m += 1\n",
    "                            j += 1\n",
    "                        i+=1\n",
    "                # если объект влезает, добавляем его на палету\n",
    "                if ex_flag == 0:\n",
    "                    pack_item(item, pallets, t_vector, r)\n",
    "                    ex_flag = 1\n",
    "                k+=1\n",
    "            r+=1\n",
    "\n",
    "\n",
    "pack_segments(packaging.items, packaging.pallets)\n"
   ],
   "metadata": {
    "collapsed": false,
    "pycharm": {
     "name": "#%%\n"
    }
   }
  },
  {
   "cell_type": "code",
   "execution_count": 16,
   "outputs": [
    {
     "name": "stdout",
     "output_type": "stream",
     "text": [
      "[-0.0, 0]\n",
      "точки:  [0. 3.]\n",
      "точки стали:  [0. 3.]\n",
      "точки:  [0.7 0. ]\n",
      "точки стали:  [0.7 0. ]\n",
      "точки:  [1.8 0. ]\n",
      "точки стали:  [1.8 0. ]\n",
      "точки:  [2.7 3.7]\n",
      "точки стали:  [2.7 3.7]\n",
      "[2.701, 0]\n",
      "точки:  [0. 3.]\n",
      "точки стали:  [2.701 3.   ]\n",
      "точки:  [0.7 0. ]\n",
      "точки стали:  [3.401 0.   ]\n",
      "точки:  [1.8 0. ]\n",
      "точки стали:  [4.501 0.   ]\n",
      "точки:  [2.7 3.7]\n",
      "точки стали:  [5.401 3.7  ]\n",
      "[5.402, 0]\n",
      "точки:  [0. 3.]\n",
      "точки стали:  [5.402 3.   ]\n",
      "точки:  [0.7 0. ]\n",
      "точки стали:  [6.102 0.   ]\n",
      "точки:  [1.8 0. ]\n",
      "точки стали:  [7.202 0.   ]\n",
      "точки:  [2.7 3.7]\n",
      "точки стали:  [8.102 3.7  ]\n",
      "[-0.0, 4]\n",
      "точки:  [0. 3.]\n",
      "точки стали:  [0. 7.]\n",
      "точки:  [0.7 0. ]\n",
      "точки стали:  [0.7 4. ]\n",
      "точки:  [1.8 0. ]\n",
      "точки стали:  [1.8 4. ]\n",
      "точки:  [2.7 3.7]\n",
      "точки стали:  [2.7 7.7]\n",
      "[2.701, 4]\n",
      "точки:  [0. 3.]\n",
      "точки стали:  [2.701 7.   ]\n",
      "точки:  [0.7 0. ]\n",
      "точки стали:  [3.401 4.   ]\n",
      "точки:  [1.8 0. ]\n",
      "точки стали:  [4.501 4.   ]\n",
      "точки:  [2.7 3.7]\n",
      "точки стали:  [5.401 7.7  ]\n"
     ]
    },
    {
     "data": {
      "text/plain": "<Figure size 432x288 with 1 Axes>",
      "image/png": "[encoded data removed]"
     },
     "metadata": {
      "needs_background": "light"
     },
     "output_type": "display_data"
    }
   ],
   "source": [
    "from matplotlib import pyplot as plt, patches\n",
    "\n",
    "pallet_width = 10\n",
    "pallet_height = 30\n",
    "\n",
    "fig, ax = plt.subplots()\n",
    "\n",
    "pallet = patches.Rectangle((0, 0),\n",
    "                            pallet_width,\n",
    "                            pallet_height,\n",
    "                            linewidth=2,\n",
    "                            facecolor='none',\n",
    "                            edgecolor='black')\n",
    "ax.add_patch(pallet)\n",
    "ax.set_xlim(-0.5, pallet_width + 2)\n",
    "ax.set_ylim(-0.5, pallet_height + 2)\n",
    "\n",
    "for i in range(int(pallet_height/h)):\n",
    "    plt.plot([0, pallet_width], [i*h, i*h], linestyle = 'dotted', color = 'black')\n",
    "\n",
    "\n",
    "for polygon in items:\n",
    "    print(polygon.t_vector)\n",
    "    for point in polygon.points:\n",
    "        print('точки: ', point)\n",
    "        point[0] += polygon.t_vector[0]\n",
    "        point[1] += polygon.t_vector[1]\n",
    "        print('точки стали: ', point)\n",
    "    figure = patches.Polygon(polygon.points,\n",
    "                            linewidth=1,\n",
    "                            edgecolor='red',\n",
    "                            fill=False)\n",
    "    ax.add_patch(figure)\n",
    "\n",
    "\n",
    "plt.savefig('line-packing.png')\n",
    "# plt.show()"
   ],
   "metadata": {
    "collapsed": false,
    "pycharm": {
     "name": "#%%\n"
    }
   }
  }
 ],
 "metadata": {
  "kernelspec": {
   "display_name": "Python 3",
   "language": "python",
   "name": "python3"
  },
  "language_info": {
   "codemirror_mode": {
    "name": "ipython",
    "version": 2
   },
   "file_extension": ".py",
   "mimetype": "text/x-python",
   "name": "python",
   "nbconvert_exporter": "python",
   "pygments_lexer": "ipython2",
   "version": "2.7.6"
  }
 },
 "nbformat": 4,
 "nbformat_minor": 0
}