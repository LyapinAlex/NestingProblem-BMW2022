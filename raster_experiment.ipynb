{
 "cells": [
  {
   "cell_type": "code",
   "execution_count": 5,
   "metadata": {
    "collapsed": true,
    "pycharm": {
     "name": "#%%\n"
    }
   },
   "outputs": [],
   "source": [
    "# from DrawSolution import draw_pallet\n",
    "# from class_item import Item\n",
    "# import copy\n",
    "# from matplotlib import pyplot as plt\n",
    "# from matplotlib import patches\n",
    "\n",
    "# eps = 1\n",
    "\n",
    "# poligon1 = [[0,1,0], [1,1,1], [0,1,0]]\n",
    "# poligon2 = [[1,1], [1,0]]\n",
    "# poligon3 = [[1,1,1], [0,1,0]]\n",
    "\n",
    "# points_1 = [[0,3], [2,0], [3,1], [2,1], [1, 4]]\n",
    "# points_2 = [[0,0], [1,0], [1,8], [0,8]]\n",
    "# points_3 = [[0,3], [2,0], [2,1], [3,2], [1, 4]]\n",
    "\n",
    "# poligon_matrix = [[1,1,1,1], [1,1,1,1], [1,1,1,1]]\n",
    "# short_poligon_matrix = [[1,1,1,1,1,1,1,1]]\n",
    "\n",
    "# poligons = [copy.deepcopy(points_2), copy.deepcopy(points_2), copy.deepcopy(points_1), copy.deepcopy(points_1), copy.deepcopy(points_1), copy.deepcopy(points_1), copy.deepcopy(points_1), copy.deepcopy(points_1), copy.deepcopy(points_1), copy.deepcopy(points_1)]\n",
    "\n",
    "# # poligons = [copy.deepcopy(points_2),copy.deepcopy(points_2)]\n",
    "# items = [Item(i, poligons[i]) for i in range(len(poligons))]\n",
    "\n",
    "\n",
    "\n",
    "# items[0].matrix = short_poligon_matrix\n",
    "# items[1].matrix = short_poligon_matrix\n",
    "\n",
    "\n",
    "\n",
    "\n",
    "# for item in items:\n",
    "#     if item.matrix is None:\n",
    "#         item.matrix = poligon_matrix\n",
    "\n",
    "# pallet_width = 7\n",
    "# pallet_height = 8\n",
    "\n",
    "\n",
    "\n",
    "# matrix = [[0,0,0,0,0,0,0,0],\n",
    "#           [0,0,0,0,0,0,0,0],\n",
    "#           [0,0,0,0,0,0,0,0],\n",
    "#           [0,0,0,0,0,0,0,0],\n",
    "#           [0,0,0,0,0,0,0,0],\n",
    "#           [0,0,0,0,0,0,0,0],\n",
    "#           [0,0,0,0,0,0,0,0]]"
   ]
  },
  {
   "cell_type": "code",
   "execution_count": 6,
   "metadata": {},
   "outputs": [
    {
     "ename": "SyntaxError",
     "evalue": "invalid syntax (polygon.py, line 169)",
     "output_type": "error",
     "traceback": [
      "Traceback \u001b[1;36m(most recent call last)\u001b[0m:\n",
      "  File \u001b[0;32m~\\AppData\\Roaming\\Python\\Python39\\site-packages\\IPython\\core\\interactiveshell.py:3361\u001b[0m in \u001b[0;35mrun_code\u001b[0m\n    exec(code_obj, self.user_global_ns, self.user_ns)\n",
      "  Input \u001b[0;32mIn [6]\u001b[0m in \u001b[0;35m<cell line: 6>\u001b[0m\n    import generate\n",
      "\u001b[1;36m  File \u001b[1;32mc:\\Users\\Александр\\Desktop\\NestingProblem-BMW2022\\generate.py:3\u001b[1;36m in \u001b[1;35m<module>\u001b[1;36m\u001b[0m\n\u001b[1;33m    import polygon\u001b[0m\n",
      "\u001b[1;36m  File \u001b[1;32mc:\\Users\\Александр\\Desktop\\NestingProblem-BMW2022\\polygon.py:169\u001b[1;36m\u001b[0m\n\u001b[1;33m    def coordinate\u001b[0m\n\u001b[1;37m                  ^\u001b[0m\n\u001b[1;31mSyntaxError\u001b[0m\u001b[1;31m:\u001b[0m invalid syntax\n"
     ]
    }
   ],
   "source": [
    "from DrawSolution import draw_pallet\n",
    "from class_item import Item\n",
    "import copy\n",
    "from matplotlib import pyplot as plt\n",
    "from matplotlib import patches\n",
    "import generate \n",
    "import pallet\n",
    "\n",
    "eps = 1\n",
    "pallet_width = 10\n",
    "pallet_leight = 10\n",
    "numPoligons = 2\n",
    "\n",
    "\n",
    "g= generate.Generator(pallet_width, pallet_leight, numPoligons  )\n",
    "g.start(eps)\n",
    "items_e = g.data\n",
    "\n",
    "pal = pallet.Pallet(0, pallet_width, pallet_leight, eps)\n",
    "\n",
    "# print(items[0])\n",
    "# print(items_e[0])\n",
    "# print(items[0].id)\n",
    "# print(items_e[0].id)\n",
    "# print(items[0].matrix)\n",
    "# print(items_e[0].matrix)\n",
    "# print(type(items[0]))\n",
    "# print(type(items_e[0]))\n",
    "# print(items[0].points)\n",
    "# print(items_e[0].points)\n",
    "# print(type(items[0].points))\n",
    "# print(type(items_e[0].points))\n",
    "# print(items[0].rotation)\n",
    "# print(items_e[0].rotation)\n",
    "# print(items[0])\n",
    "# print(items_e[0])\n",
    "\n",
    "\n"
   ]
  },
  {
   "cell_type": "code",
   "execution_count": null,
   "metadata": {},
   "outputs": [],
   "source": [
    "# print(items[0].id)\n",
    "# locSearch(matrix, items, eps)\n",
    "\n"
   ]
  },
  {
   "cell_type": "code",
   "execution_count": null,
   "metadata": {
    "collapsed": false,
    "pycharm": {
     "name": "#%%\n"
    }
   },
   "outputs": [],
   "source": [
    "def draw_pallet(items, pallet_width, pallet_height):\n",
    "    # fig, ax = plt.subplots(figsize=(pallet_height, pallet_height))\n",
    "    fig, ax = plt.subplots()\n",
    "    pallet = patches.Rectangle((0, 0), pallet_width, pallet_height, linewidth=2, facecolor='none', edgecolor='blue')\n",
    "    ax.add_patch(pallet)\n",
    "    ax.set_xlim(-1, pallet_width + 1)\n",
    "    ax.set_ylim(-1, pallet_height + 1)\n",
    "    for item in items:\n",
    "        for point in item.points:\n",
    "            point[0] += item.lb_x\n",
    "            point[1] += item.lb_y\n",
    "        polygon = patches.Polygon(item.points)\n",
    "        ax.add_patch(polygon)\n",
    "    return fig, ax"
   ]
  },
  {
   "cell_type": "code",
   "execution_count": null,
   "metadata": {
    "collapsed": false,
    "pycharm": {
     "name": "#%%\n"
    }
   },
   "outputs": [],
   "source": [
    "def print_matrix(matrix):\n",
    "    for i in range(len(matrix)):\n",
    "        print(matrix[i])\n",
    "        print('\\n')"
   ]
  },
  {
   "cell_type": "code",
   "execution_count": null,
   "metadata": {
    "collapsed": false,
    "pycharm": {
     "name": "#%%\n"
    }
   },
   "outputs": [],
   "source": [
    "def fit_item(pallet, item):\n",
    "    print(\"fitItem Part\")\n",
    "    print(item)\n",
    "    print(type(item))\n",
    "    for i in range(len(pallet[0])):\n",
    "        for j in range(len(pallet)):\n",
    "            exit = False\n",
    "            # условия, что объект влезает\n",
    "            if len(item.matrix) + i <= len(pallet) and len(item.matrix[0]) + j <= len(pallet[0]):\n",
    "                # располагаем объект\n",
    "                for p in range(len(item.matrix)):\n",
    "                    for k in range(len(item.matrix[0])):\n",
    "                        # решаем есть ли пересечение\n",
    "                        if pallet[i+p][j+k] + item.matrix[p][k] == 2:\n",
    "                            exit = True\n",
    "                            break\n",
    "                    if exit:\n",
    "                        break\n",
    "            else:\n",
    "                exit = True\n",
    "            # если пересечений нет и элемент влезает, то добавляем его\n",
    "            if not exit:\n",
    "                item.lb_x = i\n",
    "                item.lb_y = j\n",
    "                for p in range(len(item.matrix)):\n",
    "                    for k in range(len(item.matrix[0])):\n",
    "                        pallet[i+p][j+k] += item.matrix[p][k]\n",
    "                break\n",
    "        if not exit:\n",
    "            break\n",
    "    # print_matrix(pallet)\n",
    "    print('--------------')\n",
    "    print_matrix(pallet)\n",
    "    print(item.matrix)\n",
    "    print('--------------')\n",
    "    return pallet, exit"
   ]
  },
  {
   "cell_type": "code",
   "execution_count": null,
   "metadata": {
    "collapsed": false,
    "pycharm": {
     "name": "#%%\n"
    }
   },
   "outputs": [],
   "source": [
    "def find_lb_coordinates(items, eps):\n",
    "    for item in items:\n",
    "        item.lb_x = item.lb_x * eps\n",
    "        item.lb_y = item.lb_y * eps\n",
    "    return items"
   ]
  },
  {
   "cell_type": "code",
   "execution_count": null,
   "metadata": {
    "collapsed": false,
    "pycharm": {
     "name": "#%%\n"
    }
   },
   "outputs": [],
   "source": [
    "def fit_pallets(matrix, items, eps):\n",
    "    pallets = []\n",
    "    pallets.append(copy.deepcopy(matrix))\n",
    "    for item in items:\n",
    "        i=0\n",
    "        exit = True\n",
    "        while exit and i<len(pallets):\n",
    "            pallets[i], exit = fit_item(pallets[i], item)\n",
    "            if exit and i==(len(pallets)-1):\n",
    "                pallets.append(copy.deepcopy(matrix))\n",
    "            if not exit:\n",
    "                item.pallet_number = i\n",
    "                # print(i)\n",
    "            i+=1\n",
    "    find_lb_coordinates(items, eps)\n",
    "\n",
    "    return pallets"
   ]
  },
  {
   "cell_type": "code",
   "execution_count": null,
   "metadata": {
    "collapsed": false,
    "pycharm": {
     "name": "#%%\n"
    }
   },
   "outputs": [],
   "source": [
    "def understand_pallets(items):\n",
    "    packing = []\n",
    "    usedNumPallet = max([item.pallet_number for item in items])\n",
    "    # print([item.pallet_number for item in items])\n",
    "    for i in range(usedNumPallet  + 1):\n",
    "        # print(i)\n",
    "        packing.append([])\n",
    "    # print(packing)\n",
    "    for i in range(usedNumPallet  + 1):\n",
    "        for item in items:\n",
    "            if item.pallet_number > len(packing):\n",
    "                    packing.append([])\n",
    "            if item.pallet_number == i:\n",
    "                packing[i].append(item)\n",
    "    # print([item.pallet_number for item in items])\n",
    "\n",
    "    # print(packing)\n",
    "    return packing\n",
    "            # print(packing, '\\n')\n",
    "            # print(packing[i], '\\n')\n",
    "            # print(packing[i][0].points, '\\n')\n",
    "            # print('-----------')\n",
    "\n",
    "# print(packing)\n",
    "    \n",
    "def draw_all_pallets(packing):\n",
    "    print(len(packing))\n",
    "    for i in range(len(packing)):\n",
    "        print(i)\n",
    "        draw_pallet(packing[i], pallet_width, pallet_leight)"
   ]
  },
  {
   "cell_type": "code",
   "execution_count": null,
   "metadata": {
    "collapsed": false,
    "pycharm": {
     "name": "#%%\n"
    }
   },
   "outputs": [],
   "source": [
    "# import rastr_method\n",
    "# import copy\n",
    "\n",
    "\n",
    "def swap(list, pos1, pos2):\n",
    "\n",
    "    list[pos1], list[pos2] = list[pos2], list[pos1]\n",
    "    return list\n",
    "\n",
    "\n",
    "#  алгоритм локального поиска\n",
    "def locSearch(matrix, poligons, eps):\n",
    "    # print(eps)\n",
    "\n",
    "    # print(poligons[0].id)\n",
    "    # print(swap(poligons, 0 ,1)[0].id)\n",
    "    n = len( poligons)\n",
    "\n",
    "    objVal = len(fit_pallets(matrix,  poligons, eps))\n",
    "\n",
    "    poligonsBest = copy.deepcopy(poligons)\n",
    "\n",
    "    betterNeighboor = (0,0)\n",
    "    stop = False\n",
    "    while not stop:\n",
    "        \n",
    "        stop = True\n",
    "        for i in range(n):\n",
    "            for j in range(i + 1, n):\n",
    "                # надо сделать, что бы два раза не проходила\n",
    "                pal = fit_pallets(matrix, swap(copy.deepcopy(poligonsBest), i, j), eps)\n",
    "                # print(items[0].pallet_number)\n",
    "                # val = len(fit_pallets(matrix, swap(copy.deepcopy(poligons), i, j), eps))\n",
    "                val = len(pal)\n",
    "                if val < objVal:\n",
    "                    stop = False\n",
    "                    objVal = val\n",
    "                    betterNeighboor = (i,j)\n",
    "                    fit_pallets(matrix, swap(poligonsBest, i, j), eps)\n",
    "\n",
    "                    # print(betterNeighboor)\n",
    "\n",
    "                if betterNeighboor[1] != 0:\n",
    "                    swap( poligonsBest, betterNeighboor[0], betterNeighboor[1])\n",
    "        # print([item.pallet_number for item in poligonsBest])\n",
    "\n",
    "   \n",
    "    # print([item.pallet_number for item in items])\n",
    "    # for i in range(len(pal)):\n",
    "    #     print_matrix(pal[i])\n",
    "    #     print('--------------')\n",
    "    # understand_pallets(poligonsBest)\n",
    "\n",
    "    draw_all_pallets(understand_pallets(poligonsBest))\n",
    "\n",
    "    return val"
   ]
  },
  {
   "cell_type": "code",
   "execution_count": null,
   "metadata": {
    "collapsed": false,
    "pycharm": {
     "name": "#%%\n"
    }
   },
   "outputs": [],
   "source": [
    "# fit_pallets(matrix, items, eps)\n"
   ]
  },
  {
   "cell_type": "code",
   "execution_count": null,
   "metadata": {
    "collapsed": false,
    "pycharm": {
     "name": "#%%\n"
    }
   },
   "outputs": [
    {
     "name": "stdout",
     "output_type": "stream",
     "text": [
      "fitItem Part\n",
      "<class_item.Item object at 0x0000020B39702F70>\n",
      "<class 'class_item.Item'>\n",
      "--------------\n",
      "[1, 1, 0, 0, 0, 0, 0, 0, 0, 0]\n",
      "\n",
      "\n",
      "[1, 1, 0, 0, 0, 0, 0, 0, 0, 0]\n",
      "\n",
      "\n",
      "[1, 1, 0, 0, 0, 0, 0, 0, 0, 0]\n",
      "\n",
      "\n",
      "[1, 1, 0, 0, 0, 0, 0, 0, 0, 0]\n",
      "\n",
      "\n",
      "[0, 0, 0, 0, 0, 0, 0, 0, 0, 0]\n",
      "\n",
      "\n",
      "[0, 0, 0, 0, 0, 0, 0, 0, 0, 0]\n",
      "\n",
      "\n",
      "[0, 0, 0, 0, 0, 0, 0, 0, 0, 0]\n",
      "\n",
      "\n",
      "[0, 0, 0, 0, 0, 0, 0, 0, 0, 0]\n",
      "\n",
      "\n",
      "[0, 0, 0, 0, 0, 0, 0, 0, 0, 0]\n",
      "\n",
      "\n",
      "[0, 0, 0, 0, 0, 0, 0, 0, 0, 0]\n",
      "\n",
      "\n",
      "[[1, 1], [1, 1], [1, 1], [1, 1]]\n",
      "--------------\n",
      "fitItem Part\n",
      "<class_item.Item object at 0x0000020B3C32E9D0>\n",
      "<class 'class_item.Item'>\n",
      "--------------\n",
      "[1, 1, 1, 1, 1, 0, 0, 0, 0, 0]\n",
      "\n",
      "\n",
      "[1, 1, 1, 1, 1, 0, 0, 0, 0, 0]\n",
      "\n",
      "\n",
      "[1, 1, 0, 0, 0, 0, 0, 0, 0, 0]\n",
      "\n",
      "\n",
      "[1, 1, 0, 0, 0, 0, 0, 0, 0, 0]\n",
      "\n",
      "\n",
      "[0, 0, 0, 0, 0, 0, 0, 0, 0, 0]\n",
      "\n",
      "\n",
      "[0, 0, 0, 0, 0, 0, 0, 0, 0, 0]\n",
      "\n",
      "\n",
      "[0, 0, 0, 0, 0, 0, 0, 0, 0, 0]\n",
      "\n",
      "\n",
      "[0, 0, 0, 0, 0, 0, 0, 0, 0, 0]\n",
      "\n",
      "\n",
      "[0, 0, 0, 0, 0, 0, 0, 0, 0, 0]\n",
      "\n",
      "\n",
      "[0, 0, 0, 0, 0, 0, 0, 0, 0, 0]\n",
      "\n",
      "\n",
      "[[1, 1, 1], [1, 1, 1]]\n",
      "--------------\n",
      "fitItem Part\n",
      "<class_item.Item object at 0x0000020B3C36E280>\n",
      "<class 'class_item.Item'>\n",
      "--------------\n",
      "[1, 1, 1, 0, 0, 0, 0, 0, 0, 0]\n",
      "\n",
      "\n",
      "[1, 1, 1, 0, 0, 0, 0, 0, 0, 0]\n",
      "\n",
      "\n",
      "[0, 0, 0, 0, 0, 0, 0, 0, 0, 0]\n",
      "\n",
      "\n",
      "[0, 0, 0, 0, 0, 0, 0, 0, 0, 0]\n",
      "\n",
      "\n",
      "[0, 0, 0, 0, 0, 0, 0, 0, 0, 0]\n",
      "\n",
      "\n",
      "[0, 0, 0, 0, 0, 0, 0, 0, 0, 0]\n",
      "\n",
      "\n",
      "[0, 0, 0, 0, 0, 0, 0, 0, 0, 0]\n",
      "\n",
      "\n",
      "[0, 0, 0, 0, 0, 0, 0, 0, 0, 0]\n",
      "\n",
      "\n",
      "[0, 0, 0, 0, 0, 0, 0, 0, 0, 0]\n",
      "\n",
      "\n",
      "[0, 0, 0, 0, 0, 0, 0, 0, 0, 0]\n",
      "\n",
      "\n",
      "[[1, 1, 1], [1, 1, 1]]\n",
      "--------------\n",
      "fitItem Part\n",
      "<class_item.Item object at 0x0000020B3C36E220>\n",
      "<class 'class_item.Item'>\n",
      "--------------\n",
      "[1, 1, 1, 1, 1, 0, 0, 0, 0, 0]\n",
      "\n",
      "\n",
      "[1, 1, 1, 1, 1, 0, 0, 0, 0, 0]\n",
      "\n",
      "\n",
      "[0, 0, 0, 1, 1, 0, 0, 0, 0, 0]\n",
      "\n",
      "\n",
      "[0, 0, 0, 1, 1, 0, 0, 0, 0, 0]\n",
      "\n",
      "\n",
      "[0, 0, 0, 0, 0, 0, 0, 0, 0, 0]\n",
      "\n",
      "\n",
      "[0, 0, 0, 0, 0, 0, 0, 0, 0, 0]\n",
      "\n",
      "\n",
      "[0, 0, 0, 0, 0, 0, 0, 0, 0, 0]\n",
      "\n",
      "\n",
      "[0, 0, 0, 0, 0, 0, 0, 0, 0, 0]\n",
      "\n",
      "\n",
      "[0, 0, 0, 0, 0, 0, 0, 0, 0, 0]\n",
      "\n",
      "\n",
      "[0, 0, 0, 0, 0, 0, 0, 0, 0, 0]\n",
      "\n",
      "\n",
      "[[1, 1], [1, 1], [1, 1], [1, 1]]\n",
      "--------------\n",
      "1\n",
      "0\n"
     ]
    },
    {
     "data": {
      "text/plain": [
       "1"
      ]
     },
     "execution_count": 60,
     "metadata": {},
     "output_type": "execute_result"
    },
    {
     "data": {
      "image/png": "[encoded data removed]",
      "text/plain": [
       "<Figure size 432x288 with 1 Axes>"
      ]
     },
     "metadata": {
      "needs_background": "light"
     },
     "output_type": "display_data"
    }
   ],
   "source": [
    "locSearch(pal.matrix, items_e, eps)\n",
    "# locSearch(matrix, items, eps)"
   ]
  }
 ],
 "metadata": {
  "kernelspec": {
   "display_name": "Python 3.9.10 64-bit (system)",
   "language": "python",
   "name": "python3"
  },
  "language_info": {
   "codemirror_mode": {
    "name": "ipython",
    "version": 3
   },
   "file_extension": ".py",
   "mimetype": "text/x-python",
   "name": "python",
   "nbconvert_exporter": "python",
   "pygments_lexer": "ipython3",
   "version": "3.9.10"
  },
  "vscode": {
   "interpreter": {
    "hash": "6643e6ed50db0d59a33908eb86408b16df6c710e8c0d335ec4f1e3d889261d64"
   }
  }
 },
 "nbformat": 4,
 "nbformat_minor": 0
}
