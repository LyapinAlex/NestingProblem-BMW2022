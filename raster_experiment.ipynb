{
 "cells": [
  {
   "cell_type": "code",
   "execution_count": 38,
   "metadata": {},
   "outputs": [],
   "source": [
    "\n",
    "\n",
    "from DrawSolution import draw_all_pallets\n",
    "from class_item import Item\n",
    "import copy\n",
    "from matplotlib import pyplot as plt\n",
    "from matplotlib import patches\n",
    "import generate \n",
    "import pallet\n",
    "import time\n",
    "import math\n",
    "import numpy as np\n",
    "\n",
    "import pdb\n"
   ]
  },
  {
   "cell_type": "code",
   "execution_count": 39,
   "metadata": {
    "collapsed": true,
    "pycharm": {
     "name": "#%%\n"
    }
   },
   "outputs": [],
   "source": [
    "\n",
    "\n",
    "\n",
    "# eps = 1\n",
    "\n",
    "# poligon1 = [[0,1,0], [1,1,1], [0,1,0], []]\n",
    "# poligon2 = [[1,1], [1,0]]\n",
    "# poligon3 = [[1,1,1], [0,1,0]]\n",
    "\n",
    "# points_1 = [[0,3], [2,0], [3,1], [2,1], [1, 4]]\n",
    "# points_2 = [[0,0], [1,0], [1,8], [0,8]]\n",
    "# points_3 = [[0,3], [2,0], [2,1], [3,2], [1, 4]]\n",
    "\n",
    "# pol_1 = [[0,0], [4,0], [4,1], [2,1], [2, 2], [0, 2]]\n",
    "# pol_2 = [[1,0], [2,0], [2,3], [1,3], [1, 2], [0, 2], [0, 1], [1, 1]]\n",
    "# pol_3 = [[2,0], [3,0], [3,1], [4,1], [4, 2], [5, 2], [5, 3], [0, 3], [0, 2], [1, 2], [1, 1], [2, 1]]\n",
    "\n",
    "\n",
    "# pol_1_matrix = [[2, 1, -2, -1], [4, 3, 2, 1]]\n",
    "# pol_2_matrix = [[-1, 1], [2, 1], [-1, 1]]\n",
    "# pol_3_matrix = [[5, 4, 3, 2, 1], [-1, 3, 2, 1, -1], [-2, -1, 1, -2, -1]]\n",
    "\n",
    "\n",
    "# poligons = [copy.deepcopy(pol_1), copy.deepcopy(pol_2), copy.deepcopy(pol_3)]\n",
    "\n",
    "# # poligons = [copy.deepcopy(points_2),copy.deepcopy(points_2)]\n",
    "# items = [Item(i, poligons[i]) for i in range(len(poligons))]\n",
    "\n",
    "\n",
    "# items[0].matrix = copy.deepcopy(pol_1_matrix)\n",
    "# items[1].matrix = copy.deepcopy(pol_2_matrix)\n",
    "# items[2].matrix = copy.deepcopy(pol_3_matrix)\n",
    "\n",
    "\n",
    "\n",
    "\n",
    "# matrix = [[0,0,0,0,0,0],\n",
    "#           [2,1,0,0,0,1],\n",
    "#           [3,2,1,0,1,0],\n",
    "#           [4,3,2,1,0,0],\n",
    "#           [0,2,1,1,0,0],\n",
    "#           [0,0,0,3,2,1]]\n",
    "\n",
    "\n",
    "\n",
    "# eps = 1\n",
    "# pallet_width = 6\n",
    "# pallet_height = 6\n",
    "# pal = pallet.Pallet(0, pallet_width, pallet_height, eps)\n"
   ]
  },
  {
   "cell_type": "code",
   "execution_count": 40,
   "metadata": {},
   "outputs": [],
   "source": [
    "def print_matrix(matrix):\n",
    "    for i in range(len(matrix)):\n",
    "        print(matrix[i])\n",
    "        print('\\n')"
   ]
  },
  {
   "cell_type": "code",
   "execution_count": 41,
   "metadata": {},
   "outputs": [
    {
     "name": "stdout",
     "output_type": "stream",
     "text": [
      "0.013962030410766602\n",
      "[[0 0 0 0 1 1 1 1 1 0 0 0]\n",
      " [1 1 1 1 1 1 1 1 1 0 0 0]\n",
      " [1 1 1 1 1 1 1 1 1 1 0 0]\n",
      " [1 1 1 1 1 1 1 1 1 1 0 0]\n",
      " [1 1 1 1 1 1 1 1 1 1 1 0]\n",
      " [1 1 1 1 1 1 1 1 1 1 1 0]\n",
      " [1 1 1 1 1 1 1 1 1 1 1 0]\n",
      " [1 1 1 1 1 1 1 1 1 1 1 1]\n",
      " [1 1 1 1 1 1 1 1 1 1 1 1]\n",
      " [0 1 1 1 1 1 1 1 1 1 1 0]\n",
      " [0 1 1 1 1 1 1 1 1 0 0 0]\n",
      " [0 1 1 1 1 1 1 1 0 0 0 0]\n",
      " [0 1 1 1 1 1 0 0 0 0 0 0]\n",
      " [0 1 1 1 1 0 0 0 0 0 0 0]\n",
      " [0 1 1 0 0 0 0 0 0 0 0 0]]\n"
     ]
    }
   ],
   "source": [
    "\n",
    "\n",
    "\n",
    "eps = 0.25\n",
    "pallet_width = 10\n",
    "pallet_height =  10\n",
    "numPoligons = 5\n",
    "\n",
    "t = time.time()\n",
    "g= generate.Generator(pallet_width, pallet_height, numPoligons )\n",
    "g.start(eps)\n",
    "items = g.data\n",
    "print(time.time() - t)\n",
    "print(items[0].matrix)\n",
    "\n",
    "pal = pallet.Pallet(0, pallet_width, pallet_height, eps)\n",
    "\n",
    "\n",
    "\n"
   ]
  },
  {
   "cell_type": "code",
   "execution_count": 42,
   "metadata": {
    "collapsed": false,
    "pycharm": {
     "name": "#%%\n"
    }
   },
   "outputs": [],
   "source": [
    "def draw_pallet(items, pallet_width, pallet_height):\n",
    "    # fig, ax = plt.subplots(figsize=(pallet_height, pallet_height))\n",
    "    fig, ax = plt.subplots()\n",
    "    pallet = patches.Rectangle((0, 0), pallet_width, pallet_height, linewidth=2, facecolor='none', edgecolor='blue')\n",
    "    ax.add_patch(pallet)\n",
    "    ax.set_xlim(-1, pallet_width + 1)\n",
    "    ax.set_ylim(-1, pallet_height + 1)\n",
    "    for item in items:\n",
    "        for point in item.points:\n",
    "            point0_copy = point[0]\n",
    "            point[0] = math.cos(item.rotation)*point[0] - math.sin(item.rotation)*point[1]\n",
    "            point[1] = math.sin(item.rotation)*point0_copy + math.cos(item.rotation)*point[1]\n",
    "        item.surfPoint()\n",
    "        for point in item.points:\n",
    "            point[0] += item.lb_x\n",
    "            point[1] += item.lb_y\n",
    "        polygon = patches.Polygon(item.points)\n",
    "        ax.add_patch(polygon)\n",
    "    return fig, ax"
   ]
  },
  {
   "cell_type": "code",
   "execution_count": 43,
   "metadata": {
    "collapsed": false,
    "pycharm": {
     "name": "#%%\n"
    }
   },
   "outputs": [],
   "source": [
    "def fit_item(pallet, item, itemMatrix):\n",
    "    \n",
    "\n",
    "    # print(itemMatrix)\n",
    "\n",
    "    # print( len(pallet))\n",
    "    for i in range( len(pallet)):\n",
    "        # print(i)\n",
    "        j = 0\n",
    "        while j < len( pallet[0]):\n",
    "        # for j in range(0, len( pallet[0])):\n",
    "\n",
    "            exit = False\n",
    "            # условия, что объект влезает\n",
    "            # условие на чтение матрицы \n",
    "            surf = pallet[i][j]\n",
    "            # print('p', i, j ,'val' ,surf )\n",
    "            if surf == 0 or surf + itemMatrix[0][0] <= 0:\n",
    "                if len(itemMatrix) + i <= len(pallet) and len(itemMatrix[0]) + j <= len(pallet[0]):\n",
    "                    # print('com', i, j )\n",
    "                    # print('size', len(item.matrix) + i, len(item.matrix[0]) + j)\n",
    "                    # располагаем объект\n",
    "                    for p in range(len(itemMatrix)):\n",
    "                        for k in range(len(itemMatrix[0])):\n",
    "                            # решаем есть ли пересечение\n",
    "                            if pallet[i+p][j+k] > 0:\n",
    "                                if itemMatrix[p][k] > 0:\n",
    "                                    exit = True\n",
    "                                    break\n",
    "                        if exit:\n",
    "                            break\n",
    "                else:\n",
    "                    exit = True\n",
    "\n",
    "                # если пересечений нет и элемент влезает, то добавляем его\n",
    "                if not exit:\n",
    "                    \n",
    "                    # print(i,j, 'exp')\n",
    "                    item.lb_x = i\n",
    "                    item.lb_y = j\n",
    "                    \n",
    "                    # itemMatrixReverseCode = item. матрица с обратной кодировкой\n",
    "                    # item.matrix = itemMatrixReverseCode\n",
    "                    for p in range(len(itemMatrix)):\n",
    "                        k = 0\n",
    "                        while k < len(itemMatrix[0]):\n",
    "                            if  itemMatrix[p][k] > 0:\n",
    "                                pallet[i+p][j+k] += itemMatrix[p][k]\n",
    "                                k+=1\n",
    "                            else:\n",
    "                                k-= itemMatrix[p][k]\n",
    "\n",
    "                            # print(k)\n",
    "\n",
    "                    break\n",
    "                j+=1\n",
    "            else:\n",
    "                exit = True\n",
    "                j+=surf\n",
    "                \n",
    "            \n",
    "        if not exit:\n",
    "            # print(i,j,'finish')\n",
    "            break\n",
    "\n",
    "    return pallet, exit"
   ]
  },
  {
   "cell_type": "code",
   "execution_count": 44,
   "metadata": {},
   "outputs": [],
   "source": [
    "def fit_item_all_route(pallet, item):\n",
    "    listMatrix = item.listMatrix \n",
    "\n",
    "\n",
    "    bonder = len(pallet)\n",
    "    \n",
    "    copyPallet = copy.deepcopy(pallet)\n",
    "\n",
    "    exit = True\n",
    "    for r in range(4):\n",
    "        copyItem = copy.deepcopy(item)\n",
    "        sol = fit_item(copy.deepcopy(copyPallet), copyItem, listMatrix[r])\n",
    "        if sol[1] == False:\n",
    "            if copyItem.lb_x  + len(listMatrix[r]) <=  bonder:\n",
    "  \n",
    "                item.lb_x = copyItem.lb_x\n",
    "                item.lb_y = copyItem.lb_y\n",
    "                pallet = sol[0]\n",
    "                item.rotation = r * math.pi / 2\n",
    "                exit = False\n",
    "                bonder = copyItem.lb_x  + len(listMatrix[r])\n",
    "\n",
    "        \n",
    "        \n",
    "    \n",
    "\n",
    "    \n",
    "    return pallet, exit"
   ]
  },
  {
   "cell_type": "code",
   "execution_count": 45,
   "metadata": {
    "collapsed": false,
    "pycharm": {
     "name": "#%%\n"
    }
   },
   "outputs": [],
   "source": [
    "def find_lb_coordinates(items, eps):\n",
    "    for item in items:\n",
    "        item.lb_x = item.lb_x * eps\n",
    "        item.lb_y = item.lb_y * eps\n",
    "        \n",
    "    return items"
   ]
  },
  {
   "cell_type": "code",
   "execution_count": 46,
   "metadata": {
    "collapsed": false,
    "pycharm": {
     "name": "#%%\n"
    }
   },
   "outputs": [],
   "source": [
    "\n",
    "\n",
    "# # для того что бы убрать поворот, замени метод fit_item_all_route  на fit_item\n",
    "def fit_pallets(matrix, items, eps):\n",
    "    pallets = []\n",
    "    pallets.append(copy.deepcopy(matrix))\n",
    "    for item in items:\n",
    "        i=0\n",
    "        exit = True\n",
    "        while exit and i<len(pallets):\n",
    "            # print(i)\n",
    "            pallets[i], exit = fit_item_all_route(pallets[i], item)\n",
    "            if exit and i==(len(pallets)-1):\n",
    "                pallets.append(copy.deepcopy(matrix))\n",
    "            if not exit:\n",
    "                item.pallet_number = i\n",
    "                # print(i)\n",
    "            i+=1\n",
    "\n",
    "    # print_matrix(pallets)\n",
    "    find_lb_coordinates(items, eps)\n",
    "\n",
    "    return pallets\n",
    "\n",
    "# def fit_pallets(matrix, items, eps):\n",
    "#     pallets = []\n",
    "#     pallets.append(copy.deepcopy(matrix))\n",
    "#     for item in items:\n",
    "#         i=0\n",
    "#         exit = True\n",
    "#         while exit and i<len(pallets):\n",
    "#             # print(i)\n",
    "#             pallets[i], exit = fit_item(pallets[i], item)\n",
    "#             if exit and i==(len(pallets)-1):\n",
    "#                 pallets.append(copy.deepcopy(matrix))\n",
    "#             if not exit:\n",
    "#                 item.pallet_number = i\n",
    "#                 # print(i)\n",
    "#             i+=1\n",
    "\n",
    "#     # print_matrix(pallets)\n",
    "#     find_lb_coordinates(items, eps)\n",
    "\n",
    "#     return pallets\n",
    "\n"
   ]
  },
  {
   "cell_type": "code",
   "execution_count": 47,
   "metadata": {
    "collapsed": false,
    "pycharm": {
     "name": "#%%\n"
    }
   },
   "outputs": [],
   "source": [
    "def understand_pallets(items):\n",
    "    packing = []\n",
    "    usedNumPallet = max([item.pallet_number for item in items])\n",
    "\n",
    "    for i in range(usedNumPallet  + 1):\n",
    "        # print(i)\n",
    "        packing.append([])\n",
    "\n",
    "    for i in range(usedNumPallet  + 1):\n",
    "        for item in items:\n",
    "            if item.pallet_number > len(packing):\n",
    "                    packing.append([])\n",
    "            if item.pallet_number == i:\n",
    "                packing[i].append(item)\n",
    "\n",
    "    return packing\n",
    "\n",
    "\n",
    "# def draw_all_pallets(packing):\n",
    "#     # print(len(packing))\n",
    "#     for i in range(len(packing)):\n",
    "#         # print(i)\n",
    "#         draw_pallet(packing[i], pallet_width, pallet_height)"
   ]
  },
  {
   "cell_type": "code",
   "execution_count": 48,
   "metadata": {
    "collapsed": false,
    "pycharm": {
     "name": "#%%\n"
    }
   },
   "outputs": [],
   "source": [
    "\n",
    "\n",
    "def swap(list, pos1, pos2):\n",
    "\n",
    "    list[pos1], list[pos2] = list[pos2], list[pos1]\n",
    "    return list\n",
    "\n",
    "\n",
    "#  алгоритм локального поиска\n",
    "def locSearch(matrix, poligons, eps):\n",
    "\n",
    "    n = len( poligons)\n",
    "\n",
    "    objVal = len(fit_pallets(matrix,  poligons, eps))\n",
    "\n",
    "    poligonsBest = copy.deepcopy(poligons)\n",
    "\n",
    "    betterNeighboor = (0,0)\n",
    "    stop = False\n",
    "    while not stop:\n",
    "        \n",
    "        stop = True\n",
    "        for i in range(n):\n",
    "            for j in range(i + 1, n):\n",
    "                pal = fit_pallets(matrix, swap(copy.deepcopy(poligonsBest), i, j), eps)\n",
    "                val = len(pal)\n",
    "                if val < objVal:\n",
    "                    stop = False\n",
    "                    objVal = val\n",
    "                    print(objVal)\n",
    "                    betterNeighboor = (i,j)\n",
    "                    fit_pallets(matrix, swap(poligonsBest, i, j), eps)\n",
    "                    # draw_all_pallets(understand_pallets(poligonsBest))\n",
    "                if betterNeighboor[1] != 0:\n",
    "                    swap( poligonsBest, betterNeighboor[0], betterNeighboor[1])\n",
    "                # print(i,j)print([poligon.pallet_number for poligon in poligonsBest])\n",
    "                \n",
    "\n",
    "    # for item in poligonsBest:\n",
    "    #     print(item.lb_x, item.lb_y, item.rotation)\n",
    "    draw_all_pallets(understand_pallets(poligonsBest), pallet_width, pallet_height)\n",
    "\n",
    "    return objVal\n",
    "\n"
   ]
  },
  {
   "cell_type": "code",
   "execution_count": 49,
   "metadata": {
    "collapsed": false,
    "pycharm": {
     "name": "#%%\n"
    }
   },
   "outputs": [
    {
     "name": "stdout",
     "output_type": "stream",
     "text": [
      "0.05285978317260742\n"
     ]
    },
    {
     "data": {
      "image/png": "[encoded data removed]",
      "text/plain": [
       "<Figure size 432x288 with 1 Axes>"
      ]
     },
     "metadata": {
      "needs_background": "light"
     },
     "output_type": "display_data"
    }
   ],
   "source": [
    "# print(len(fit_pallets(pal.matrix, items, eps)))\n",
    "t = time.time()\n",
    "fit_pallets(pal.matrix, items, eps)\n",
    "\n",
    "print(time.time() - t)\n",
    "draw_all_pallets(understand_pallets(items), pallet_width, pallet_height)\n",
    "# for pal in fit_pallets(pal.matrix, items, eps):\n",
    "#     print_matrix(pal)\n",
    "# pdb.set_trace()\n",
    "# t = time.time()\n",
    "# print(items)\n",
    "# fit_pallets(pal.matrix,  items, eps)\n",
    "# print(time.time() - t)\n",
    "# print(fit_item(fit_item(matrix, items[2])[0],items[1]) )\n",
    "# fit_pallets(matrix, [items[2],items[1]], eps)\n",
    "# draw_all_pallets(understand_pallets(poligonsBest))\n",
    "#"
   ]
  }
 ],
 "metadata": {
  "kernelspec": {
   "display_name": "Python 3.9.0 64-bit (system)",
   "language": "python",
   "name": "python3"
  },
  "language_info": {
   "codemirror_mode": {
    "name": "ipython",
    "version": 3
   },
   "file_extension": ".py",
   "mimetype": "text/x-python",
   "name": "python",
   "nbconvert_exporter": "python",
   "pygments_lexer": "ipython3",
   "version": "3.9.0"
  },
  "vscode": {
   "interpreter": {
    "hash": "07c61e4b56e957badf6e86e4ae70dd86e7f98c6ee07e21fa4dc3b6ea86653a5b"
   }
  }
 },
 "nbformat": 4,
 "nbformat_minor": 0
}
