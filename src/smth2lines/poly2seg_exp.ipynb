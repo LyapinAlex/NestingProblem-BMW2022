{
 "cells": [
  {
   "cell_type": "code",
   "execution_count": 1,
   "metadata": {
    "collapsed": true,
    "pycharm": {
     "name": "#%%\n"
    }
   },
   "outputs": [],
   "source": [
    "from src.smth2matrix.shift2zero import shift2zero\n",
    "import numpy as np\n",
    "from math import ceil, floor\n",
    "import math\n",
    "\n",
    "def line(p1, p2):\n",
    "    A = (p1[1] - p2[1])\n",
    "    B = (p2[0] - p1[0])\n",
    "    C = (p1[0]*p2[1] - p2[0]*p1[1])\n",
    "    return A, B, -C\n",
    "\n",
    "def intersection(points1, points2):\n",
    "    L1 = line(points1[0], points1[1])\n",
    "    L2 = line(points2[0], points2[1])\n",
    "    D  = L1[0] * L2[1] - L1[1] * L2[0]\n",
    "    Dx = L1[2] * L2[1] - L1[1] * L2[2]\n",
    "    Dy = L1[0] * L2[2] - L1[2] * L2[0]\n",
    "    if D != 0:\n",
    "        x = Dx / D\n",
    "        y = Dy / D\n",
    "        return x,y\n",
    "    else:\n",
    "        return False"
   ]
  },
  {
   "cell_type": "code",
   "execution_count": 2,
   "outputs": [
    {
     "data": {
      "text/plain": "<Figure size 432x288 with 1 Axes>",
      "image/png": "[encoded data removed]"
     },
     "metadata": {
      "needs_background": "light"
     },
     "output_type": "display_data"
    }
   ],
   "source": [
    "from copy import copy\n",
    "\n",
    "\n",
    "from matplotlib import pyplot as plt, patches\n",
    "\n",
    "h = 0.5\n",
    "# points = np.array([[0.3, 3], [1, 0], [2.1, 0], [3, 3.7]])\n",
    "\n",
    "# points = np.array([[1.8 ,2.7],\n",
    "#  [1.6 ,2.8],\n",
    "#  # [1.69276116 ,2.40918685],\n",
    "#  [0.97614341, 2.27911778],\n",
    "#  [1.18717325, 1.35598215],\n",
    "#  [0.         ,0.91673339],\n",
    "#  [0.62090266, 0.2566332 ],\n",
    "#  [1.56841545, 0.79986711],\n",
    "#  [1.99697896, 0.        ],\n",
    "#  [1.80357704, 1.01107135],\n",
    "#  [2., 1.3],\n",
    "#  # [1.80357704, 0.9],\n",
    "#  # [2.4401742,  1.01461923],\n",
    "#  [2.84740494, 1.65159917],\n",
    "#  [2., 2.2]])\n",
    "\n",
    "# points = np.array([\n",
    "#  [1.99697896, 0.        ],\n",
    "#  [1.80357704, 1.01107135],\n",
    "#  [2., 1.3],\n",
    "#  # [1.80357704, 0.9],\n",
    "#  # [2.4401742,  1.01461923],\n",
    "#  [2.84740494, 1.65159917],\n",
    "#  [2., 2.2],\n",
    "# [1.8 ,2.7],\n",
    "#  [1.6 ,2.8],\n",
    "#  # [1.69276116 ,2.40918685],\n",
    "#  [0.97614341, 2.27911778],\n",
    "#  [1.18717325, 1.35598215],\n",
    "#  [0.         ,0.91673339],\n",
    "#  [0.62090266, 0.2566332 ],\n",
    "#  [1.56841545, 0.79986711]])\n",
    "\n",
    "# points = np.array(\n",
    "#     [[1.16442823, 1.46727502],\n",
    "#  [0.,        1.17510501],\n",
    "#  [0.90077176, 0.6740165 ],\n",
    "#  [1.33001868, 0.44479351],\n",
    "#  [1.91851084, 0.        ],\n",
    "#  [1.94288971, 0.89913787],\n",
    "#  [3.0009717,  1.12120661],\n",
    "#  [2.32237597, 1.64758519],\n",
    "#  [1.87844576, 1.93375824],\n",
    "#  [1.23398798, 2.36786653]]\n",
    "# )\n",
    "points = np.array(\n",
    "[[7.51704121, 0.        ],\n",
    " [9.51225862, 0.65143002],\n",
    " [9.51091533, 1.81777592],\n",
    " [8.40469702, 1.88897237]])\n",
    "\n",
    "# points = np.array([[1.90100762, 0.47155354],\n",
    "#  [1.76649848, 1.17439243],\n",
    "#  [1.0961219,  1.29424416],\n",
    "#  [0.82402157, 1.57594359],\n",
    "#  [0.5651551,  1.27118921],\n",
    "#  [0.51015571, 1.01069367],\n",
    "#  [0.,       0.38886588],\n",
    "#  [0.71508271, 0.45066823],\n",
    "#  [1.31448442, 0.        ]])\n",
    "\n",
    "# points = np.array([[0.03145451, 0.49118414],\n",
    "#  [0.04033681, 0.25536625],\n",
    "#  [0.,        0.00952259],\n",
    "#  [0.2421943,  0.        ],\n",
    "#  [0.34014688, 0.16533801],\n",
    "#  [0.5874991,  0.12259068],\n",
    "#  [0.4587838,  0.30200153],\n",
    "#  [0.43832024, 0.45815434],\n",
    "#  [0.26090668, 0.55609686]])\n",
    "\n",
    "# points = np.array([[0.15768241, 1.58186696],\n",
    "#  [0.,        1.26391856],\n",
    "#  [0.3695445,  1.2       ],\n",
    "#  [1.0803024,  1.36436947],\n",
    "#  [0.47897582, 1.83433517]])\n",
    "\n",
    "# points = [[5.0, 837.0], [0.0, 516.0], [6.0, 195.0], [156.0, 177.0], [264.0, 146.0], [428.0, 99.0], [552.0, 67.0], [685.0, 36.0], [863.0, 0.0], [993.0, 155.0], [1080.0, 217.0], [1216.0, 284.0], [1324.0, 310.0], [1486.0, 311.0], [1602.0, 297.0], [1742.0, 273.0], [1724.0, 397.0], [1713.0, 520.0], [1723.0, 643.0], [1741.0, 767.0], [1601.0, 742.0], [1485.0, 728.0], [1323.0, 728.0], [1215.0, 754.0], [1079.0, 820.0], [991.0, 882.0], [861.0, 1036.0], [683.0, 999.0], [550.0, 968.0], [426.0, 935.0], [262.0, 887.0], [154.0, 856.0]]\n",
    "\n",
    "fig, ax = plt.subplots()\n",
    "\n",
    "ax.set_xlim(-0.5, 1 + 2)\n",
    "ax.set_ylim(-0.5, 1 + 2)\n",
    "\n",
    "# ax.set_xlim(-0.5, 4)\n",
    "# ax.set_ylim(-0.5, 4)\n",
    "\n",
    "figure = patches.Polygon(points,\n",
    "                            linewidth=1,\n",
    "                            edgecolor='red',\n",
    "                            fill=False)\n",
    "ax.add_patch(figure)\n",
    "\n",
    "plt.show()\n"
   ],
   "metadata": {
    "collapsed": false,
    "pycharm": {
     "name": "#%%\n"
    }
   }
  },
  {
   "cell_type": "code",
   "execution_count": 3,
   "outputs": [
    {
     "name": "stdout",
     "output_type": "stream",
     "text": [
      "[[], [], [], [], []]\n"
     ]
    }
   ],
   "source": [
    "shift2zero(points)\n",
    "\n",
    "n_x1 = 0\n",
    "n_y1 = 0\n",
    "for point in points:\n",
    "    if point[0] > n_x1:\n",
    "        n_x1 = copy(point[0])\n",
    "    if point[1] > n_y1:\n",
    "        n_y1 = copy(point[1])\n",
    "n_x = ceil(n_x1 / h)\n",
    "n_y = ceil(n_y1 / h)\n",
    "\n",
    "lines = []\n",
    "for _ in range(n_y+1):\n",
    "    lines.append([])\n",
    "print(lines)"
   ],
   "metadata": {
    "collapsed": false,
    "pycharm": {
     "name": "#%%\n"
    }
   }
  },
  {
   "cell_type": "code",
   "execution_count": 4,
   "outputs": [
    {
     "name": "stdout",
     "output_type": "stream",
     "text": [
      "[[[0.0, 0.0]], [[1.5314134663305816, 0.23495733026523835]], [[1.9948159591367234, 0.4699146605304767]], [[1.9942401050954817, 0.704871990795715]], []]\n"
     ]
    }
   ],
   "source": [
    "for k in range(0, n_y+1):\n",
    "    start = None\n",
    "    end = None\n",
    "    intersection_start = None\n",
    "    intersection_end = None\n",
    "    counter = 0\n",
    "    i0 = 0\n",
    "    while i0 < len(points):\n",
    "        # if i < points.shape[0]:\n",
    "        #     i0 = i\n",
    "        # else:\n",
    "        #     i0 = points.shape[0] - i\n",
    "        if i0 == len(points)-1:\n",
    "            i1 = 0\n",
    "        else:\n",
    "            i1 = (i0 + 1)\n",
    "        if i0 == 0:\n",
    "            i2 = len(points)-1\n",
    "        else:\n",
    "            i2 = (i0 - 1)\n",
    "\n",
    "        #вершина лежит на линии\n",
    "        if points[i0][1] == k*h:\n",
    "            if points[i2][1] < k*h and points[i1][1] < k*h:\n",
    "                lines[k].append([points[i0][0], points[i0][0]])\n",
    "            elif points[i2][1] > k*h and points[i1][1] > k*h:\n",
    "                lines[k].append([points[i0][0], points[i0][0]])\n",
    "            else:\n",
    "                if start is None:\n",
    "                    start = copy(points[i0][0])\n",
    "                else:\n",
    "                    end = copy(points[i0][0])\n",
    "\n",
    "        #ребро пересекает линию\n",
    "        elif points[i0][1] < k*h < points[i1][1] or points[i1][1] < k*h < points[i0][1]:\n",
    "            intersection_point = intersection([points[i0], points[i1]], [[0, k*h], [n_x, k*h]])[0]\n",
    "            if start is None:\n",
    "                start = copy(intersection_point)\n",
    "            else:\n",
    "                end = copy(intersection_point)\n",
    "        if k == 5:\n",
    "            print('start:', start, 'end:', end)\n",
    "\n",
    "        if end is not None:\n",
    "            lines[k].append([start, end])\n",
    "            start = None\n",
    "            end = None\n",
    "        i0 += 1\n",
    "\n",
    "print(lines)"
   ],
   "metadata": {
    "collapsed": false,
    "pycharm": {
     "name": "#%%\n"
    }
   }
  },
  {
   "cell_type": "code",
   "execution_count": 5,
   "outputs": [
    {
     "name": "stdout",
     "output_type": "stream",
     "text": [
      "case1 [1.99521741 0.65143002]\n",
      "case2 [1.99387412 1.81777592]\n",
      "case2 [1.99387412 1.81777592]\n",
      "case1 [1.99521741 0.65143002]\n",
      "case2 [0. 0.]\n",
      "case1 [1.99387412 1.81777592]\n",
      "case2 [0. 0.]\n",
      "case1 [1.99387412 1.81777592]\n"
     ]
    }
   ],
   "source": [
    "k_prev = 0\n",
    "k_next = 0\n",
    "point_prev = None\n",
    "point_next = None\n",
    "for k in range(0, n_y+1):\n",
    "# for k in range(0, 1):\n",
    "    min = n_x1\n",
    "    max = 0\n",
    "    i0 = 0\n",
    "    while i0 < 2*len(points):\n",
    "        if i0 < len(points):\n",
    "            i = i0\n",
    "        else:\n",
    "            i = len(points) - i0\n",
    "        # if i == len(points):\n",
    "        #     i = -1\n",
    "        if i == len(points)-1:\n",
    "            i_next = 0\n",
    "        else:\n",
    "            i_next = (i + 1)\n",
    "        if i == 0:\n",
    "            i_prev = len(points)-1\n",
    "        else:\n",
    "            i_prev = (i - 1)\n",
    "        if (k+1)*h >= points[i][1] > k*h >= points[i_prev][1] or k*h < points[i][1] <= (k + 1)*h <= points[i_prev][1]:\n",
    "            print('case1', points[i])\n",
    "            if points[i_prev][1] <= k*h:\n",
    "                k_prev = -1\n",
    "                k_next = 0\n",
    "                intersection_point = intersection([points[i_prev], points[i]], [[0, k*h], [n_x, k*h]])[0]\n",
    "                point_prev = copy(intersection_point)\n",
    "                point_next = None\n",
    "                if max < points[i][0]:\n",
    "                    max = copy(points[i][0])\n",
    "                if min > points[i][0]:\n",
    "                    min = copy(points[i][0])\n",
    "            elif points[i_prev][1] >= (k+1)*h:\n",
    "                k_prev = 1\n",
    "                k_next = 0\n",
    "                # print([points[i_prev], points[i]], [[0, (k+1)*h], [n_x, (k+1)*h]])\n",
    "                intersection_point = intersection([points[i_prev], points[i]], [[0, (k+1)*h], [n_x, (k+1)*h]])[0]\n",
    "                point_prev = copy(intersection_point)\n",
    "                point_next = None\n",
    "                if max < points[i][0]:\n",
    "                    max = copy(points[i][0])\n",
    "                if min > points[i][0]:\n",
    "                    min = copy(points[i][0])\n",
    "        elif points[i][1] <= k*h < points[i_prev][1] <= (k + 1)*h or k*h < points[i_prev][1] <= (k + 1)*h and points[i][1] >= (k+1)*h:\n",
    "            # print('case2', points[i], k)\n",
    "            print('case2', points[i])\n",
    "            if points[i][1] <= k*h:\n",
    "                k_next = -1\n",
    "                intersection_point = intersection([points[i_prev], points[i]], [[0, k*h], [n_x, k*h]])[0]\n",
    "                point_next = copy(intersection_point)\n",
    "            elif points[i][1] >= (k+1)*h:\n",
    "                k_next = 1\n",
    "                intersection_point = intersection([points[i_prev], points[i]], [[0, (k + 1)*h], [n_x, (k + 1)*h]])[0]\n",
    "                point_next= copy(intersection_point)\n",
    "        elif k*h < points[i][1] <= (k + 1)*h and k*h < points[i_prev][1] <= (k + 1)*h:\n",
    "            if max < points[i][0]:\n",
    "                max = copy(points[i][0])\n",
    "            if min > points[i][0]:\n",
    "                min = copy(points[i][0])\n",
    "            i0+=1\n",
    "            continue\n",
    "        if k_prev * k_next != 0:\n",
    "            if k_prev * k_next == 1 and not (i==0 and i0==0):\n",
    "                if k_prev == -1:\n",
    "                    # print('Здесь', [min, max], i, i0, k)\n",
    "                    k_prev = 0\n",
    "                    k_next = 0\n",
    "                    lines[k+1].append([min,max])\n",
    "                    if min < point_prev and min < point_next:\n",
    "                        if point_prev < point_next:\n",
    "                            lines[k].append([min,point_prev])\n",
    "                        elif point_next < point_prev:\n",
    "                            lines[k].append([min,point_next])\n",
    "                    if max > point_prev and max > point_next:\n",
    "                        if point_prev > point_next:\n",
    "                            lines[k].append([point_prev, max])\n",
    "                        elif point_next > point_prev:\n",
    "                            lines[k].append([point_next, max])\n",
    "                    min = n_x1\n",
    "                    max = 0\n",
    "                if k_prev == 1:\n",
    "                    k_prev = 0\n",
    "                    k_next = 0\n",
    "                    lines[k].append([min, max])\n",
    "                    if min < point_prev and min < point_next:\n",
    "                        if point_prev < point_next:\n",
    "                            lines[k+1].append([min,point_prev])\n",
    "                        elif point_next < point_prev:\n",
    "                            lines[k+1].append([min,point_next])\n",
    "                    if max > point_prev and max > point_next:\n",
    "                        if point_prev > point_next:\n",
    "                            lines[k+1].append([point_prev, max])\n",
    "                        elif point_next > point_prev:\n",
    "                            lines[k+1].append([point_next, max])\n",
    "                    min = n_x1\n",
    "                    max = 0\n",
    "            elif k_prev * k_next == -1:\n",
    "                if k_prev == -1:\n",
    "                    if min < point_prev:\n",
    "                        lines[k].append([min, point_prev])\n",
    "                    if max > point_prev:\n",
    "                        lines[k].append([point_prev, max])\n",
    "                    if min < point_next:\n",
    "                        lines[k+1].append([min, point_next])\n",
    "                    if max > point_next:\n",
    "                        lines[k+1].append([point_next, max])\n",
    "                    k_prev = 0\n",
    "                    k_next = 0\n",
    "                    min = n_x1\n",
    "                    max = 0\n",
    "                elif k_prev == 1:\n",
    "                    # print('case1', [min, max], [point_prev, point_next])\n",
    "                    if min < point_prev:\n",
    "                        # print('1', [min, point_prev])\n",
    "                        lines[k+1].append([min, point_prev])\n",
    "                    if max > point_prev:\n",
    "                        # print('2',[point_prev, max])\n",
    "                        lines[k+1].append([point_prev, max])\n",
    "                    if min < point_next:\n",
    "                        # print('3',[min, point_next])\n",
    "                        lines[k].append([min, point_next])\n",
    "                    if max > point_next:\n",
    "                        # print('4',[point_next, max])\n",
    "                        lines[k].append([point_next, max])\n",
    "                    k_prev = 0\n",
    "                    k_next = 0\n",
    "                    min = n_x1\n",
    "                    max = 0\n",
    "            k_prev = 0\n",
    "            k_next = 0\n",
    "        i0+=1\n",
    "\n"
   ],
   "metadata": {
    "collapsed": false,
    "pycharm": {
     "name": "#%%\n"
    }
   }
  },
  {
   "cell_type": "code",
   "execution_count": 6,
   "outputs": [
    {
     "name": "stdout",
     "output_type": "stream",
     "text": [
      "[[0.0, 0.0]]\n",
      "[[1.5314134663305816, 0.23495733026523835], [1.5314134663305816, 1.9952174100000004]]\n",
      "[[1.9948159591367234, 0.4699146605304767], [1.9948159591367234, 1.9952174100000004]]\n",
      "[[1.9942401050954817, 0.704871990795715]]\n",
      "[[0.88765581, 1.9938741199999992]]\n"
     ]
    }
   ],
   "source": [
    "for line in lines:\n",
    "    print(line)"
   ],
   "metadata": {
    "collapsed": false,
    "pycharm": {
     "name": "#%%\n"
    }
   }
  },
  {
   "cell_type": "code",
   "execution_count": 7,
   "outputs": [],
   "source": [
    "# from copy import copy\n",
    "#\n",
    "# # для всех прямых:\n",
    "# for i in range(len(lines) - 2):\n",
    "#     for j in range(len(lines[i])):\n",
    "#         segment = lines[i][j]\n",
    "#         stop = False\n",
    "#         j = 0\n",
    "#         while j <= len(lines[i+1]) - 1 and not stop:\n",
    "#             if j == len(lines[i+1]) - 1 and lines[i+1][j][1] < segment[0]:\n",
    "#                 if len(lines[i]) - 1 == 0 or lines[i][j-1][1] < lines[i+1][j][1]:\n",
    "#                     print(i)\n",
    "#                     lines[i+1][j][1] = copy(segment[0])\n",
    "#                     stop = True\n",
    "#             elif lines[i+1][j][1] < segment[0] < lines[i+1][j + 1][0] and lines[i+1][j][1] < segment[1] < lines[i+1][j + 1][0]:\n",
    "#                 lines[i+1][j][1] = copy(segment[0])\n",
    "#                 stop = True\n",
    "#             j+=1\n",
    "# # для последней прямой:\n",
    "# i = len(lines)\n",
    "# for segment in lines[i - 1]:\n",
    "#     stop = False\n",
    "#     j = 0\n",
    "#     while j < len(lines[i-2]) and not stop:\n",
    "#         if j != len(lines[i-2]) - 1:\n",
    "#             if lines[i-2][j][1] < segment[0] < lines[i-2][j + 1][0] and lines[i-2][j][1] < segment[1] < lines[i-2][j + 1][0]:\n",
    "#                 lines[i-2][j][1] = copy(segment[0])\n",
    "#                 stop = True\n",
    "#         elif lines[i-2][j][1] < segment[0]:\n",
    "#                 lines[i-2][j][1] = copy(segment[0])\n",
    "#                 stop = True\n",
    "#         j += 1"
   ],
   "metadata": {
    "collapsed": false,
    "pycharm": {
     "name": "#%%\n"
    }
   }
  },
  {
   "cell_type": "code",
   "execution_count": 8,
   "outputs": [],
   "source": [
    "def first_elem(e):\n",
    "  return e[0]\n",
    "\n",
    "for line in lines:\n",
    "    for segment in line:\n",
    "        segment.sort()\n",
    "    line.sort(key=first_elem)\n",
    "    i = 0\n",
    "    while i < (len(line) - 1):\n",
    "        if line[i][1] == line[i+1][0]:\n",
    "            line[i][1] = line[i+1][1]\n",
    "            line.pop(i+1)\n",
    "            continue\n",
    "        if line[i][1] > line[i+1][0]:\n",
    "            if line[i][1] < line[i+1][1]:\n",
    "                line[i][1] = line[i+1][1]\n",
    "                line.pop(i+1)\n",
    "                continue\n",
    "        if line[i][1] > line[i+1][0]:\n",
    "            if line[i][1] >= line[i+1][1]:\n",
    "                line.pop(i+1)\n",
    "                continue\n",
    "        i+=1\n",
    "    # print('done',line)\n"
   ],
   "metadata": {
    "collapsed": false,
    "pycharm": {
     "name": "#%%\n"
    }
   }
  },
  {
   "cell_type": "code",
   "execution_count": 9,
   "outputs": [
    {
     "data": {
      "text/plain": "<Figure size 432x288 with 1 Axes>",
      "image/png": "[encoded data removed]"
     },
     "metadata": {
      "needs_background": "light"
     },
     "output_type": "display_data"
    }
   ],
   "source": [
    "\n",
    "from matplotlib import pyplot as plt, patches\n",
    "\n",
    "pallet_width = n_x1\n",
    "pallet_height = n_y1\n",
    "\n",
    "fig, ax = plt.subplots()\n",
    "\n",
    "ax.set_xlim(-0.5, pallet_width + 2)\n",
    "ax.set_ylim(-0.5, pallet_height + 2)\n",
    "\n",
    "for i in range(len(lines)):\n",
    "    plt.plot([0, pallet_width], [i*h, i*h], color = 'black', linestyle=':')\n",
    "\n",
    "figure = patches.Polygon(points,\n",
    "                            linewidth=1,\n",
    "                            edgecolor='red',\n",
    "                            fill=False)\n",
    "ax.add_patch(figure)\n",
    "\n",
    "for i in range(len(lines)):\n",
    "    for sigment in lines[i]:\n",
    "        if sigment[0] != sigment[1]:\n",
    "            plt.plot(sigment, [i*h, i*h], color = 'blue')\n",
    "        else:\n",
    "            ax.scatter(sigment[0], i*h, color = 'blue', s = 4)\n",
    "\n",
    "plt.savefig('sigments.png')"
   ],
   "metadata": {
    "collapsed": false,
    "pycharm": {
     "name": "#%%\n"
    }
   }
  },
  {
   "cell_type": "code",
   "execution_count": 10,
   "outputs": [
    {
     "name": "stdout",
     "output_type": "stream",
     "text": [
      "[[1.1075616000000004, 0.0013432900000012182]]\n",
      "[[0.0013432900000012182, 1.1075616000000004]]\n",
      "[[1.2903454192042854, 0.0009773049045187499]]\n",
      "[[0.0009773049045187499, 1.2903454192042854]]\n",
      "[[1.5253027494695237, 0.0]]\n",
      "[[0.0, 1.5253027494695237]]\n",
      "[[1.760260079734762, 0.0]]\n",
      "[[0.0, 1.760260079734762]]\n",
      "[[1.9952174100000004, 1.9952174100000004]]\n",
      "[[1.9952174100000004, 1.9952174100000004]]\n"
     ]
    }
   ],
   "source": [
    "max = 0\n",
    "\n",
    "for line in lines:\n",
    "    if max < line[-1][1]:\n",
    "        max = line[-1][1]\n",
    "\n",
    "for line in lines:\n",
    "    # print(line)\n",
    "    for sigment in line:\n",
    "        sigment[0] = abs(sigment[0] - max)\n",
    "        sigment[1] = abs(sigment[1] - max)\n",
    "\n",
    "new_lines = []\n",
    "\n",
    "for _ in range(n_y+1):\n",
    "    new_lines.append([])\n",
    "for i in range(len(lines)):\n",
    "    new_lines[abs(i - (n_y+1))-1] = lines[i]\n",
    "\n",
    "def first_elem(e):\n",
    "    return e[0]\n",
    "\n",
    "for line in new_lines:\n",
    "    print(line)\n",
    "    for segment in line:\n",
    "        segment.sort()\n",
    "    line.sort(key=first_elem)\n",
    "    i = 0\n",
    "    while i < (len(line) - 1):\n",
    "        if line[i][1] == line[i + 1][0]:\n",
    "            line[i][1] = line[i + 1][1]\n",
    "            line.pop(i + 1)\n",
    "            continue\n",
    "        if line[i][1] > line[i + 1][0]:\n",
    "            if line[i][1] < line[i + 1][1]:\n",
    "                line[i][1] = line[i + 1][1]\n",
    "                line.pop(i + 1)\n",
    "                continue\n",
    "        if line[i][1] > line[i + 1][0]:\n",
    "            if line[i][1] >= line[i + 1][1]:\n",
    "                line.pop(i + 1)\n",
    "                continue\n",
    "        i += 1\n",
    "    print(line)\n"
   ],
   "metadata": {
    "collapsed": false,
    "pycharm": {
     "name": "#%%\n"
    }
   }
  },
  {
   "cell_type": "code",
   "execution_count": 11,
   "outputs": [
    {
     "data": {
      "text/plain": "<Figure size 432x288 with 1 Axes>",
      "image/png": "[encoded data removed]"
     },
     "metadata": {
      "needs_background": "light"
     },
     "output_type": "display_data"
    }
   ],
   "source": [
    "from src.class_polygon import Polygon\n",
    "rotated_points = copy(points)\n",
    "polygon = Polygon(rotated_points)\n",
    "polygon.rotate(math.pi)\n",
    "polygon.move_to_origin()\n",
    "rotated_points = polygon.points_to_list()\n",
    "\n",
    "\n",
    "\n",
    "pallet_width = n_x1\n",
    "pallet_height = n_y1\n",
    "\n",
    "fig, ax = plt.subplots()\n",
    "\n",
    "ax.set_xlim(-pallet_width, pallet_width + 2)\n",
    "ax.set_ylim(-pallet_height, pallet_height + 2)\n",
    "\n",
    "for i in range(len(lines)):\n",
    "    plt.plot([0, pallet_width], [i*h, i*h], color = 'black', linestyle=':')\n",
    "\n",
    "figure = patches.Polygon(points,\n",
    "                            linewidth=1,\n",
    "                            edgecolor='red',\n",
    "                            fill=False)\n",
    "ax.add_patch(figure)\n",
    "\n",
    "figure = patches.Polygon(rotated_points,\n",
    "                            linewidth=1,\n",
    "                            edgecolor='green',\n",
    "                            fill=False)\n",
    "ax.add_patch(figure)\n",
    "\n",
    "for i in range(len(new_lines)):\n",
    "    for sigment in new_lines[i]:\n",
    "        if sigment[0] != sigment[1]:\n",
    "            plt.plot(sigment, [i*h, i*h], color = 'blue')\n",
    "        else:\n",
    "            ax.scatter(sigment[0], i*h, color = 'blue', s = 4)\n",
    "\n",
    "plt.show()"
   ],
   "metadata": {
    "collapsed": false,
    "pycharm": {
     "name": "#%%\n"
    }
   }
  }
 ],
 "metadata": {
  "kernelspec": {
   "display_name": "Python 3",
   "language": "python",
   "name": "python3"
  },
  "language_info": {
   "codemirror_mode": {
    "name": "ipython",
    "version": 2
   },
   "file_extension": ".py",
   "mimetype": "text/x-python",
   "name": "python",
   "nbconvert_exporter": "python",
   "pygments_lexer": "ipython2",
   "version": "2.7.6"
  }
 },
 "nbformat": 4,
 "nbformat_minor": 0
}