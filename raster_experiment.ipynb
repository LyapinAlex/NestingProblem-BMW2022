{
 "cells": [
  {
   "cell_type": "code",
   "execution_count": 151,
   "metadata": {
    "collapsed": true,
    "pycharm": {
     "name": "#%%\n"
    }
   },
   "outputs": [],
   "source": [
    "poligon1 = [[5,1,5], [1,1,1], [5,1,5]]\n",
    "poligon2 = [[1,1], [1,0]]\n",
    "poligon3 = [[1,1,1], [0,1,0]]\n",
    "\n",
    "poligons = [poligon1, poligon2, poligon3]\n",
    "\n",
    "matrix = [[1,1,1,0,0,0,0,0],\n",
    "          [0,1,0,0,0,0,0,0],\n",
    "          [0,0,0,0,0,0,0,0],\n",
    "          [0,0,0,0,0,0,0,0],\n",
    "          [0,0,0,0,0,0,0,0],\n",
    "          [0,0,0,0,0,0,0,0],\n",
    "          [0,0,0,0,0,0,0,0]]"
   ]
  },
  {
   "cell_type": "code",
   "execution_count": 152,
   "outputs": [
    {
     "name": "stdout",
     "output_type": "stream",
     "text": [
      "[1, 1, 1, 0, 0, 0, 0, 0] \n",
      "\n",
      "[0, 1, 0, 0, 0, 0, 0, 0] \n",
      "\n",
      "[0, 0, 0, 0, 0, 0, 0, 0] \n",
      "\n",
      "[0, 0, 0, 0, 0, 0, 0, 0] \n",
      "\n",
      "[0, 0, 0, 0, 0, 0, 0, 0] \n",
      "\n",
      "[0, 0, 0, 0, 0, 0, 0, 0] \n",
      "\n",
      "[0, 0, 0, 0, 0, 0, 0, 0] \n",
      "\n"
     ]
    }
   ],
   "source": [
    "def print_matrix(matrix):\n",
    "    for i in range(len(matrix)):\n",
    "        print(matrix[i],'\\n')\n",
    "\n",
    "print_matrix(matrix)\n"
   ],
   "metadata": {
    "collapsed": false,
    "pycharm": {
     "name": "#%%\n"
    }
   }
  },
  {
   "cell_type": "code",
   "execution_count": 153,
   "outputs": [],
   "source": [
    "def fit_item(matrix, item):\n",
    "    mat_dublicated = matrix\n",
    "    for i in range(len(matrix[0])): #разобраться с тем, где какая координата\n",
    "        for j in range(len(matrix)):\n",
    "            mat_dublicated = matrix\n",
    "            exit = False\n",
    "            # условия, что объект влезает\n",
    "            if len(item) + i <= len(matrix) and len(item[0]) + j <= len(matrix[0]):\n",
    "                # распологаем объект\n",
    "                for p in range(len(item)):\n",
    "                    for k in range(len(item[0])):\n",
    "                        if (i+p) < len(matrix) and (j+k)< len(matrix[0]): #ещё с координатами матриц согласовать\n",
    "                            # решаем есть ли пересечение и если нет, то размещаем\n",
    "                            if mat_dublicated[i+p][j+k] + item[p][k] < 2:\n",
    "                                mat_dublicated[i+p][j+k] = mat_dublicated[i+p][j+k] + item[p][k] #заменить на j-k когда будем упаковывать вниз\n",
    "                            else:\n",
    "                                exit = True\n",
    "                                break\n",
    "                    if exit == True:\n",
    "                        break\n",
    "                print_matrix(mat_dublicated)\n",
    "                print('--------------')\n",
    "            if exit == False:\n",
    "                matrix = mat_dublicated\n",
    "                break\n",
    "        if exit == False:\n",
    "            break\n",
    "    return matrix"
   ],
   "metadata": {
    "collapsed": false,
    "pycharm": {
     "name": "#%%\n"
    }
   }
  },
  {
   "cell_type": "code",
   "execution_count": 154,
   "outputs": [
    {
     "name": "stdout",
     "output_type": "stream",
     "text": [
      "[1, 1, 1, 0, 0, 0, 0, 0] \n",
      "\n",
      "[0, 1, 0, 0, 0, 0, 0, 0] \n",
      "\n",
      "[0, 0, 0, 0, 0, 0, 0, 0] \n",
      "\n",
      "[0, 0, 0, 0, 0, 0, 0, 0] \n",
      "\n",
      "[0, 0, 0, 0, 0, 0, 0, 0] \n",
      "\n",
      "[0, 0, 0, 0, 0, 0, 0, 0] \n",
      "\n",
      "[0, 0, 0, 0, 0, 0, 0, 0] \n",
      "\n",
      "--------------\n",
      "[1, 1, 1, 0, 0, 0, 0, 0] \n",
      "\n",
      "[0, 1, 0, 0, 0, 0, 0, 0] \n",
      "\n",
      "[0, 0, 0, 0, 0, 0, 0, 0] \n",
      "\n",
      "[0, 0, 0, 0, 0, 0, 0, 0] \n",
      "\n",
      "[0, 0, 0, 0, 0, 0, 0, 0] \n",
      "\n",
      "[0, 0, 0, 0, 0, 0, 0, 0] \n",
      "\n",
      "[0, 0, 0, 0, 0, 0, 0, 0] \n",
      "\n",
      "--------------\n",
      "[1, 1, 1, 0, 0, 0, 0, 0] \n",
      "\n",
      "[0, 1, 0, 0, 0, 0, 0, 0] \n",
      "\n",
      "[0, 0, 0, 0, 0, 0, 0, 0] \n",
      "\n",
      "[0, 0, 0, 0, 0, 0, 0, 0] \n",
      "\n",
      "[0, 0, 0, 0, 0, 0, 0, 0] \n",
      "\n",
      "[0, 0, 0, 0, 0, 0, 0, 0] \n",
      "\n",
      "[0, 0, 0, 0, 0, 0, 0, 0] \n",
      "\n",
      "--------------\n",
      "[1, 1, 1, 1, 1, 1, 0, 0] \n",
      "\n",
      "[0, 1, 0, 0, 1, 0, 0, 0] \n",
      "\n",
      "[0, 0, 0, 0, 0, 0, 0, 0] \n",
      "\n",
      "[0, 0, 0, 0, 0, 0, 0, 0] \n",
      "\n",
      "[0, 0, 0, 0, 0, 0, 0, 0] \n",
      "\n",
      "[0, 0, 0, 0, 0, 0, 0, 0] \n",
      "\n",
      "[0, 0, 0, 0, 0, 0, 0, 0] \n",
      "\n",
      "--------------\n"
     ]
    },
    {
     "data": {
      "text/plain": "[[1, 1, 1, 1, 1, 1, 0, 0],\n [0, 1, 0, 0, 1, 0, 0, 0],\n [0, 0, 0, 0, 0, 0, 0, 0],\n [0, 0, 0, 0, 0, 0, 0, 0],\n [0, 0, 0, 0, 0, 0, 0, 0],\n [0, 0, 0, 0, 0, 0, 0, 0],\n [0, 0, 0, 0, 0, 0, 0, 0]]"
     },
     "execution_count": 154,
     "metadata": {},
     "output_type": "execute_result"
    }
   ],
   "source": [
    "fit_item(matrix, poligon3)\n"
   ],
   "metadata": {
    "collapsed": false,
    "pycharm": {
     "name": "#%%\n"
    }
   }
  }
 ],
 "metadata": {
  "kernelspec": {
   "display_name": "Python 3",
   "language": "python",
   "name": "python3"
  },
  "language_info": {
   "codemirror_mode": {
    "name": "ipython",
    "version": 2
   },
   "file_extension": ".py",
   "mimetype": "text/x-python",
   "name": "python",
   "nbconvert_exporter": "python",
   "pygments_lexer": "ipython2",
   "version": "2.7.6"
  }
 },
 "nbformat": 4,
 "nbformat_minor": 0
}