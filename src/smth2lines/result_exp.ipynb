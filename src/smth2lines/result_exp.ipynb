{
 "cells": [
  {
   "cell_type": "code",
   "execution_count": 4,
   "outputs": [],
   "source": [
    "from matplotlib import patches\n",
    "import matplotlib.pyplot as plt\n",
    "from src.smth2matrix.shift2zero import shift2zero\n",
    "import numpy as np\n",
    "from src.greedy_alg.class_pallets import Pallets\n",
    "from src.class_item import Item\n",
    "\n",
    "from copy import copy"
   ],
   "metadata": {
    "collapsed": false,
    "pycharm": {
     "name": "#%%\n"
    }
   }
  },
  {
   "cell_type": "code",
   "execution_count": 5,
   "outputs": [],
   "source": [
    "def draw_segments(item):\n",
    "    pallet_width = 10\n",
    "    pallet_height = 30\n",
    "\n",
    "    fig, ax = plt.subplots()\n",
    "\n",
    "    ax.set_xlim(-0.5, pallet_width + 2)\n",
    "    ax.set_ylim(-0.5, pallet_height + 2)\n",
    "\n",
    "    for i in range(len(item.segments)):\n",
    "        plt.plot([0, pallet_width], [i*h, i*h], color = 'black', linestyle=':')\n",
    "\n",
    "    figure = patches.Polygon(points,\n",
    "                                linewidth=1,\n",
    "                                edgecolor='red',\n",
    "                                fill=False)\n",
    "    ax.add_patch(figure)\n",
    "\n",
    "    for i in range(len(item.segments)):\n",
    "        for sigment in item.segments[i]:\n",
    "            if sigment[0] != sigment[1]:\n",
    "                plt.plot(sigment, [i*h, i*h], color = 'blue')\n",
    "            else:\n",
    "                ax.scatter(sigment[0], i*h, color = 'blue', s = 4)\n",
    "\n",
    "    plt.show()"
   ],
   "metadata": {
    "collapsed": false,
    "pycharm": {
     "name": "#%%\n"
    }
   }
  },
  {
   "cell_type": "code",
   "execution_count": null,
   "outputs": [
    {
     "name": "stdout",
     "output_type": "stream",
     "text": [
      "[2.7, 3.7]\n",
      "1\n",
      "[2.7, 3.7]\n",
      "1\n",
      "[2.7, 3.7]\n",
      "1\n",
      "[2.7, 3.7]\n",
      "1\n",
      "[2.7, 3.7]\n",
      "1\n",
      "[[[0, 0], [10, 10]], [[0, 0], [10, 10]], [[0, 0], [10, 10]], [[0, 0], [10, 10]], [[0, 0], [10, 10]], [[0, 0], [10, 10]], [[0, 0], [10, 10]], [[0, 0], [10, 10]], [[0, 0], [10, 10]], [[0, 0], [10, 10]], [[0, 0], [10, 10]], [[0, 0], [10, 10]], [[0, 0], [10, 10]], [[0, 0], [10, 10]], [[0, 0], [10, 10]], [[0, 0], [10, 10]], [[0, 0], [10, 10]], [[0, 0], [10, 10]], [[0, 0], [10, 10]], [[0, 0], [10, 10]], [[0, 0], [10, 10]], [[0, 0], [10, 10]], [[0, 0], [10, 10]], [[0, 0], [10, 10]], [[0, 0], [10, 10]], [[0, 0], [10, 10]], [[0, 0], [10, 10]], [[0, 0], [10, 10]], [[0, 0], [10, 10]], [[0, 0], [10, 10]]]\n",
      "[[0.03145451 0.49118414]\n",
      " [0.04033681 0.25536625]\n",
      " [0.         0.00952259]\n",
      " [0.2421943  0.        ]\n",
      " [0.34014688 0.16533801]\n",
      " [0.5874991  0.12259068]\n",
      " [0.4587838  0.30200153]\n",
      " [0.43832024 0.45815434]\n",
      " [0.26090668 0.55609686]]\n"
     ]
    },
    {
     "data": {
      "text/plain": "<Figure size 432x288 with 1 Axes>",
      "image/png": "[encoded data removed]"
     },
     "metadata": {
      "needs_background": "light"
     },
     "output_type": "display_data"
    },
    {
     "name": "stdout",
     "output_type": "stream",
     "text": [
      "[[1.69276116 2.40918685]\n",
      " [0.97614341 2.27911778]\n",
      " [1.18717325 1.35598215]\n",
      " [0.         0.91673339]\n",
      " [0.62090266 0.2566332 ]\n",
      " [1.56841545 0.79986711]\n",
      " [1.99697896 0.        ]\n",
      " [1.80357704 1.01107135]\n",
      " [2.4401742  1.01461923]\n",
      " [2.84740494 1.65159917]\n",
      " [2.31428461 2.07671056]]\n"
     ]
    },
    {
     "data": {
      "text/plain": "<Figure size 432x288 with 1 Axes>",
      "image/png": "[encoded data removed]"
     },
     "metadata": {
      "needs_background": "light"
     },
     "output_type": "display_data"
    },
    {
     "name": "stdout",
     "output_type": "stream",
     "text": [
      "[[1.90100762 0.47155354]\n",
      " [1.76649848 1.17439243]\n",
      " [1.0961219  1.29424416]\n",
      " [0.82402157 1.57594359]\n",
      " [0.5651551  1.27118921]\n",
      " [0.51015571 1.01069367]\n",
      " [0.         0.38886588]\n",
      " [0.71508271 0.45066823]\n",
      " [1.31448442 0.        ]]\n"
     ]
    },
    {
     "data": {
      "text/plain": "<Figure size 432x288 with 1 Axes>",
      "image/png": "[encoded data removed]"
     },
     "metadata": {
      "needs_background": "light"
     },
     "output_type": "display_data"
    },
    {
     "name": "stdout",
     "output_type": "stream",
     "text": [
      "[0.5874990984832067, 0.5560968648130569]\n",
      "0.3\n",
      "[2.847404940551087, 2.4091868497336293]\n",
      "0.3\n"
     ]
    }
   ],
   "source": [
    "\n",
    "points = np.array([[0.3, 3], [1, 0], [2.1, 0], [3, 3.7]])\n",
    "shift2zero(points)\n",
    "\n",
    "h = 1\n",
    "\n",
    "item_1 = Item(1, points)\n",
    "item_1.set_segments(h)\n",
    "\n",
    "item_2 = Item(2, copy(points))\n",
    "item_2.set_segments(h)\n",
    "\n",
    "item_3 = Item(3, copy(points))\n",
    "item_3.set_segments(h)\n",
    "\n",
    "item_4 = Item(4, copy(points))\n",
    "item_4.set_segments(h)\n",
    "\n",
    "item_5 = Item(5, copy(points))\n",
    "item_5.set_segments(h)\n",
    "\n",
    "items = [copy(item_1), copy(item_2), copy(item_3), copy(item_4), copy(item_5)]\n",
    "\n",
    "from src.class_packing import Packing\n",
    "from src.smth2lines.polygon2segments import polygon2segments\n",
    "\n",
    "h = 0.3\n",
    "\n",
    "packaging = Packing(width=10, height=30, drill_radius=0)\n",
    "\n",
    "pallets = Pallets([10, 30])\n",
    "pallets.add_pallet_lines()\n",
    "\n",
    "print(pallets.pallet_lines)\n",
    "\n",
    "# packaging.items = items\n",
    "\n",
    "packaging.create_random_polygons(num_items= 3)\n",
    "\n",
    "for item in packaging.items:\n",
    "    print(item.points)\n",
    "    fig, ax = plt.subplots()\n",
    "\n",
    "    ax.set_xlim(-0.5, 4)\n",
    "    ax.set_ylim(-0.5, 4)\n",
    "\n",
    "\n",
    "    figure = patches.Polygon(item.points,\n",
    "                                linewidth=1,\n",
    "                                edgecolor='red',\n",
    "                                fill=False)\n",
    "    ax.add_patch(figure)\n",
    "    plt.show()\n",
    "\n",
    "\n",
    "\n",
    "packaging.pallets = pallets\n",
    "packaging.h = h\n",
    "packaging.add_segments_for_items()\n",
    "\n",
    "for item in packaging.items:\n",
    "    draw_segments(item)\n",
    "\n",
    "packaging.segments_bottom_left()\n",
    "packaging.draw_segments_packing()"
   ],
   "metadata": {
    "collapsed": false,
    "pycharm": {
     "name": "#%%\n",
     "is_executing": true
    }
   }
  }
 ],
 "metadata": {
  "kernelspec": {
   "display_name": "Python 3",
   "language": "python",
   "name": "python3"
  },
  "language_info": {
   "codemirror_mode": {
    "name": "ipython",
    "version": 2
   },
   "file_extension": ".py",
   "mimetype": "text/x-python",
   "name": "python",
   "nbconvert_exporter": "python",
   "pygments_lexer": "ipython2",
   "version": "2.7.6"
  },
  "pycharm": {
   "stem_cell": {
    "cell_type": "raw",
    "source": [
     "\n"
    ],
    "metadata": {
     "collapsed": false
    }
   }
  }
 },
 "nbformat": 4,
 "nbformat_minor": 0
}