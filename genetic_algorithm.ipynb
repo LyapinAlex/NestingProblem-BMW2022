{
 "cells": [
  {
   "cell_type": "code",
   "execution_count": 22,
   "metadata": {
    "collapsed": true
   },
   "outputs": [],
   "source": [
    "import random\n",
    "\n",
    "from DrawSolution import draw_all_pallets\n",
    "from UnderstandPallets import understand_pallets\n",
    "from class_item import Item\n",
    "from class_population import Permutation\n",
    "import copy\n",
    "import time\n",
    "import random\n",
    "from matplotlib import pyplot as plt\n",
    "from matplotlib import patches\n",
    "\n",
    "\n",
    "eps = 1\n",
    "\n",
    "poligon1 = [[0,1,0], [1,1,1], [0,1,0]]\n",
    "poligon2 = [[1,1], [1,0]]\n",
    "poligon3 = [[1,1,1], [0,1,0]]\n",
    "\n",
    "points_1 = [[0,3], [2,0], [3,1], [2,1], [1, 4]]\n",
    "points_2 = [[0,0], [1,0], [1,8], [0,8]]\n",
    "points_3 = [[0,3], [2,0], [2,1], [3,2], [1, 4]]\n",
    "\n",
    "poligon_matrix = [[1,1,1,1], [1,1,1,1], [1,1,1,1]]\n",
    "short_poligon_matrix = [[1,1,1,1,1,1,1,1]]\n",
    "\n",
    "poligons = [copy.deepcopy(points_2), copy.deepcopy(points_2), copy.deepcopy(points_1), copy.deepcopy(points_1), copy.deepcopy(points_1), copy.deepcopy(points_1), copy.deepcopy(points_1), copy.deepcopy(points_1), copy.deepcopy(points_1), copy.deepcopy(points_1)]\n",
    "\n",
    "# poligons = [copy.deepcopy(points_2),copy.deepcopy(points_2)]\n",
    "items = [Item(i, poligons[i]) for i in range(len(poligons))]\n",
    "\n",
    "\n",
    "\n",
    "items[0].matrix = short_poligon_matrix\n",
    "items[1].matrix = short_poligon_matrix\n",
    "\n",
    "\n",
    "\n",
    "\n",
    "for item in items:\n",
    "    if item.matrix is None:\n",
    "        item.matrix = poligon_matrix\n",
    "\n",
    "matrix = [[0,0,0,0,0,0,0,0],\n",
    "          [0,0,0,0,0,0,0,0],\n",
    "          [0,0,0,0,0,0,0,0],\n",
    "          [0,0,0,0,0,0,0,0],\n",
    "          [0,0,0,0,0,0,0,0],\n",
    "          [0,0,0,0,0,0,0,0],\n",
    "          [0,0,0,0,0,0,0,0]]\n"
   ]
  },
  {
   "cell_type": "code",
   "execution_count": 23,
   "outputs": [],
   "source": [
    "\n",
    "\n",
    "def find_lb_coordinates(items, eps):\n",
    "    for item in items:\n",
    "        item.lb_x = item.lb_x * eps\n",
    "        item.lb_y = item.lb_y * eps\n",
    "    return items\n",
    "\n",
    "def fit_item(pallet, item):\n",
    "    for i in range(len(pallet[0])):\n",
    "        for j in range(len(pallet)):\n",
    "            exit = False\n",
    "            # условия, что объект влезает\n",
    "            if len(item.matrix) + i <= len(pallet) and len(item.matrix[0]) + j <= len(pallet[0]):\n",
    "                # располагаем объект\n",
    "                for p in range(len(item.matrix)):\n",
    "                    for k in range(len(item.matrix[0])):\n",
    "                        # решаем есть ли пересечение\n",
    "                        if pallet[i+p][j+k] + item.matrix[p][k] == 2:\n",
    "                            exit = True\n",
    "                            break\n",
    "                    if exit:\n",
    "                        break\n",
    "            else:\n",
    "                exit = True\n",
    "            # если пересечений нет и элемент влезает, то добавляем его\n",
    "            if not exit:\n",
    "                item.lb_x = i\n",
    "                item.lb_y = j\n",
    "                for p in range(len(item.matrix)):\n",
    "                    for k in range(len(item.matrix[0])):\n",
    "                        pallet[i+p][j+k] += item.matrix[p][k]\n",
    "                break\n",
    "        if not exit:\n",
    "            break\n",
    "\n",
    "    return pallet, exit\n",
    "\n",
    "def fit_pallets(matrix, items, eps):\n",
    "    pallets = []\n",
    "    pallets.append(copy.deepcopy(matrix))\n",
    "    for item in items:\n",
    "        i=0\n",
    "        exit = True\n",
    "        while exit and i<len(pallets):\n",
    "            pallets[i], exit = fit_item(pallets[i], item)\n",
    "            if exit and i==(len(pallets)-1):\n",
    "                pallets.append(copy.deepcopy(matrix))\n",
    "            if not exit:\n",
    "                item.pallet_number = i\n",
    "                # print(i)\n",
    "            i+=1\n",
    "    find_lb_coordinates(items, eps)\n",
    "\n",
    "    return pallets, items"
   ],
   "metadata": {
    "collapsed": false,
    "pycharm": {
     "name": "#%%\n"
    }
   }
  },
  {
   "cell_type": "code",
   "execution_count": 24,
   "outputs": [],
   "source": [
    "def swap(list, pos1, pos2):\n",
    "\n",
    "    list[pos1], list[pos2] = list[pos2], list[pos1]\n",
    "    return list\n",
    "\n",
    "def locSearch(matrix, poligons, eps):\n",
    "\n",
    "    n = len( poligons)\n",
    "\n",
    "    objVal = len(fit_pallets(matrix,  poligons, eps))\n",
    "\n",
    "    poligonsBest = copy.deepcopy(poligons)\n",
    "\n",
    "    betterNeighboor = (0,0)\n",
    "    new_poligons = []\n",
    "    stop = False\n",
    "    while not stop:\n",
    "        stop = True\n",
    "        for i in range(n):\n",
    "            for j in range(i + 1, n):\n",
    "                pal, new_poligons = fit_pallets(matrix, swap(copy.deepcopy(poligonsBest), i, j), eps)\n",
    "                val = len(pal)\n",
    "                if val < objVal:\n",
    "                    stop = False\n",
    "                    objVal = val\n",
    "                    betterNeighboor = (i,j)\n",
    "                    poligons = new_poligons\n",
    "\n",
    "                if betterNeighboor[1] != 0:\n",
    "                    swap( poligonsBest, betterNeighboor[0], betterNeighboor[1])\n",
    "\n",
    "    return poligons"
   ],
   "metadata": {
    "collapsed": false,
    "pycharm": {
     "name": "#%%\n"
    }
   }
  },
  {
   "cell_type": "code",
   "execution_count": 25,
   "outputs": [],
   "source": [
    "def crossover_type1(parent1, parent2):\n",
    "    child = parent1[:int(len(parent1)/2)]\n",
    "    for i in range(len(parent1)):\n",
    "        if parent2[i] not in child:\n",
    "            child.append(parent2[i])\n",
    "    # print([parent1[i].id for i in range(len(parent1))])\n",
    "    # print([parent2[i].id for i in range(len(parent1))])\n",
    "    # print([child[i].id for i in range(len(parent1))])\n",
    "    return child\n",
    "\n",
    "def crossover_type2(parent1, parent2):\n",
    "    child = parent2[:int(len(parent2)/2)]\n",
    "    for i in range(len(parent1)):\n",
    "        if parent1[i] not in child:\n",
    "            child.append(parent1[i])\n",
    "    # print([parent1[i].id for i in range(len(parent1))])\n",
    "    # print([parent2[i].id for i in range(len(parent1))])\n",
    "    # print([child[i].id for i in range(len(parent1))])\n",
    "    # print('-------------')\n",
    "    return child"
   ],
   "metadata": {
    "collapsed": false,
    "pycharm": {
     "name": "#%%\n"
    }
   }
  },
  {
   "cell_type": "code",
   "execution_count": 26,
   "outputs": [
    {
     "name": "stdout",
     "output_type": "stream",
     "text": [
      "2\n",
      "2\n",
      "2\n",
      "2\n",
      "2\n",
      "2\n",
      "2\n",
      "2\n",
      "2\n",
      "2\n"
     ]
    }
   ],
   "source": [
    "record = len(items) # ограничение сверху на количество паллет\n",
    "record_permutation = 0\n",
    "\n",
    "population = []\n",
    "\n",
    "k = 10 # размер изначальной популяции\n",
    "\n",
    "# создаём начальную случайную популяцию и находим её рекорд\n",
    "for i in range(k):\n",
    "    population.append(copy.deepcopy(Permutation(sorted(items, key=lambda A: random.random()))))\n",
    "    result = fit_pallets(matrix, population[i].items, eps)\n",
    "    population[i].value = len(result)\n",
    "    print(population[i].value)\n",
    "    if record > len(result):\n",
    "        record = len(result)\n",
    "        record_permutation = population[i]\n",
    "\n",
    "# удаляем из списка рекорд\n",
    "population.remove(record_permutation)"
   ],
   "metadata": {
    "collapsed": false,
    "pycharm": {
     "name": "#%%\n"
    }
   }
  },
  {
   "cell_type": "code",
   "execution_count": 27,
   "outputs": [],
   "source": [
    "champions = population\n",
    "start_time = time.time()\n",
    "work_time = 0\n",
    "find_best = True\n",
    "while work_time < 1: # ограничение по времени работы 10 секунд\n",
    "    # создаём новую популяцию, если чемпион новый\n",
    "    if find_best:\n",
    "        population = []\n",
    "        for parent in champions:\n",
    "            child_1 = crossover_type1(record_permutation.items, parent.items)\n",
    "            child_2 = crossover_type2(record_permutation.items, parent.items)\n",
    "            population.append(Permutation(child_1, value= len(fit_pallets(matrix, child_1, eps))))\n",
    "            population.append(Permutation(child_2, value= len(fit_pallets(matrix, child_2, eps))))\n",
    "    # создаём новую популяцию, если чемпион старый\n",
    "    else:\n",
    "        old_population = copy.deepcopy(population)\n",
    "        population = []\n",
    "        for parent in old_population:\n",
    "            child_1 = crossover_type1(record_permutation.items, parent.items)\n",
    "            child_2 = crossover_type2(record_permutation.items, parent.items)\n",
    "            child_1 = locSearch(matrix, copy.deepcopy(child_1), eps)\n",
    "            child_2 = locSearch(matrix, copy.deepcopy(child_2), eps)\n",
    "            population.append(Permutation(child_1, value= len(fit_pallets(matrix, child_1, eps))))\n",
    "            population.append(Permutation(child_2, value= len(fit_pallets(matrix, child_2, eps))))\n",
    "    find_best = False\n",
    "    # чистим и сортируем всех новых особей\n",
    "    for permutation in population:\n",
    "        # удаляем повторы\n",
    "        if permutation == record_permutation or permutation in champions or population.count(permutation)>1:\n",
    "            population.remove(permutation)\n",
    "        # если получили хуже, чем чемпионы\n",
    "        elif permutation.value > max([champion.value for champion in champions]):\n",
    "            population.remove(permutation)\n",
    "        # если мы получили лучшую\n",
    "        elif permutation.value < record_permutation.value:\n",
    "            population.append(record_permutation)\n",
    "            record_permutation = permutation\n",
    "            population.remove(record_permutation)\n",
    "            find_best = True\n",
    "    # пересматриваем чемпионов\n",
    "    work_time = time.time() - start_time\n"
   ],
   "metadata": {
    "collapsed": false,
    "pycharm": {
     "name": "#%%\n"
    }
   }
  },
  {
   "cell_type": "code",
   "execution_count": 28,
   "outputs": [
    {
     "name": "stdout",
     "output_type": "stream",
     "text": [
      "36\n"
     ]
    },
    {
     "data": {
      "text/plain": "<Figure size 432x288 with 1 Axes>",
      "image/png": "[encoded data removed]"
     },
     "metadata": {
      "needs_background": "light"
     },
     "output_type": "display_data"
    },
    {
     "data": {
      "text/plain": "<Figure size 432x288 with 1 Axes>",
      "image/png": "[encoded data removed]"
     },
     "metadata": {
      "needs_background": "light"
     },
     "output_type": "display_data"
    }
   ],
   "source": [
    "print(len(population))\n",
    "pal, items = fit_pallets(matrix, record_permutation.items, eps)\n",
    "draw_all_pallets(understand_pallets(items), 10, 10)\n"
   ],
   "metadata": {
    "collapsed": false,
    "pycharm": {
     "name": "#%%\n"
    }
   }
  }
 ],
 "metadata": {
  "kernelspec": {
   "display_name": "Python 3",
   "language": "python",
   "name": "python3"
  },
  "language_info": {
   "codemirror_mode": {
    "name": "ipython",
    "version": 2
   },
   "file_extension": ".py",
   "mimetype": "text/x-python",
   "name": "python",
   "nbconvert_exporter": "python",
   "pygments_lexer": "ipython2",
   "version": "2.7.6"
  }
 },
 "nbformat": 4,
 "nbformat_minor": 0
}