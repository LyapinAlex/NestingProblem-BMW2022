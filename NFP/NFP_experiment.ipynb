{
 "cells": [
  {
   "cell_type": "code",
   "execution_count": 11,
   "metadata": {
    "collapsed": true
   },
   "outputs": [],
   "source": [
    "import numpy as np\n",
    "\n",
    "# from IntersectionPoint import intersection_point\n",
    "# %run IntersectionPoint.py\n",
    "\n",
    "from IntersectionPolygons import intersection_polygon_by_edge\n",
    "%run IntersectionPolygons.py\n",
    "\n",
    "from classes import Vertex\n",
    "\n",
    "item = np.array([Vertex(np.array([1,0]), np.array([[1,2], [0,0]])),\n",
    "        Vertex(np.array([1,2]), np.array([[2,2], [0,0]])),\n",
    "        Vertex(np.array([2,2]), np.array([[2,0], [0,0]])),\n",
    "        Vertex(np.array([2,0]), np.array([[1,0], [0,0]]))])\n",
    "\n",
    "edge = Vertex(np.array([0,1]), np.array([[3,1], [0,0]]))"
   ]
  },
  {
   "cell_type": "code",
   "execution_count": 12,
   "outputs": [
    {
     "name": "stdout",
     "output_type": "stream",
     "text": [
      "[[1 0]\n",
      " [1 2]] --- [[0 1]\n",
      " [3 1]]\n",
      "тут\n",
      "[[1 2]\n",
      " [2 2]] --- [[0 1]\n",
      " [3 1]]\n",
      "[[2 2]\n",
      " [2 0]] --- [[0 1]\n",
      " [3 1]]\n",
      "тут\n",
      "[[2 0]\n",
      " [1 0]] --- [[0 1]\n",
      " [3 1]]\n"
     ]
    },
    {
     "data": {
      "text/plain": "[[1.0, 1.0], [2.0, 1.0]]"
     },
     "execution_count": 12,
     "metadata": {},
     "output_type": "execute_result"
    }
   ],
   "source": [
    "intersection_polygon_by_edge(item, edge)"
   ],
   "metadata": {
    "collapsed": false,
    "pycharm": {
     "name": "#%%\n"
    }
   }
  }
 ],
 "metadata": {
  "kernelspec": {
   "display_name": "Python 3",
   "language": "python",
   "name": "python3"
  },
  "language_info": {
   "codemirror_mode": {
    "name": "ipython",
    "version": 2
   },
   "file_extension": ".py",
   "mimetype": "text/x-python",
   "name": "python",
   "nbconvert_exporter": "python",
   "pygments_lexer": "ipython2",
   "version": "2.7.6"
  }
 },
 "nbformat": 4,
 "nbformat_minor": 0
}