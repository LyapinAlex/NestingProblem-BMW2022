{
 "cells": [
  {
   "cell_type": "code",
   "execution_count": 347,
   "metadata": {
    "collapsed": true,
    "pycharm": {
     "name": "#%%\n"
    }
   },
   "outputs": [],
   "source": [
    "from DrawSolution import draw_pallet\n",
    "from class_item import Item\n",
    "import copy\n",
    "from matplotlib import pyplot as plt\n",
    "from matplotlib import patches\n",
    "\n",
    "eps = 1\n",
    "\n",
    "poligon1 = [[0,1,0], [1,1,1], [0,1,0]]\n",
    "poligon2 = [[1,1], [1,0]]\n",
    "poligon3 = [[1,1,1], [0,1,0]]\n",
    "\n",
    "points_1 = [[0,3], [2,0], [3,1], [2,1], [1, 4]]\n",
    "points_2 = [[0,8], [1,8], [1,8]]\n",
    "points_3 = [[0,3], [2,0], [2,1], [3,2], [1, 4]]\n",
    "\n",
    "poligon_matrix = [[1,1,1,1], [1,1,1,1], [1,1,1,1]]\n",
    "short_poligon_matrix = [[1,1,1,1,1,1,1,1]]\n",
    "\n",
    "poligons = [copy.deepcopy(points_2), copy.deepcopy(points_2), copy.deepcopy(points_1), copy.deepcopy(points_1), copy.deepcopy(points_1), copy.deepcopy(points_1), copy.deepcopy(points_1), copy.deepcopy(points_1), copy.deepcopy(points_1), copy.deepcopy(points_1), copy.deepcopy(points_1), copy.deepcopy(points_1)]\n",
    "\n",
    "items = [Item(i, poligons[i]) for i in range(len(poligons))]\n",
    "\n",
    "items[0].matrix = short_poligon_matrix\n",
    "items[1].matrix = short_poligon_matrix\n",
    "\n",
    "for item in items:\n",
    "    if item.matrix is None:\n",
    "        item.matrix = poligon_matrix\n",
    "\n",
    "pallet_width = 7\n",
    "pallet_height = 8\n",
    "\n",
    "matrix = [[0,0,0,0,0,0,0,0],\n",
    "          [0,0,0,0,0,0,0,0],\n",
    "          [0,0,0,0,0,0,0,0],\n",
    "          [0,0,0,0,0,0,0,0],\n",
    "          [0,0,0,0,0,0,0,0],\n",
    "          [0,0,0,0,0,0,0,0],\n",
    "          [0,0,0,0,0,0,0,0]]"
   ]
  },
  {
   "cell_type": "code",
   "execution_count": 348,
   "metadata": {
    "collapsed": false,
    "pycharm": {
     "name": "#%%\n"
    }
   },
   "outputs": [],
   "source": [
    "def draw_pallet(items, pallet_width, pallet_height):\n",
    "    # fig, ax = plt.subplots(figsize=(pallet_height, pallet_height))\n",
    "    fig, ax = plt.subplots()\n",
    "    pallet = patches.Rectangle((0, 0), pallet_width, pallet_height, linewidth=2, facecolor='none', edgecolor='blue')\n",
    "    ax.add_patch(pallet)\n",
    "    ax.set_xlim(-1, pallet_width + 1)\n",
    "    ax.set_ylim(-1, pallet_height + 1)\n",
    "    for item in items:\n",
    "        for point in item.points:\n",
    "            point[0] += item.lb_x\n",
    "            point[1] += item.lb_y\n",
    "        polygon = patches.Polygon(item.points)\n",
    "        ax.add_patch(polygon)\n",
    "    return fig, ax"
   ]
  },
  {
   "cell_type": "code",
   "execution_count": 349,
   "metadata": {
    "collapsed": false,
    "pycharm": {
     "name": "#%%\n"
    }
   },
   "outputs": [],
   "source": [
    "def print_matrix(matrix):\n",
    "    for i in range(len(matrix)):\n",
    "        print(matrix[i])\n",
    "        print('\\n')"
   ]
  },
  {
   "cell_type": "code",
   "execution_count": 350,
   "metadata": {
    "collapsed": false,
    "pycharm": {
     "name": "#%%\n"
    }
   },
   "outputs": [],
   "source": [
    "def fit_item(pallet, item):\n",
    "    for i in range(len(pallet[0])):\n",
    "        for j in range(len(pallet)):\n",
    "            exit = False\n",
    "            # условия, что объект влезает\n",
    "            if len(item.matrix) + i <= len(pallet) and len(item.matrix[0]) + j <= len(pallet[0]):\n",
    "                # располагаем объект\n",
    "                for p in range(len(item.matrix)):\n",
    "                    for k in range(len(item.matrix[0])):\n",
    "                        # решаем есть ли пересечение\n",
    "                        if pallet[i+p][j+k] + item.matrix[p][k] == 2:\n",
    "                            exit = True\n",
    "                            break\n",
    "                    if exit:\n",
    "                        break\n",
    "            else:\n",
    "                exit = True\n",
    "            # если пересечений нет и элемент влезает, то добавляем его\n",
    "            if not exit:\n",
    "                item.lb_x = i\n",
    "                item.lb_y = j\n",
    "                for p in range(len(item.matrix)):\n",
    "                    for k in range(len(item.matrix[0])):\n",
    "                        pallet[i+p][j+k] += item.matrix[p][k]\n",
    "                break\n",
    "        if not exit:\n",
    "            break\n",
    "    # print_matrix(pallet)\n",
    "    # print('--------------')\n",
    "    return pallet, exit"
   ]
  },
  {
   "cell_type": "code",
   "execution_count": 351,
   "metadata": {
    "collapsed": false,
    "pycharm": {
     "name": "#%%\n"
    }
   },
   "outputs": [],
   "source": [
    "def find_lb_coordinates(items, eps):\n",
    "    for item in items:\n",
    "        item.lb_x = item.lb_x * eps\n",
    "        item.lb_y = item.lb_y * eps\n",
    "    return items"
   ]
  },
  {
   "cell_type": "code",
   "execution_count": 352,
   "metadata": {
    "collapsed": false,
    "pycharm": {
     "name": "#%%\n"
    }
   },
   "outputs": [],
   "source": [
    "def fit_pallets(matrix, items, eps):\n",
    "    pallets = []\n",
    "    pallets.append(copy.deepcopy(matrix))\n",
    "    for item in items:\n",
    "        i=0\n",
    "        exit = True\n",
    "        while exit and i<len(pallets):\n",
    "            pallets[i], exit = fit_item(pallets[i], item)\n",
    "            if exit and i==(len(pallets)-1):\n",
    "                pallets.append(copy.deepcopy(matrix))\n",
    "            if not exit:\n",
    "                item.pallet_number = i\n",
    "                # print(i)\n",
    "            i+=1\n",
    "    find_lb_coordinates(items, eps)\n",
    "\n",
    "    return pallets"
   ]
  },
  {
   "cell_type": "code",
   "execution_count": 353,
   "metadata": {
    "collapsed": false,
    "pycharm": {
     "name": "#%%\n"
    }
   },
   "outputs": [],
   "source": [
    "def understand_pallets(items):\n",
    "    packing = []\n",
    "    # print([item.pallet_number for item in items])\n",
    "    for i in range(max([item.pallet_number for item in items])):\n",
    "        # print(i)\n",
    "        packing.append([])\n",
    "    print(packing)\n",
    "    for i in range(max([item.pallet_number for item in items])):\n",
    "        for item in items:\n",
    "            if item.pallet_number > len(packing):\n",
    "                    packing.append([])\n",
    "            if item.pallet_number == i:\n",
    "                packing[i].append(item)\n",
    "    print([item.pallet_number for item in items])\n",
    "\n",
    "    print(packing)\n",
    "    return packing\n",
    "            # print(packing, '\\n')\n",
    "            # print(packing[i], '\\n')\n",
    "            # print(packing[i][0].points, '\\n')\n",
    "            # print('-----------')\n",
    "\n",
    "# print(packing)\n",
    "    \n",
    "def draw_all_pallets(packing):\n",
    "    print(len(packing))\n",
    "    for i in range(len(packing)):\n",
    "        print(i)\n",
    "        draw_pallet(packing[i], pallet_width, pallet_height)"
   ]
  },
  {
   "cell_type": "code",
   "execution_count": 354,
   "metadata": {
    "collapsed": false,
    "pycharm": {
     "name": "#%%\n"
    }
   },
   "outputs": [],
   "source": [
    "# import rastr_method\n",
    "# import copy\n",
    "\n",
    "\n",
    "def swap(list, pos1, pos2):\n",
    "\n",
    "    list[pos1], list[pos2] = list[pos2], list[pos1]\n",
    "    return list\n",
    "\n",
    "\n",
    "#  алгоритм локального поиска\n",
    "def locSearch(matrix, poligons, eps):\n",
    "    # print(eps)\n",
    "\n",
    "    n = len( poligons)\n",
    "\n",
    "    objVal = len(fit_pallets(matrix,  poligons, eps))\n",
    "\n",
    "    poligons_copy = copy.deepcopy(poligons)\n",
    "\n",
    "    betterNeighboor = (0,0)\n",
    "    stop = False\n",
    "    while not stop:\n",
    "        stop = True\n",
    "        for i in range(n):\n",
    "            for j in range(i + 1, n, 1):\n",
    "                # надо сделать, что бы два раза не проходила\n",
    "                pal = fit_pallets(matrix, swap(poligons, i, j), eps)\n",
    "                # print(items[0].pallet_number)\n",
    "                # val = len(fit_pallets(matrix, swap(copy.deepcopy(poligons), i, j), eps))\n",
    "                val = len(pal)\n",
    "                if val < objVal:\n",
    "                    stop = False\n",
    "                    objVal = val\n",
    "                    betterNeighboor = (i,j)\n",
    "                    fit_pallets(matrix, swap(poligons, i, j), eps)\n",
    "\n",
    "                if betterNeighboor[1] != 0:\n",
    "                    poligons = swap( poligons, betterNeighboor[0], betterNeighboor[1])\n",
    "                    poligons_copy = swap( poligons_copy, betterNeighboor[0], betterNeighboor[1])\n",
    "\n",
    "\n",
    "   \n",
    "    \n",
    "    # for i in range(len(pal)):\n",
    "    #     print_matrix(pal[i])\n",
    "    #     print('--------------')\n",
    "    # understand_pallets(poligons_copy)\n",
    "\n",
    "    draw_all_pallets(understand_pallets(items))\n",
    "\n",
    "    return val"
   ]
  },
  {
   "cell_type": "code",
   "execution_count": 355,
   "metadata": {
    "collapsed": false,
    "pycharm": {
     "name": "#%%\n"
    }
   },
   "outputs": [],
   "source": [
    "# fit_pallets(matrix, items, eps)\n"
   ]
  },
  {
   "cell_type": "code",
   "execution_count": 356,
   "metadata": {
    "collapsed": false,
    "pycharm": {
     "name": "#%%\n"
    }
   },
   "outputs": [
    {
     "name": "stdout",
     "output_type": "stream",
     "text": [
      "[[], []]\n",
      "[0, 0, 0, 0, 1, 1, 1, 1, 2, 2, 0, 1]\n",
      "[[<class_item.Item object at 0x0000011755823400>, <class_item.Item object at 0x0000011755823280>, <class_item.Item object at 0x00000117558237F0>, <class_item.Item object at 0x00000117558232B0>, <class_item.Item object at 0x0000011755823D60>], [<class_item.Item object at 0x00000117558232E0>, <class_item.Item object at 0x0000011755823190>, <class_item.Item object at 0x0000011755823670>, <class_item.Item object at 0x00000117558231C0>, <class_item.Item object at 0x0000011755823CD0>]]\n",
      "2\n",
      "0\n",
      "1\n"
     ]
    },
    {
     "data": {
      "text/plain": [
       "3"
      ]
     },
     "execution_count": 356,
     "metadata": {},
     "output_type": "execute_result"
    },
    {
     "data": {
      "image/png": "[encoded data removed]",
      "text/plain": [
       "<Figure size 432x288 with 1 Axes>"
      ]
     },
     "metadata": {
      "needs_background": "light"
     },
     "output_type": "display_data"
    },
    {
     "data": {
      "image/png": "[encoded data removed]",
      "text/plain": [
       "<Figure size 432x288 with 1 Axes>"
      ]
     },
     "metadata": {
      "needs_background": "light"
     },
     "output_type": "display_data"
    }
   ],
   "source": [
    "locSearch(matrix, items, eps)"
   ]
  }
 ],
 "metadata": {
  "kernelspec": {
   "display_name": "Python 3.9.10 64-bit (system)",
   "language": "python",
   "name": "python3"
  },
  "language_info": {
   "codemirror_mode": {
    "name": "ipython",
    "version": 3
   },
   "file_extension": ".py",
   "mimetype": "text/x-python",
   "name": "python",
   "nbconvert_exporter": "python",
   "pygments_lexer": "ipython3",
   "version": "3.9.10"
  },
  "vscode": {
   "interpreter": {
    "hash": "6643e6ed50db0d59a33908eb86408b16df6c710e8c0d335ec4f1e3d889261d64"
   }
  }
 },
 "nbformat": 4,
 "nbformat_minor": 0
}
