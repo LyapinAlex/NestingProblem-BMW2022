{
 "cells": [
  {
   "cell_type": "code",
   "execution_count": 5,
   "metadata": {
    "collapsed": true
   },
   "outputs": [
    {
     "name": "stdout",
     "output_type": "stream",
     "text": [
      "[[[0, 0], [10, 10]], [[0, 0], [10, 10]], [[0, 0], [10, 10]], [[0, 0], [10, 10]], [[0, 0], [10, 10]], [[0, 0], [10, 10]], [[0, 0], [10, 10]], [[0, 0], [10, 10]], [[0, 0], [10, 10]], [[0, 0], [10, 10]], [[0, 0], [10, 10]], [[0, 0], [10, 10]], [[0, 0], [10, 10]], [[0, 0], [10, 10]], [[0, 0], [10, 10]], [[0, 0], [10, 10]], [[0, 0], [10, 10]], [[0, 0], [10, 10]], [[0, 0], [10, 10]], [[0, 0], [10, 10]], [[0, 0], [10, 10]], [[0, 0], [10, 10]], [[0, 0], [10, 10]], [[0, 0], [10, 10]], [[0, 0], [10, 10]]]\n"
     ]
    }
   ],
   "source": [
    "from src.smth2matrix.shift2zero import shift2zero\n",
    "import numpy as np\n",
    "from src.greedy_alg.class_pallets import Pallets\n",
    "from src.class_item import Item\n",
    "\n",
    "from copy import copy\n",
    "\n",
    "\n",
    "from src.class_packing import Packing\n",
    "from src.smth2lines.polygon2segments import polygon2segments\n",
    "\n",
    "h = 0.4\n",
    "\n",
    "points_1 = np.array([[2.69237845, 1.63793684],\n",
    " [1.95117113, 1.63040555],\n",
    " [1.77754656, 2.06814054],\n",
    " [1.33105288, 2.14140241],\n",
    " [0.83088898, 2.08956865],\n",
    " [0.58569905, 1.65617245],\n",
    " [0.75592693, 1.17908709],\n",
    " [0.,        0.53517465],\n",
    " [0.96146073, 0.53657551],\n",
    " [1.15535086, 0.        ],\n",
    " [1.62681539, 0.22654478],\n",
    " [1.72598599, 0.75646797],\n",
    " [2.29371675, 0.662793  ],\n",
    " [2.38733565, 1.05880673]])\n",
    "points_2 = np.array([[2.35439835, 0.56682611],\n",
    " [2.16875126, 0.98904251],\n",
    " [2.44932864, 1.5049757 ],\n",
    " [1.7597245,  1.31861811],\n",
    " [1.54303999, 1.04130188],\n",
    " [1.07865184, 2.08843785],\n",
    " [0.76041039, 1.6459771 ],\n",
    " [0.,        1.35575994],\n",
    " [0.18375051, 0.62003102],\n",
    " [1.12479803, 0.59726821],\n",
    " [1.33710847, 0.44340024],\n",
    " [1.66641651, 0.        ],\n",
    " [2.02125983, 0.26415272]])\n",
    "points_3 =np.array([[1.8829718,  2.1891357 ],\n",
    " [0.91813093, 2.06157577],\n",
    " [0.,       0.78321165],\n",
    " [1.53272948, 0.        ],\n",
    " [2.46978122, 0.79650131],\n",
    " [2.82982098, 1.78698899]])\n",
    "points_4 = np.array([[2.27595331, 1.31677084],\n",
    " [2.16772668, 1.89781937],\n",
    " [1.55473952, 1.64779112],\n",
    " [1.2052099, 1.69440872],\n",
    " [0.87590571, 1.57098183],\n",
    " [0.71104329, 1.25479493],\n",
    " [0.,        1.02602166],\n",
    " [0.09604511, 0.47342114],\n",
    " [0.621841,  0.22571035],\n",
    " [1.08473661, 0.30082045],\n",
    " [1.33343801, 0.41250694],\n",
    " [1.68182499, 0.        ],\n",
    " [1.9929434,  0.19124784],\n",
    " [2.78628922, 0.25556964],\n",
    " [1.71594976, 0.86400211]])\n",
    "points_5 = np.array([[0.19589181, 0.        ],\n",
    " [0.72333804, 0.00373399],\n",
    " [1.33190352, 0.0267869 ],\n",
    " [1.21501926, 0.64732384],\n",
    " [0.88292715, 1.07051346],\n",
    " [0.61747334, 0.55599024],\n",
    " [0.,        0.52387383]])\n",
    "\n",
    "polygons = [copy(points_1), copy(points_2), copy(points_3), copy(points_4),copy(points_5)]\n",
    "\n",
    "# lines = polygon2segments(points, h)\n",
    "# print(lines)\n",
    "\n",
    "packing = Packing(width=10, height=10, drill_radius=0)\n",
    "\n",
    "pallets = Pallets([10, 10])\n",
    "pallets.grid_step = h\n",
    "pallets.add_pallet_lines()\n",
    "\n",
    "print(pallets.pallet_lines)\n"
   ]
  },
  {
   "cell_type": "code",
   "execution_count": 6,
   "outputs": [
    {
     "name": "stdout",
     "output_type": "stream",
     "text": [
      "hello\n",
      "hello\n",
      "hello\n"
     ]
    }
   ],
   "source": [
    "packing.items = np.full(len(polygons), None)\n",
    "print('hello')\n",
    "for id in range(len(polygons)):\n",
    "    item = Item(id, polygons[id])\n",
    "    packing.items[id] = item\n",
    "\n",
    "print('hello')\n",
    "packing.pallets = pallets\n",
    "print('hello')\n",
    "packing.h = h\n",
    "packing.add_segments_for_items()"
   ],
   "metadata": {
    "collapsed": false,
    "pycharm": {
     "name": "#%%\n"
    }
   }
  },
  {
   "cell_type": "code",
   "execution_count": 7,
   "outputs": [],
   "source": [
    "def pack_item(item, pallets, t_vector, r):\n",
    "    item.t_vector = [t_vector, r]\n",
    "    item.packed = True\n",
    "    for s in range(len(item.segments)):\n",
    "        for l in range(len(item.segments[s])):\n",
    "            new_line = [copy(item.segments[s][l][0]) + copy(item.t_vector[0]), copy(item.segments[s][l][1]) + copy(item.t_vector[0])]\n",
    "            pallets.pallet_lines[r+s].append(copy(new_line))\n",
    "        pallets.pallet_lines[r+s].sort(key=lambda x: int(x[0]), reverse=False)\n",
    "\n",
    "def pack_segments(items, pallets):\n",
    "    for item in items:\n",
    "        r = 0\n",
    "        while r < len(pallets.pallet_lines) and item.packed == False:\n",
    "            row = pallets.pallet_lines[r]\n",
    "            k = 1\n",
    "            ex_flag = 0\n",
    "            while k < len(row) and item.packed == False and ex_flag == 0:\n",
    "                t_vector = row[k-1][1] - item.segments[0][0][0]\n",
    "                i = 0\n",
    "                l = len(item.segments[0])\n",
    "                while i < len(item.segments) and r + i < len(pallets.pallet_lines) and ex_flag == 0:\n",
    "                        j = 0\n",
    "                        while j < len(item.segments[i]) and ex_flag == 0:\n",
    "                            m = 0\n",
    "                            while m < len(pallets.pallet_lines[r+i]) and ex_flag == 0:\n",
    "                                # случаи пересечения линии и упаковки\n",
    "                                if pallets.pallet_lines[r+i][m][0] <= item.segments[i][j][0] + t_vector < pallets.pallet_lines[r+i][m][1]:\n",
    "                                    t_vector += pallets.pallet_lines[r+i][m][1] - (item.segments[i][j][0] + t_vector)\n",
    "                                    i = 0\n",
    "                                elif pallets.pallet_lines[r+i][m][0] <= item.segments[i][j][1] + t_vector < pallets.pallet_lines[r+i][m][1]:\n",
    "                                    t_vector += pallets.pallet_lines[r+i][m][1] - (item.segments[i][j][0] + t_vector)\n",
    "                                    i = 0\n",
    "                                # объект выходит за границы палеты\n",
    "                                elif item.segments[i][j][0] + t_vector < 0:\n",
    "                                    t_vector = - item.segments[i][j][0]\n",
    "                                    i = 0\n",
    "                                # наверное надо сделать это первым условием, будет чаще всего встречаться\n",
    "                                elif item.segments[i][j][1] + t_vector > pallets.shape[0]:\n",
    "                                    ex_flag = 1\n",
    "                                m += 1\n",
    "                            j += 1\n",
    "                        i+=1\n",
    "                # если объект влезает, добавляем его на палету\n",
    "                if ex_flag == 0:\n",
    "                    pack_item(item, pallets, t_vector, r)\n",
    "                    ex_flag = 1\n",
    "                k+=1\n",
    "            r+=1\n",
    "\n",
    "\n",
    "pack_segments(packing.items, packing.pallets)\n"
   ],
   "metadata": {
    "collapsed": false,
    "pycharm": {
     "name": "#%%\n"
    }
   }
  },
  {
   "cell_type": "code",
   "execution_count": 8,
   "outputs": [
    {
     "name": "stdout",
     "output_type": "stream",
     "text": [
      "[-0.0, 0]\n",
      "[2.69237845, 0]\n",
      "[5.141707090000001, 0]\n",
      "[2.1284260800401293, 5]\n",
      "[7.612760074943019, 0]\n"
     ]
    },
    {
     "data": {
      "text/plain": "<Figure size 504x504 with 1 Axes>",
      "image/png": "[encoded data removed]"
     },
     "metadata": {
      "needs_background": "light"
     },
     "output_type": "display_data"
    }
   ],
   "source": [
    "import random\n",
    "from matplotlib import pyplot as plt, patches\n",
    "\n",
    "pallet_width = 10\n",
    "pallet_height = 10\n",
    "\n",
    "fig, ax = plt.subplots()\n",
    "\n",
    "MAX_SIZE = 7\n",
    "if pallet_width > pallet_height:\n",
    "    fig.set_figheight(MAX_SIZE)\n",
    "    fig.set_figwidth(\n",
    "        MAX_SIZE * pallet_width/pallet_height)\n",
    "else:\n",
    "    fig.set_figheight(\n",
    "        MAX_SIZE * pallet_height/pallet_width)\n",
    "    fig.set_figwidth(MAX_SIZE)\n",
    "\n",
    "pallet = patches.Rectangle((0, 0),\n",
    "                            pallet_width,\n",
    "                            pallet_height,\n",
    "                            linewidth=2,\n",
    "                            facecolor='none',\n",
    "                            edgecolor='black')\n",
    "ax.add_patch(pallet)\n",
    "ax.set_xlim(-0.5, pallet_width + 2)\n",
    "ax.set_ylim(-0.5, pallet_height + 2)\n",
    "\n",
    "for i in range(int(pallet_height/h)):\n",
    "    plt.plot([0, pallet_width], [i*h, i*h], linestyle = 'dotted', color = 'black')\n",
    "\n",
    "\n",
    "for polygon in packing.items:\n",
    "    print(polygon.t_vector)\n",
    "    for point in polygon.points:\n",
    "        point[0] += polygon.t_vector[0]\n",
    "        point[1] += polygon.t_vector[1]*h\n",
    "    figure = patches.Polygon(polygon.points,\n",
    "                            linewidth=1,\n",
    "                            edgecolor='red',\n",
    "                            fill=False)\n",
    "    ax.add_patch(figure)\n",
    "    random_color = \"#\" + \\\n",
    "                ''.join([random.choice('0123456789ABCDEF') for j in range(6)])\n",
    "    for i in range(len(polygon.segments)):\n",
    "        for sigment in polygon.segments[i]:\n",
    "            sigment[0]+=polygon.t_vector[0]\n",
    "            sigment[1]+=polygon.t_vector[0]\n",
    "            if sigment[0] != sigment[1]:\n",
    "                plt.plot(sigment, [(i+polygon.t_vector[1])*h, (i+polygon.t_vector[1])*h], color = random_color, alpha=0.7)\n",
    "            else:\n",
    "                ax.scatter(sigment[0], (i+polygon.t_vector[1])*h, color = random_color, s = 4, alpha=0.7)\n",
    "\n",
    "\n",
    "plt.savefig('line-packing.png')\n",
    "# plt.show()"
   ],
   "metadata": {
    "collapsed": false,
    "pycharm": {
     "name": "#%%\n"
    }
   }
  }
 ],
 "metadata": {
  "kernelspec": {
   "display_name": "Python 3",
   "language": "python",
   "name": "python3"
  },
  "language_info": {
   "codemirror_mode": {
    "name": "ipython",
    "version": 2
   },
   "file_extension": ".py",
   "mimetype": "text/x-python",
   "name": "python",
   "nbconvert_exporter": "python",
   "pygments_lexer": "ipython2",
   "version": "2.7.6"
  }
 },
 "nbformat": 4,
 "nbformat_minor": 0
}