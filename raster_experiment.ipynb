{
 "cells": [
  {
   "cell_type": "code",
   "execution_count": 392,
   "metadata": {
    "collapsed": true,
    "pycharm": {
     "name": "#%%\n"
    }
   },
   "outputs": [],
   "source": [
    "import pandas as pd\n",
    "poligon1 = [[0,1,0], [1,1,1], [0,1,0]]\n",
    "poligon2 = [[1,1], [1,0]]\n",
    "poligon3 = [[1,1,1], [0,1,0]]\n",
    "\n",
    "poligons = [poligon1, poligon2, poligon3]\n",
    "\n",
    "matrix = [[0,0,0,0,0,0,0,0],\n",
    "          [0,0,0,0,0,0,0,0],\n",
    "          [0,0,0,0,0,0,0,0],\n",
    "          [0,0,0,0,0,0,0,0],\n",
    "          [0,0,0,0,0,0,0,0],\n",
    "          [0,0,0,0,0,0,0,0],\n",
    "          [0,0,0,0,0,0,0,0]]"
   ]
  },
  {
   "cell_type": "code",
   "execution_count": 393,
   "outputs": [
    {
     "name": "stdout",
     "output_type": "stream",
     "text": [
      "[0, 0, 0, 0, 0, 0, 0, 0] \n",
      "\n",
      "[0, 0, 0, 0, 0, 0, 0, 0] \n",
      "\n",
      "[0, 0, 0, 0, 0, 0, 0, 0] \n",
      "\n",
      "[0, 0, 0, 0, 0, 0, 0, 0] \n",
      "\n",
      "[0, 0, 0, 0, 0, 0, 0, 0] \n",
      "\n",
      "[0, 0, 0, 0, 0, 0, 0, 0] \n",
      "\n",
      "[0, 0, 0, 0, 0, 0, 0, 0] \n",
      "\n"
     ]
    }
   ],
   "source": [
    "def print_matrix(matrix):\n",
    "    for i in range(len(matrix)):\n",
    "        print(matrix[i],'\\n')\n",
    "\n",
    "print_matrix(matrix)\n"
   ],
   "metadata": {
    "collapsed": false,
    "pycharm": {
     "name": "#%%\n"
    }
   }
  },
  {
   "cell_type": "code",
   "execution_count": 394,
   "outputs": [],
   "source": [
    "def fit_item(matrix, item):\n",
    "    for i in range(len(matrix[0])):\n",
    "        for j in range(len(matrix)):\n",
    "            exit = False\n",
    "            # условия, что объект влезает\n",
    "            if len(item) + i <= len(matrix) and len(item[0]) + j <= len(matrix[0]):\n",
    "                # располагаем объект\n",
    "                for p in range(len(item)):\n",
    "                    for k in range(len(item[0])):\n",
    "                        # решаем есть ли пересечение\n",
    "                        if matrix[i+p][j+k] + item[p][k] == 2:\n",
    "                            exit = True\n",
    "                            break\n",
    "                    if exit:\n",
    "                        break\n",
    "            else:\n",
    "                exit = True\n",
    "            # если пересечений нет и элемент влезает, то добавляем его\n",
    "            if not exit:\n",
    "                for p in range(len(item)):\n",
    "                    for k in range(len(item[0])):\n",
    "                        matrix[i+p][j+k] += item[p][k]\n",
    "                break\n",
    "        if not exit:\n",
    "            break\n",
    "    # print_matrix(matrix)\n",
    "    # print('--------------')\n",
    "    return matrix"
   ],
   "metadata": {
    "collapsed": false,
    "pycharm": {
     "name": "#%%\n"
    }
   }
  },
  {
   "cell_type": "code",
   "execution_count": 395,
   "outputs": [],
   "source": [
    "# fit_item(matrix, poligon2)\n",
    "\n",
    "def fit_list(matrix, items):\n",
    "    for item in items:\n",
    "        matrix = fit_item(matrix, item)\n",
    "        print_matrix(matrix)\n",
    "        print('--------------')\n",
    "    return matrix"
   ],
   "metadata": {
    "collapsed": false,
    "pycharm": {
     "name": "#%%\n"
    }
   }
  },
  {
   "cell_type": "code",
   "execution_count": 396,
   "outputs": [
    {
     "name": "stdout",
     "output_type": "stream",
     "text": [
      "[0, 1, 0, 0, 0, 0, 0, 0] \n",
      "\n",
      "[1, 1, 1, 0, 0, 0, 0, 0] \n",
      "\n",
      "[0, 1, 0, 0, 0, 0, 0, 0] \n",
      "\n",
      "[0, 0, 0, 0, 0, 0, 0, 0] \n",
      "\n",
      "[0, 0, 0, 0, 0, 0, 0, 0] \n",
      "\n",
      "[0, 0, 0, 0, 0, 0, 0, 0] \n",
      "\n",
      "[0, 0, 0, 0, 0, 0, 0, 0] \n",
      "\n",
      "--------------\n",
      "[0, 1, 0, 1, 1, 0, 0, 0] \n",
      "\n",
      "[1, 1, 1, 1, 0, 0, 0, 0] \n",
      "\n",
      "[0, 1, 0, 0, 0, 0, 0, 0] \n",
      "\n",
      "[0, 0, 0, 0, 0, 0, 0, 0] \n",
      "\n",
      "[0, 0, 0, 0, 0, 0, 0, 0] \n",
      "\n",
      "[0, 0, 0, 0, 0, 0, 0, 0] \n",
      "\n",
      "[0, 0, 0, 0, 0, 0, 0, 0] \n",
      "\n",
      "--------------\n",
      "[0, 1, 0, 1, 1, 1, 1, 1] \n",
      "\n",
      "[1, 1, 1, 1, 0, 0, 1, 0] \n",
      "\n",
      "[0, 1, 0, 0, 0, 0, 0, 0] \n",
      "\n",
      "[0, 0, 0, 0, 0, 0, 0, 0] \n",
      "\n",
      "[0, 0, 0, 0, 0, 0, 0, 0] \n",
      "\n",
      "[0, 0, 0, 0, 0, 0, 0, 0] \n",
      "\n",
      "[0, 0, 0, 0, 0, 0, 0, 0] \n",
      "\n",
      "--------------\n"
     ]
    },
    {
     "data": {
      "text/plain": "[[0, 1, 0, 1, 1, 1, 1, 1],\n [1, 1, 1, 1, 0, 0, 1, 0],\n [0, 1, 0, 0, 0, 0, 0, 0],\n [0, 0, 0, 0, 0, 0, 0, 0],\n [0, 0, 0, 0, 0, 0, 0, 0],\n [0, 0, 0, 0, 0, 0, 0, 0],\n [0, 0, 0, 0, 0, 0, 0, 0]]"
     },
     "execution_count": 396,
     "metadata": {},
     "output_type": "execute_result"
    }
   ],
   "source": [
    "fit_list(matrix, poligons)\n"
   ],
   "metadata": {
    "collapsed": false,
    "pycharm": {
     "name": "#%%\n"
    }
   }
  }
 ],
 "metadata": {
  "kernelspec": {
   "display_name": "Python 3",
   "language": "python",
   "name": "python3"
  },
  "language_info": {
   "codemirror_mode": {
    "name": "ipython",
    "version": 2
   },
   "file_extension": ".py",
   "mimetype": "text/x-python",
   "name": "python",
   "nbconvert_exporter": "python",
   "pygments_lexer": "ipython2",
   "version": "2.7.6"
  }
 },
 "nbformat": 4,
 "nbformat_minor": 0
}