{
 "cells": [
  {
   "cell_type": "code",
   "execution_count": 286,
   "metadata": {
    "collapsed": true,
    "pycharm": {
     "name": "#%%\n"
    }
   },
   "outputs": [],
   "source": [
    "from src.smth2matrix.shift2zero import shift2zero\n",
    "import numpy as np\n",
    "from math import ceil, floor\n",
    "\n",
    "def line(p1, p2):\n",
    "    A = (p1[1] - p2[1])\n",
    "    B = (p2[0] - p1[0])\n",
    "    C = (p1[0]*p2[1] - p2[0]*p1[1])\n",
    "    return A, B, -C\n",
    "\n",
    "def intersection(points1, points2):\n",
    "    L1 = line(points1[0], points1[1])\n",
    "    L2 = line(points2[0], points2[1])\n",
    "    D  = L1[0] * L2[1] - L1[1] * L2[0]\n",
    "    Dx = L1[2] * L2[1] - L1[1] * L2[2]\n",
    "    Dy = L1[0] * L2[2] - L1[2] * L2[0]\n",
    "    if D != 0:\n",
    "        x = Dx / D\n",
    "        y = Dy / D\n",
    "        return x,y\n",
    "    else:\n",
    "        return False"
   ]
  },
  {
   "cell_type": "code",
   "execution_count": 287,
   "outputs": [
    {
     "name": "stdout",
     "output_type": "stream",
     "text": [
      "bi 0.7\n",
      "bi 1.8\n",
      "0 1\n",
      "0.46666666666666656\n",
      "2 1\n",
      "2.043243243243243\n",
      "0 2\n",
      "0.23333333333333328\n",
      "2 2\n",
      "2.2864864864864862\n",
      "bi 0.0\n",
      "2 3\n",
      "2.5297297297297296\n",
      "2.7\n",
      "[[[0.7], [1.8]], [0.46666666666666656, 2.043243243243243], [0.23333333333333328, 2.2864864864864862], [[0.0], 2.5297297297297296], [2.7, 2.7]]\n"
     ]
    }
   ],
   "source": [
    "h = 1\n",
    "points = np.array([[0.3, 3], [1, 0], [2.1, 0], [3, 3.7]])\n",
    "\n",
    "size_of_sides = shift2zero(points)\n",
    "n_x = ceil(size_of_sides[0] / h)\n",
    "n_y = ceil(size_of_sides[1] / h)\n",
    "\n",
    "lines = []\n",
    "for _ in range(n_y+1):\n",
    "    lines.append([])\n",
    "\n",
    "for k in range(0, n_y+1):\n",
    "    for i0 in range(points.shape[0]):\n",
    "        if i0 == points.shape[0]-1:\n",
    "            i1 = 0\n",
    "        else:\n",
    "            i1 = (i0 + 1)\n",
    "        if i0 == 0:\n",
    "            i2 = points.shape[0]-1\n",
    "        else:\n",
    "            i2 = (i0 - 1)\n",
    "        #вершина лежит на линии\n",
    "        if points[i0][1] == k*h:\n",
    "            if points[i2][1] < k*h and points[i1][1] < k*h:\n",
    "                print('hi', points[i0][0])\n",
    "                lines[k].append([points[i0][0], points[i0][0]])\n",
    "            elif points[i2][1] > k*h and points[i1][1] > k*h:\n",
    "                print('ki',points[i0][0])\n",
    "                lines[k].append([points[i0][0], points[i0][0]])\n",
    "            else:\n",
    "                print('bi',points[i0][0])\n",
    "                lines[k].append([points[i0][0]])\n",
    "        #ребро пересекает линию\n",
    "        if points[i0][1] < k*h < points[i1][1] or points[i1][1] < k*h < points[i0][1]:\n",
    "            print(i0, k)\n",
    "            seg = intersection([points[i0], points[i1]], [[0, k*h], [n_x, k*h]])[0]\n",
    "            lines[k].append(seg)\n",
    "            print(intersection([points[i0], points[i1]], [[0, k*h], [n_x, k*h]])[0])\n",
    "\n",
    "\n",
    "        #extension algorithm\n",
    "        if k*(h + 1) > points[i0][1] > k*h >= points[i1][1] and points[i2][1] <= k*h:\n",
    "            lines[k+1].append(points[i0][0])\n",
    "            print(points[i0][0])\n",
    "            lines[k+1].append(points[i0][0])\n",
    "        elif points[i1][1] >= k*h > points[i0][1] > k*(h+1) and points[i2][1] >= k*h:\n",
    "            lines[k+1].append(points[i0][0])\n",
    "            print(points[i0][0])\n",
    "            lines[k+1].append(points[i0][0])\n",
    "\n",
    "print(lines)\n"
   ],
   "metadata": {
    "collapsed": false,
    "pycharm": {
     "name": "#%%\n"
    }
   }
  },
  {
   "cell_type": "code",
   "execution_count": 288,
   "outputs": [
    {
     "name": "stdout",
     "output_type": "stream",
     "text": [
      "[[0.7, 1.8], [0.46666666666666656, 2.043243243243243], [0.23333333333333328, 2.2864864864864862], [0.0, 2.5297297297297296], [2.7, 2.7]]\n",
      "[[[0, 0], [20, 20]], [[0, 0], [20, 20]], [[0, 0], [20, 20]], [[0, 0], [20, 20]], [[0, 0], [20, 20]], [[0, 0], [20, 20]], [[0, 0], [20, 20]], [[0, 0], [20, 20]], [[0, 0], [20, 20]], [[0, 0], [20, 20]], [[0, 0], [20, 20]], [[0, 0], [20, 20]], [[0, 0], [20, 20]], [[0, 0], [20, 20]], [[0, 0], [20, 20]], [[0, 0], [20, 20]], [[0, 0], [20, 20]], [[0, 0], [20, 20]], [[0, 0], [20, 20]], [[0, 0], [20, 20]]]\n"
     ]
    }
   ],
   "source": [
    "# %run C:\\Users\\79833\\OneDrive\\Документы\\GitHub\\NestingProblem-BMW2022\\src\\greedy_alg\\class_pallets.py\n",
    "\n",
    "\n",
    "\n",
    "from src.greedy_alg.class_pallets import Pallets\n",
    "from src.class_packing import Packing\n",
    "from src.smth2lines.polygon2segments import polygon2segments\n",
    "\n",
    "h = 1\n",
    "points = np.array([[0.3, 3], [1, 0], [2.1, 0], [3, 3.7]])\n",
    "\n",
    "lines = polygon2segments(points, h)\n",
    "print(lines)\n",
    "\n",
    "packaging = Packing(width=200, height=30, drill_radius=0)\n",
    "\n",
    "pallets = Pallets([20, 20])\n",
    "pallets.add_pallet_lines()\n",
    "\n",
    "print(pallets.pallet_lines)"
   ],
   "metadata": {
    "collapsed": false,
    "pycharm": {
     "name": "#%%\n"
    }
   }
  },
  {
   "cell_type": "code",
   "execution_count": 289,
   "outputs": [
    {
     "data": {
      "text/plain": "[2.7, 3.7]"
     },
     "execution_count": 289,
     "metadata": {},
     "output_type": "execute_result"
    }
   ],
   "source": [
    "from src.class_item import Item\n",
    "\n",
    "points = np.array([[0.3, 3], [1, 0], [2.1, 0], [3, 3.7]])\n",
    "shift2zero(points)"
   ],
   "metadata": {
    "collapsed": false,
    "pycharm": {
     "name": "#%%\n"
    }
   }
  },
  {
   "cell_type": "code",
   "execution_count": 290,
   "outputs": [
    {
     "name": "stdout",
     "output_type": "stream",
     "text": [
      "здесь3\n",
      "строка 0 : [[0, 0], [0.9333333333333333, 2.033333333333333], [2.2333333333333334, 3.2333333333333334], [20, 20]]\n",
      "строка 1 : [[0, 0], [0.7, 2.276576576576576], [20, 20]]\n",
      "строка 2 : [[0, 0], [0.4666666666666667, 2.5198198198198196], [20, 20]]\n",
      "строка 3 : [[0, 0], [0.2333333333333334, 2.763063063063063], [20, 20]]\n",
      "строка 4 : [[0, 0], [2.9333333333333336, 2.9333333333333336], [20, 20]]\n",
      "здесь1\n",
      "строка 1 : [[0, 0], [0.7, 2.276576576576576], [2.7531531531531535, 3.853153153153153], [4.053153153153153, 6.053153153153153], [20, 20]]\n",
      "строка 2 : [[0, 0], [0.4666666666666667, 2.5198198198198196], [2.51981981981982, 4.096396396396396], [20, 20]]\n",
      "строка 3 : [[0, 0], [0.2333333333333334, 2.763063063063063], [2.2864864864864867, 4.339639639639639], [20, 20]]\n",
      "строка 4 : [[0, 0], [2.9333333333333336, 2.9333333333333336], [2.0531531531531533, 4.582882882882883], [20, 20]]\n",
      "строка 5 : [[0, 0], [4.7531531531531535, 4.7531531531531535], [20, 20]]\n"
     ]
    }
   ],
   "source": [
    "from copy import copy\n",
    "segments = [\n",
    "    [[0.7, 1.8], [2,3]], [[0.46666666666666656, 2.043243243243243]], [[0.23333333333333328, 2.2864864864864862]], [[0.0, 2.5297297297297296]], [[2.7, 2.7]]\n",
    "]\n",
    "\n",
    "segments_2 = [\n",
    "    [[0.7, 1.8], [2,4]], [[0.46666666666666656, 2.043243243243243]], [[0.23333333333333328, 2.2864864864864862]], [[0.0, 2.5297297297297296]], [[2.7, 2.7]]\n",
    "]\n",
    "\n",
    "item_1 = Item(1, points)\n",
    "\n",
    "item_1.segments = segments\n",
    "\n",
    "item_2 = Item(2, points)\n",
    "\n",
    "item_2.segments = segments_2\n",
    "\n",
    "items = [copy(item_1), copy(item_2)]\n",
    "\n",
    "for r in range(len(pallets.pallet_lines)):\n",
    "    # print('change r')\n",
    "    row = pallets.pallet_lines[r]\n",
    "    for k in range(1, len(row)):\n",
    "        for item in items:\n",
    "            # print('change item')\n",
    "            if not item.packed:\n",
    "                t_vector = row[k-1][1] - item.segments[0][0][0]\n",
    "                r_flag = 0\n",
    "                ex_flag = 0\n",
    "                i = 0\n",
    "                l = len(item.segments[0])\n",
    "                while i < len(item.segments) and ex_flag == 0:\n",
    "                    # если первая строка объекта уже не помещается в отрезок\n",
    "                    if i == 0 and item.segments[0][l-1][1] + t_vector > row[k][0]: # может быть [0][l-1][1][1]\n",
    "                            ex_flag = 1\n",
    "                    # если первая строка ещё помещается в отрезок\n",
    "                    else:\n",
    "                        j = 0\n",
    "                        while j < len(item.segments[i]) and r_flag == 0:\n",
    "                            m = 0\n",
    "                            while r + i < len(pallets.pallet_lines) and m < len(pallets.pallet_lines[r+i]) and r_flag == 0:\n",
    "                                # случаи пересечения линии и упаковки\n",
    "                                if pallets.pallet_lines[r+i][m][0] <= item.segments[i][j][0] + t_vector < pallets.pallet_lines[r+i][m][1]:\n",
    "                                    t_vector += pallets.pallet_lines[r+i][m][1] - (item.segments[i][j][0] + t_vector)\n",
    "                                    i = 0\n",
    "                                    r_flag = 1\n",
    "                                    print('здесь1')\n",
    "                                if pallets.pallet_lines[r+i][m][0] <= item.segments[i][j][1] + t_vector < pallets.pallet_lines[r+i][m][1]:\n",
    "                                    t_vector += pallets.pallet_lines[r+i][m][1] - (item.segments[i][j][1] + t_vector)\n",
    "                                    i = 0\n",
    "                                    r_flag = 1\n",
    "                                    print('здесь2')\n",
    "                                # объект выходит за границы палеты\n",
    "                                if item.segments[i][j][0] + t_vector < 0:\n",
    "                                    t_vector = - (item.segments[i][j][0] + t_vector)\n",
    "                                    i = 0\n",
    "                                    r_flag = 1\n",
    "                                    print('здесь3')\n",
    "                                elif item.segments[i][j][1] + t_vector > pallets.shape[0]:\n",
    "                                    ex_flag = 1\n",
    "                                    r_flag = 1\n",
    "                                    print('здесь4')\n",
    "                                m += 1\n",
    "                            j += 1\n",
    "                    i+=1\n",
    "                # если объект влезает, добавляем его на палету\n",
    "                if ex_flag == 0:\n",
    "                    # print('hello', r, 'id', item.id)\n",
    "                    item.t_vector = t_vector\n",
    "                    item.packed = True\n",
    "                    # print('вектор: ',item.t_vector)\n",
    "                    for s in range(len(item.segments)):\n",
    "                        # print('сегмент: ',item.segments[s])\n",
    "                        for l in range(len(item.segments[s])):\n",
    "                            new_line = [item.segments[s][l][0] + item.t_vector, item.segments[s][l][1] + item.t_vector]\n",
    "                            pallets.pallet_lines[r+s].append(copy(new_line))\n",
    "                        pallets.pallet_lines[r+s].sort(key=lambda x: int(x[0]), reverse=False)\n",
    "                        print('строка', r+s , ':', pallets.pallet_lines[r+s])\n",
    "\n",
    "\n",
    "\n"
   ],
   "metadata": {
    "collapsed": false,
    "pycharm": {
     "name": "#%%\n"
    }
   }
  }
 ],
 "metadata": {
  "kernelspec": {
   "display_name": "Python 3",
   "language": "python",
   "name": "python3"
  },
  "language_info": {
   "codemirror_mode": {
    "name": "ipython",
    "version": 2
   },
   "file_extension": ".py",
   "mimetype": "text/x-python",
   "name": "python",
   "nbconvert_exporter": "python",
   "pygments_lexer": "ipython2",
   "version": "2.7.6"
  }
 },
 "nbformat": 4,
 "nbformat_minor": 0
}