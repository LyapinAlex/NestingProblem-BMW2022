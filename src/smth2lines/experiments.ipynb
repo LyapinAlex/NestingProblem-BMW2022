{
 "cells": [
  {
   "cell_type": "code",
   "execution_count": 732,
   "metadata": {
    "collapsed": true,
    "pycharm": {
     "name": "#%%\n"
    }
   },
   "outputs": [],
   "source": [
    "from src.smth2matrix.shift2zero import shift2zero\n",
    "import numpy as np\n",
    "from math import ceil, floor\n",
    "\n",
    "def line(p1, p2):\n",
    "    A = (p1[1] - p2[1])\n",
    "    B = (p2[0] - p1[0])\n",
    "    C = (p1[0]*p2[1] - p2[0]*p1[1])\n",
    "    return A, B, -C\n",
    "\n",
    "def intersection(points1, points2):\n",
    "    L1 = line(points1[0], points1[1])\n",
    "    L2 = line(points2[0], points2[1])\n",
    "    D  = L1[0] * L2[1] - L1[1] * L2[0]\n",
    "    Dx = L1[2] * L2[1] - L1[1] * L2[2]\n",
    "    Dy = L1[0] * L2[2] - L1[2] * L2[0]\n",
    "    if D != 0:\n",
    "        x = Dx / D\n",
    "        y = Dy / D\n",
    "        return x,y\n",
    "    else:\n",
    "        return False"
   ]
  },
  {
   "cell_type": "code",
   "execution_count": 733,
   "outputs": [
    {
     "name": "stdout",
     "output_type": "stream",
     "text": [
      "[[], [], [], [], [], [], []]\n"
     ]
    }
   ],
   "source": [
    "from copy import copy\n",
    "\n",
    "h = 0.5\n",
    "# points = np.array([[0.3, 3], [1, 0], [2.1, 0], [3, 3.7]])\n",
    "\n",
    "points = np.array([[1.69276116 ,3],\n",
    " # [1.69276116 ,2.40918685],\n",
    " [0.97614341, 2.27911778],\n",
    " [1.18717325, 1.35598215],\n",
    " [0.         ,0.91673339],\n",
    " [0.62090266, 0.2566332 ],\n",
    " [1.56841545, 0.79986711],\n",
    " [1.99697896, 0.        ],\n",
    " [1.80357704, 1.01107135],\n",
    " [2, 1.3],\n",
    " # [1.80357704, 0.9],\n",
    " # [2.4401742,  1.01461923],\n",
    " [2.84740494, 1.65159917],\n",
    " [2., 2.2]])\n",
    "\n",
    "shift2zero(points)\n",
    "\n",
    "n_x1 = 0\n",
    "n_y1 = 0\n",
    "for point in points:\n",
    "    if point[0] > n_x1:\n",
    "        n_x1 = copy(point[0])\n",
    "    if point[1] > n_y1:\n",
    "        n_y1 = copy(point[1])\n",
    "n_x = ceil(n_x1 / h)\n",
    "n_y = ceil(n_y1 / h)\n",
    "\n",
    "lines = []\n",
    "for _ in range(n_y+1):\n",
    "    lines.append([])\n",
    "print(lines)"
   ],
   "metadata": {
    "collapsed": false,
    "pycharm": {
     "name": "#%%\n"
    }
   }
  },
  {
   "cell_type": "code",
   "execution_count": 734,
   "outputs": [
    {
     "name": "stdout",
     "output_type": "stream",
     "text": [
      "start: 1.1957189732749618 end: None\n",
      "start: 1.1957189732749618 end: None\n",
      "start: 1.1957189732749618 end: None\n",
      "start: 1.1957189732749618 end: None\n",
      "start: 1.1957189732749618 end: None\n",
      "start: 1.1957189732749618 end: None\n",
      "start: 1.1957189732749618 end: None\n",
      "start: 1.1957189732749618 end: None\n",
      "start: 1.1957189732749618 end: None\n",
      "start: 1.1957189732749618 end: None\n",
      "start: 1.1957189732749618 end: 1.8847854350000002\n",
      "[[[1.99697896, 1.99697896]], [[0.3919872684202945, 1.0453849160163302], [1.729082265260295, 1.9013368868663878]], [[0.2250476290705583, 1.8056948137327755]], [[1.1542506080230632, 2.4820289763482664]], [[1.0399500474434655, 2.309045826936476]], [[1.1957189732749618, 1.8847854350000002]], [[1.69276116, 1.69276116]]]\n"
     ]
    }
   ],
   "source": [
    "for k in range(0, n_y+1):\n",
    "    start = None\n",
    "    end = None\n",
    "    intersection_start = None\n",
    "    intersection_end = None\n",
    "    counter = 0\n",
    "    i0 = 0\n",
    "    while i0 < points.shape[0]:\n",
    "        if i0 == points.shape[0]-1:\n",
    "            i1 = 0\n",
    "        else:\n",
    "            i1 = (i0 + 1)\n",
    "        if i0 == 0:\n",
    "            i2 = points.shape[0]-1\n",
    "        else:\n",
    "            i2 = (i0 - 1)\n",
    "\n",
    "        #вершина лежит на линии\n",
    "        if points[i0][1] == k*h:\n",
    "            if points[i2][1] < k*h and points[i1][1] < k*h:\n",
    "                lines[k].append([points[i0][0], points[i0][0]])\n",
    "            elif points[i2][1] > k*h and points[i1][1] > k*h:\n",
    "                lines[k].append([points[i0][0], points[i0][0]])\n",
    "            else:\n",
    "                if start is None:\n",
    "                    start = copy(points[i0][0])\n",
    "                else:\n",
    "                    end = copy(points[i0][0])\n",
    "\n",
    "        #ребро пересекает линию\n",
    "        elif points[i0][1] < k*h < points[i1][1] or points[i1][1] < k*h < points[i0][1]:\n",
    "            intersection_point = intersection([points[i0], points[i1]], [[0, k*h], [n_x, k*h]])[0]\n",
    "            if start is None:\n",
    "                start = copy(intersection_point)\n",
    "            else:\n",
    "                end = copy(intersection_point)\n",
    "        if k == 5:\n",
    "            print('start:', start, 'end:', end)\n",
    "\n",
    "        if end is not None:\n",
    "            lines[k].append([start, end])\n",
    "            start = None\n",
    "            end = None\n",
    "        # изменить\n",
    "        #extension algorithm\n",
    "        # if k*(h + 1) > points[i0][1] > k*h >= points[i1][1] and points[i2][1] <= k*h:\n",
    "        #     lines[k+1].append([points[i0][0], points[i0][0]])\n",
    "        #     print('1', k, start)\n",
    "        # elif  points[i1][1] >= (k+1)*h > points[i0][1] > k*h  and  points[i2][1] >= (k+1)*h:\n",
    "        #     lines[k].append([points[i0][0], points[i0][0]])\n",
    "        #     print('2', k, start)\n",
    "        i0 += 1\n",
    "\n",
    "print(lines)"
   ],
   "metadata": {
    "collapsed": false,
    "pycharm": {
     "name": "#%%\n"
    }
   }
  },
  {
   "cell_type": "code",
   "execution_count": 735,
   "outputs": [
    {
     "name": "stdout",
     "output_type": "stream",
     "text": [
      "k: 0 ; points: 0.2566332 kh: 0.0 (k+1)*h: 0.5\n",
      "k: 2 ; points: 1.01107135 kh: 1.0 (k+1)*h: 1.5\n",
      "k: 2 ; points: 1.3 kh: 1.0 (k+1)*h: 1.5\n",
      "k: 3 ; points: 1.65159917 kh: 1.5 (k+1)*h: 2.0\n",
      "[2.4820289763482664, 2.84740494]\n",
      "[2.309045826936476, 2.84740494]\n",
      "k: 4 ; points: 2.2 kh: 2.0 (k+1)*h: 2.5\n"
     ]
    }
   ],
   "source": [
    "for k in range(0, n_y+1):\n",
    "    i = 0\n",
    "    intersection_start = None\n",
    "    intersection_end = None\n",
    "    max = 0\n",
    "    min = None\n",
    "    income = False\n",
    "    outcome = False\n",
    "    while i < len(points):\n",
    "        if i == points.shape[0]-1:\n",
    "            i1 = 0\n",
    "        else:\n",
    "            i1 = (i + 1)\n",
    "        if i == 0:\n",
    "            i2 = points.shape[0]-1\n",
    "        else:\n",
    "            i2 = (i - 1)\n",
    "        if points[i][1] < k*h < points[i1][1] or points[i1][1] < k*h < points[i][1]:\n",
    "            if not income:\n",
    "                income = True\n",
    "            else:\n",
    "                income = False\n",
    "        elif k*h < points[i][1] <= (k+1)*h:\n",
    "            print('k:', k, '; points:', points[i][1], 'kh:', k*h, '(k+1)*h:', (k+1)*h)\n",
    "            intersection_point = intersection([points[i2], points[i]], [[0, k*h], [n_x, k*h]])[0]\n",
    "            intersection_start = copy(intersection_point)\n",
    "            j = i\n",
    "            min = points[i][0]\n",
    "            max = points[i][0]\n",
    "            while k*h < points[j][1] < (k+1)*h and j < len(points) - 1:\n",
    "                if max < points[j][1]:\n",
    "                    max = copy(points[j][1])\n",
    "                elif min > points[j][1]:\n",
    "                    min = copy(points[j][1])\n",
    "                j+=1\n",
    "                if j >= len(points):\n",
    "                    j = len(points) - j\n",
    "            if points[j][1] >= (k+1)*h:\n",
    "                intersection_point = intersection([points[j - 1], points[j]], [[0, (k+1)*h], [n_x, (k+1)*h]])[0]\n",
    "                intersection_end = copy(intersection_point)\n",
    "                if intersection_end < max and intersection_start < max:\n",
    "                    print([copy(intersection_start), copy(max)])\n",
    "                    print([copy(intersection_end), copy(max)])\n",
    "                    lines[k].append([copy(intersection_start), copy(max)])\n",
    "                    lines[k+1].append([copy(intersection_end), copy(max)])\n",
    "            elif points[j][1] <= k*h:\n",
    "                intersection_point = intersection([points[j - 1], points[j]], [[0, k*h], [n_x, k*h]])[0]\n",
    "                intersection_end = copy(intersection_point)\n",
    "\n",
    "        i+=1"
   ],
   "metadata": {
    "collapsed": false,
    "pycharm": {
     "name": "#%%\n"
    }
   }
  },
  {
   "cell_type": "code",
   "execution_count": 736,
   "outputs": [
    {
     "name": "stdout",
     "output_type": "stream",
     "text": [
      "[[1.99697896, 1.99697896]]\n",
      "[[0.3919872684202945, 1.0453849160163302], [1.729082265260295, 1.9013368868663878]]\n",
      "[[0.2250476290705583, 1.8056948137327755]]\n",
      "[[1.1542506080230632, 2.4820289763482664], [2.4820289763482664, 2.84740494]]\n",
      "[[1.0399500474434655, 2.309045826936476], [2.309045826936476, 2.84740494]]\n",
      "[[1.1957189732749618, 1.8847854350000002]]\n",
      "[[1.69276116, 1.69276116]]\n"
     ]
    }
   ],
   "source": [
    "for line in lines:\n",
    "    print(line)"
   ],
   "metadata": {
    "collapsed": false,
    "pycharm": {
     "name": "#%%\n"
    }
   }
  },
  {
   "cell_type": "code",
   "execution_count": 737,
   "outputs": [
    {
     "name": "stdout",
     "output_type": "stream",
     "text": [
      "0\n"
     ]
    }
   ],
   "source": [
    "from copy import copy\n",
    "\n",
    "# для всех прямых:\n",
    "for i in range(len(lines) - 2):\n",
    "    for j in range(len(lines[i])):\n",
    "        segment = lines[i][j]\n",
    "        stop = False\n",
    "        j = 0\n",
    "        while j <= len(lines[i+1]) - 1 and not stop:\n",
    "            if j == len(lines[i+1]) - 1 and lines[i+1][j][1] < segment[0]:\n",
    "                if len(lines[i]) - 1 == 0 or lines[i][j-1][1] < lines[i+1][j][1]:\n",
    "                    print(i)\n",
    "                    lines[i+1][j][1] = copy(segment[0])\n",
    "                    stop = True\n",
    "            elif lines[i+1][j][1] < segment[0] < lines[i+1][j + 1][0] and lines[i+1][j][1] < segment[1] < lines[i+1][j + 1][0]:\n",
    "                lines[i+1][j][1] = copy(segment[0])\n",
    "                stop = True\n",
    "            j+=1\n",
    "# для последней прямой:\n",
    "i = len(lines)\n",
    "for segment in lines[i - 1]:\n",
    "    stop = False\n",
    "    j = 0\n",
    "    while j < len(lines[i-2]) and not stop:\n",
    "        if j != len(lines[i-2]) - 1:\n",
    "            if lines[i-2][j][1] < segment[0] < lines[i-2][j + 1][0] and lines[i-2][j][1] < segment[1] < lines[i-2][j + 1][0]:\n",
    "                lines[i-2][j][1] = copy(segment[0])\n",
    "                stop = True\n",
    "        elif lines[i-2][j][1] < segment[0]:\n",
    "                lines[i-2][j][1] = copy(segment[0])\n",
    "                stop = True\n",
    "        j += 1"
   ],
   "metadata": {
    "collapsed": false,
    "pycharm": {
     "name": "#%%\n"
    }
   }
  },
  {
   "cell_type": "code",
   "execution_count": 738,
   "outputs": [
    {
     "data": {
      "text/plain": "<Figure size 432x288 with 1 Axes>",
      "image/png": "[encoded data removed]"
     },
     "metadata": {
      "needs_background": "light"
     },
     "output_type": "display_data"
    }
   ],
   "source": [
    "\n",
    "from matplotlib import pyplot as plt, patches\n",
    "\n",
    "pallet_width = n_x1\n",
    "pallet_height = n_y1\n",
    "\n",
    "fig, ax = plt.subplots()\n",
    "\n",
    "ax.set_xlim(-0.5, pallet_width + 2)\n",
    "ax.set_ylim(-0.5, pallet_height + 2)\n",
    "\n",
    "for i in range(len(lines)):\n",
    "    plt.plot([0, pallet_width], [i*h, i*h], color = 'black', linestyle=':')\n",
    "\n",
    "figure = patches.Polygon(points,\n",
    "                            linewidth=1,\n",
    "                            edgecolor='red',\n",
    "                            fill=False)\n",
    "ax.add_patch(figure)\n",
    "\n",
    "for i in range(len(lines)):\n",
    "    for sigment in lines[i]:\n",
    "        if sigment[0] != sigment[1]:\n",
    "            plt.plot(sigment, [i*h, i*h], color = 'blue')\n",
    "        else:\n",
    "            ax.scatter(sigment[0], i*h, color = 'blue', s = 4)\n",
    "\n",
    "plt.savefig('sigments.png')"
   ],
   "metadata": {
    "collapsed": false,
    "pycharm": {
     "name": "#%%\n"
    }
   }
  }
 ],
 "metadata": {
  "kernelspec": {
   "display_name": "Python 3",
   "language": "python",
   "name": "python3"
  },
  "language_info": {
   "codemirror_mode": {
    "name": "ipython",
    "version": 2
   },
   "file_extension": ".py",
   "mimetype": "text/x-python",
   "name": "python",
   "nbconvert_exporter": "python",
   "pygments_lexer": "ipython2",
   "version": "2.7.6"
  }
 },
 "nbformat": 4,
 "nbformat_minor": 0
}