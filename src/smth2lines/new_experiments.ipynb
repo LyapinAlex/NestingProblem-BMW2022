{
 "cells": [
  {
   "cell_type": "code",
   "execution_count": 1,
   "outputs": [
    {
     "data": {
      "text/plain": "[2.7, 3.7]"
     },
     "execution_count": 1,
     "metadata": {},
     "output_type": "execute_result"
    }
   ],
   "source": [
    "from src.smth2matrix.shift2zero import shift2zero\n",
    "import numpy as np\n",
    "from src.greedy_alg.class_pallets import Pallets\n",
    "from src.class_item import Item\n",
    "\n",
    "from copy import copy\n",
    "\n",
    "points = np.array([[0.3, 3], [1, 0], [2.1, 0], [3, 3.7]])\n",
    "shift2zero(points)"
   ],
   "metadata": {
    "collapsed": false,
    "pycharm": {
     "name": "#%%\n"
    }
   }
  },
  {
   "cell_type": "code",
   "execution_count": 2,
   "outputs": [
    {
     "name": "stdout",
     "output_type": "stream",
     "text": [
      "[[], [], [], [], []]\n",
      "[[[0.7, 1.8]], [[0.46666666666666656, 2.043243243243243]], [[0.23333333333333328, 2.2864864864864862]], [[0.0, 2.5297297297297296]], [[2.7, 2.7]]]\n",
      "[[[0.7, 1.8]], [[0.46666666666666656, 2.043243243243243]], [[0.23333333333333328, 2.2864864864864862]], [[0.0, 2.7]], [[2.7, 2.7]]]\n"
     ]
    }
   ],
   "source": [
    "item_1 = Item(1, points)\n",
    "item_1.set_segments(1)\n",
    "print(item_1.segments)\n"
   ],
   "metadata": {
    "collapsed": false,
    "pycharm": {
     "name": "#%%\n"
    }
   }
  },
  {
   "cell_type": "code",
   "execution_count": null,
   "outputs": [],
   "source": [
    "segments = [\n",
    "    [[0.7, 1.8], [2,3]], [[0.46666666666666656, 2.043243243243243]], [[0.23333333333333328, 2.2864864864864862]], [[0.0, 2.5297297297297296]], [[2.7, 2.7]]\n",
    "]\n",
    "\n",
    "segments_2 = [\n",
    "    [[0.7, 1.8], [2,4]], [[0.46666666666666656, 2.043243243243243]], [[0.23333333333333328, 2.2864864864864862]], [[0.0, 2.5297297297297296]], [[2.7, 2.7]]\n",
    "]\n",
    "\n",
    "item_1 = Item(1, points)\n",
    "\n",
    "item_1.segments = segments\n",
    "\n",
    "item_2 = Item(2, points)\n",
    "\n",
    "item_2.segments = segments_2\n",
    "\n",
    "items = [copy(item_1), copy(item_2)]\n",
    "\n",
    "from src.class_packing import Packing\n",
    "from src.smth2lines.polygon2segments import polygon2segments\n",
    "\n",
    "h = 1\n",
    "points = np.array([[0.3, 3], [1, 0], [2.1, 0], [3, 3.7]])\n",
    "\n",
    "lines = polygon2segments(points, h)\n",
    "print(lines)\n",
    "\n",
    "packaging = Packing(width=200, height=30, drill_radius=0)\n",
    "\n",
    "pallets = Pallets([20, 20])\n",
    "pallets.add_pallet_lines()\n",
    "\n",
    "print(pallets.pallet_lines)"
   ],
   "metadata": {
    "collapsed": false,
    "pycharm": {
     "name": "#%%\n"
    }
   }
  },
  {
   "cell_type": "code",
   "execution_count": 2,
   "outputs": [
    {
     "name": "stdout",
     "output_type": "stream",
     "text": [
      "строка 0 : [[0, 0], [0.7, 1.8], [2.0, 3.0], [20, 20]]\n",
      "строка 1 : [[0, 0], [0.46666666666666656, 2.043243243243243], [20, 20]]\n",
      "строка 2 : [[0, 0], [0.23333333333333328, 2.2864864864864862], [20, 20]]\n",
      "строка 3 : [[0, 0], [0.0, 2.5297297297297296], [20, 20]]\n",
      "строка 4 : [[0, 0], [2.7, 2.7], [20, 20]]\n",
      "строка 0 : [[0, 0], [0.7, 1.8], [2.0, 3.0], [3.22972972972973, 4.3297297297297295], [4.52972972972973, 6.52972972972973], [20, 20]]\n",
      "строка 1 : [[0, 0], [0.46666666666666656, 2.043243243243243], [2.9963963963963964, 4.5729729729729724], [20, 20]]\n",
      "строка 2 : [[0, 0], [0.23333333333333328, 2.2864864864864862], [2.763063063063063, 4.816216216216215], [20, 20]]\n",
      "строка 3 : [[0, 0], [0.0, 2.5297297297297296], [2.5297297297297296, 5.059459459459459], [20, 20]]\n",
      "строка 4 : [[0, 0], [2.7, 2.7], [5.22972972972973, 5.22972972972973], [20, 20]]\n"
     ]
    }
   ],
   "source": [
    "for r in range(len(pallets.pallet_lines)):\n",
    "    row = pallets.pallet_lines[r]\n",
    "    for k in range(1, len(row)):\n",
    "        for item in items:\n",
    "            if not item.packed:\n",
    "                t_vector = row[k-1][1] - item.segments[0][0][0]\n",
    "                r_flag = 0\n",
    "                ex_flag = 0\n",
    "                i = 0\n",
    "                l = len(item.segments[0])\n",
    "                while i < len(item.segments) and r + i < len(pallets.pallet_lines) and ex_flag == 0 or ex_flag == 1:\n",
    "                    j = 0\n",
    "                    while j < len(item.segments[i]) and ex_flag == 0:\n",
    "                        m = 0\n",
    "                        while m < len(pallets.pallet_lines[r+i]) and ex_flag == 0:\n",
    "                            # случаи пересечения линии и упаковки\n",
    "                            if pallets.pallet_lines[r+i][m][0] <= item.segments[i][j][0] + t_vector < pallets.pallet_lines[r+i][m][1]:\n",
    "                                t_vector += pallets.pallet_lines[r+i][m][1] - (item.segments[i][j][0] + t_vector)\n",
    "                                i = 0\n",
    "                            elif pallets.pallet_lines[r+i][m][0] <= item.segments[i][j][1] + t_vector < pallets.pallet_lines[r+i][m][1]:\n",
    "                                t_vector += pallets.pallet_lines[r+i][m][1] - (item.segments[i][j][0] + t_vector)\n",
    "                                i = 0\n",
    "                            # объект выходит за границы палеты\n",
    "                            if item.segments[i][j][0] + t_vector < 0:\n",
    "                                t_vector = - item.segments[i][j][0]\n",
    "                                i = 0\n",
    "                            elif item.segments[i][j][1] + t_vector > pallets.shape[0]:\n",
    "                                ex_flag = 1\n",
    "                            m += 1\n",
    "                        j += 1\n",
    "                    i+=1\n",
    "                # если объект влезает, добавляем его на палету\n",
    "                if ex_flag == 0:\n",
    "                    # print('hello', r, 'id', item.id)\n",
    "                    item.t_vector = t_vector\n",
    "                    item.packed = True\n",
    "                    # print('вектор: ',item.t_vector)\n",
    "                    for s in range(len(item.segments)):\n",
    "                        # print('сегмент: ',item.segments[s])\n",
    "                        for l in range(len(item.segments[s])):\n",
    "                            new_line = [item.segments[s][l][0] + item.t_vector, item.segments[s][l][1] + item.t_vector]\n",
    "                            pallets.pallet_lines[r+s].append(copy(new_line))\n",
    "                        pallets.pallet_lines[r+s].sort(key=lambda x: int(x[0]), reverse=False)\n",
    "                        print('строка', r+s , ':', pallets.pallet_lines[r+s])\n"
   ],
   "metadata": {
    "collapsed": false,
    "pycharm": {
     "name": "#%%\n"
    }
   }
  }
 ],
 "metadata": {
  "kernelspec": {
   "display_name": "Python 3",
   "language": "python",
   "name": "python3"
  },
  "language_info": {
   "codemirror_mode": {
    "name": "ipython",
    "version": 2
   },
   "file_extension": ".py",
   "mimetype": "text/x-python",
   "name": "python",
   "nbconvert_exporter": "python",
   "pygments_lexer": "ipython2",
   "version": "2.7.6"
  }
 },
 "nbformat": 4,
 "nbformat_minor": 0
}