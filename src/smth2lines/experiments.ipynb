{
 "cells": [
  {
   "cell_type": "code",
   "execution_count": 143,
   "metadata": {
    "collapsed": true,
    "pycharm": {
     "name": "#%%\n"
    }
   },
   "outputs": [],
   "source": [
    "from src.smth2matrix.shift2zero import shift2zero\n",
    "import numpy as np\n",
    "from math import ceil, floor\n",
    "\n",
    "def line(p1, p2):\n",
    "    A = (p1[1] - p2[1])\n",
    "    B = (p2[0] - p1[0])\n",
    "    C = (p1[0]*p2[1] - p2[0]*p1[1])\n",
    "    return A, B, -C\n",
    "\n",
    "def intersection(points1, points2):\n",
    "    L1 = line(points1[0], points1[1])\n",
    "    L2 = line(points2[0], points2[1])\n",
    "    D  = L1[0] * L2[1] - L1[1] * L2[0]\n",
    "    Dx = L1[2] * L2[1] - L1[1] * L2[2]\n",
    "    Dy = L1[0] * L2[2] - L1[2] * L2[0]\n",
    "    if D != 0:\n",
    "        x = Dx / D\n",
    "        y = Dy / D\n",
    "        return x,y\n",
    "    else:\n",
    "        return False"
   ]
  },
  {
   "cell_type": "code",
   "execution_count": 144,
   "outputs": [
    {
     "name": "stdout",
     "output_type": "stream",
     "text": [
      "0 1\n",
      "0.46666666666666656\n",
      "2 1\n",
      "2.043243243243243\n",
      "0 2\n",
      "0.23333333333333328\n",
      "2 2\n",
      "2.2864864864864862\n",
      "2 3\n",
      "2.5297297297297296\n"
     ]
    }
   ],
   "source": [
    "h = 1\n",
    "points = np.array([[0.3, 3], [1, 0], [2.1, 0], [3, 3.7]])\n",
    "\n",
    "size_of_sides = shift2zero(points)\n",
    "n_x = ceil(size_of_sides[0] / h)\n",
    "n_y = ceil(size_of_sides[1] / h)\n",
    "\n",
    "lines = []\n",
    "for _ in range(n_y+1):\n",
    "    lines.append([])\n",
    "\n",
    "for k in range(0, n_y+1):\n",
    "    for i0 in range(points.shape[0]):\n",
    "        if i0 == points.shape[0]-1:\n",
    "            i1 = 0\n",
    "        else:\n",
    "            i1 = (i0 + 1)\n",
    "        #вершина лежит на линии\n",
    "        if points[i0][1] == k*h:\n",
    "            lines[k].append(points[i0][0])\n",
    "        #ребро пересекает линию\n",
    "        if points[i0][1] < k*h < points[i1][1] or points[i1][1] < k*h < points[i0][1]:\n",
    "            print(i0, k)\n",
    "            lines[k].append(intersection([points[i0], points[i1]], [[0, k*h], [n_x, k*h]])[0])\n",
    "            print(intersection([points[i0], points[i1]], [[0, k*h], [n_x, k*h]])[0])\n",
    "\n"
   ],
   "metadata": {
    "collapsed": false,
    "pycharm": {
     "name": "#%%\n"
    }
   }
  },
  {
   "cell_type": "code",
   "execution_count": 145,
   "outputs": [
    {
     "data": {
      "text/plain": "[[0.7, 1.8],\n [0.46666666666666656, 2.043243243243243],\n [0.23333333333333328, 2.2864864864864862],\n [0.0, 2.5297297297297296],\n []]"
     },
     "execution_count": 145,
     "metadata": {},
     "output_type": "execute_result"
    }
   ],
   "source": [
    "lines"
   ],
   "metadata": {
    "collapsed": false,
    "pycharm": {
     "name": "#%%\n"
    }
   }
  }
 ],
 "metadata": {
  "kernelspec": {
   "display_name": "Python 3",
   "language": "python",
   "name": "python3"
  },
  "language_info": {
   "codemirror_mode": {
    "name": "ipython",
    "version": 2
   },
   "file_extension": ".py",
   "mimetype": "text/x-python",
   "name": "python",
   "nbconvert_exporter": "python",
   "pygments_lexer": "ipython2",
   "version": "2.7.6"
  }
 },
 "nbformat": 4,
 "nbformat_minor": 0
}