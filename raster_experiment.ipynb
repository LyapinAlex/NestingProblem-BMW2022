{
 "cells": [
  {
   "cell_type": "code",
   "execution_count": 8,
   "metadata": {
    "collapsed": true,
    "pycharm": {
     "name": "#%%\n"
    }
   },
   "outputs": [],
   "source": [
    "import copy\n",
    "\n",
    "poligon1 = [[0,1,0], [1,1,1], [0,1,0]]\n",
    "poligon2 = [[1,1], [1,0]]\n",
    "poligon3 = [[1,1,1], [0,1,0]]\n",
    "\n",
    "import generate\n",
    "import pandas as pd\n",
    "import numpy as np\n",
    "\n",
    "\n",
    "\n",
    "matrix = [[0,0,0,0,0,0,0,0],\n",
    "          [0,0,0,0,0,0,0,0],\n",
    "          [0,0,0,0,0,0,0,0],\n",
    "          [0,0,0,0,0,0,0,0],\n",
    "          [0,0,0,0,0,0,0,0],\n",
    "          [0,0,0,0,0,0,0,0],\n",
    "          [0,0,0,0,0,0,0,0]]\n",
    "pallets = []"
   ]
  },
  {
   "cell_type": "code",
   "execution_count": 9,
   "metadata": {
    "collapsed": false,
    "pycharm": {
     "name": "#%%\n"
    }
   },
   "outputs": [],
   "source": [
    "\n",
    "print_matrix(matrix)\n"
   ]
  },
  {
   "cell_type": "code",
   "execution_count": 10,
   "metadata": {
    "collapsed": false,
    "pycharm": {
     "name": "#%%\n"
    }
   },
   "outputs": [],
   "source": [
    "def fit_item(pallet, item):\n",
    "    for i in range(len(pallet[0])):\n",
    "        for j in range(len(pallet)):\n",
    "            exit = False\n",
    "            # условия, что объект влезает\n",
    "            if len(item) + i <= len(pallet) and len(item[0]) + j <= len(pallet[0]):\n",
    "                # располагаем объект\n",
    "                for p in range(len(item)):\n",
    "                    for k in range(len(item[0])):\n",
    "                        # решаем есть ли пересечение\n",
    "                        if pallet[i+p][j+k] + item[p][k] == 2:\n",
    "                            exit = True\n",
    "                            break\n",
    "                    if exit:\n",
    "                        break\n",
    "            else:\n",
    "                exit = True\n",
    "            # если пересечений нет и элемент влезает, то добавляем его\n",
    "            if not exit:\n",
    "                for p in range(len(item)):\n",
    "                    for k in range(len(item[0])):\n",
    "                        pallet[i+p][j+k] += item[p][k]\n",
    "                break\n",
    "        if not exit:\n",
    "            break\n",
    "    print_matrix(pallet)\n",
    "    print('--------------')\n",
    "    return pallet, exit"
   ]
  },
  {
   "cell_type": "code",
   "execution_count": 11,
   "metadata": {
    "collapsed": false,
    "pycharm": {
     "name": "#%%\n"
    }
   },
   "outputs": [],
   "source": [
    "# fit_item(matrix, poligon2)"
   ]
  },
  {
   "cell_type": "code",
   "execution_count": 12,
   "metadata": {
    "collapsed": false,
    "pycharm": {
     "name": "#%%\n"
    }
   },
   "outputs": [],
   "source": [
    "def fit_list(matrix, items):\n",
    "    for item in items:\n",
    "        matrix, exit = fit_item(matrix, item)\n",
    "        # print_matrix(matrix)\n",
    "        # print('--------------')\n",
    "    return matrix"
   ]
  },
  {
   "cell_type": "code",
   "execution_count": 13,
   "metadata": {
    "collapsed": false,
    "pycharm": {
     "name": "#%%\n"
    }
   },
   "outputs": [],
   "source": [
    "# fit_list(matrix, poligons)"
   ]
  },
  {
   "cell_type": "code",
   "execution_count": 14,
   "metadata": {
    "collapsed": false,
    "pycharm": {
     "name": "#%%\n"
    }
   },
   "outputs": [],
   "source": [
    "def fit_pallets(matrix, pallets, poligons):\n",
    "    pallets.append(copy.deepcopy(matrix))\n",
    "    print_matrix(matrix)\n",
    "    print('+++++++++++++++')\n",
    "\n",
    "    for poligon in poligons:\n",
    "        i=0\n",
    "        exit = True\n",
    "        while exit and i<len(pallets):\n",
    "        # for pallet in pallets:\n",
    "            pallets[i], exit = fit_item(pallets[i], poligon)\n",
    "            if exit and i==(len(pallets)-1):\n",
    "                pallets.append(copy.deepcopy(matrix))\n",
    "            i+=1\n",
    "    return pallets"
   ]
  },
  {
   "cell_type": "code",
   "execution_count": 15,
   "metadata": {
    "collapsed": false,
    "pycharm": {
     "name": "#%%\n"
    }
   },
   "outputs": [
    {
     "name": "stdout",
     "output_type": "stream",
     "text": [
      "[0, 0, 0, 0, 0, 0, 0, 0] \n",
      "\n",
      "[0, 0, 0, 0, 0, 0, 0, 0] \n",
      "\n",
      "[0, 0, 0, 0, 0, 0, 0, 0] \n",
      "\n",
      "[0, 0, 0, 0, 0, 0, 0, 0] \n",
      "\n",
      "[0, 0, 0, 0, 0, 0, 0, 0] \n",
      "\n",
      "[0, 0, 0, 0, 0, 0, 0, 0] \n",
      "\n",
      "[0, 0, 0, 0, 0, 0, 0, 0] \n",
      "\n",
      "+++++++++++++++\n",
      "[0, 1, 0, 0, 0, 0, 0, 0] \n",
      "\n",
      "[1, 1, 1, 0, 0, 0, 0, 0] \n",
      "\n",
      "[0, 1, 0, 0, 0, 0, 0, 0] \n",
      "\n",
      "[0, 0, 0, 0, 0, 0, 0, 0] \n",
      "\n",
      "[0, 0, 0, 0, 0, 0, 0, 0] \n",
      "\n",
      "[0, 0, 0, 0, 0, 0, 0, 0] \n",
      "\n",
      "[0, 0, 0, 0, 0, 0, 0, 0] \n",
      "\n",
      "--------------\n",
      "[0, 1, 0, 1, 1, 0, 0, 0] \n",
      "\n",
      "[1, 1, 1, 1, 0, 0, 0, 0] \n",
      "\n",
      "[0, 1, 0, 0, 0, 0, 0, 0] \n",
      "\n",
      "[0, 0, 0, 0, 0, 0, 0, 0] \n",
      "\n",
      "[0, 0, 0, 0, 0, 0, 0, 0] \n",
      "\n",
      "[0, 0, 0, 0, 0, 0, 0, 0] \n",
      "\n",
      "[0, 0, 0, 0, 0, 0, 0, 0] \n",
      "\n",
      "--------------\n",
      "[0, 1, 0, 1, 1, 1, 1, 1] \n",
      "\n",
      "[1, 1, 1, 1, 0, 0, 1, 0] \n",
      "\n",
      "[0, 1, 0, 0, 0, 0, 0, 0] \n",
      "\n",
      "[0, 0, 0, 0, 0, 0, 0, 0] \n",
      "\n",
      "[0, 0, 0, 0, 0, 0, 0, 0] \n",
      "\n",
      "[0, 0, 0, 0, 0, 0, 0, 0] \n",
      "\n",
      "[0, 0, 0, 0, 0, 0, 0, 0] \n",
      "\n",
      "--------------\n",
      "[0, 1, 0, 1, 1, 1, 1, 1] \n",
      "\n",
      "[1, 1, 1, 1, 1, 0, 1, 0] \n",
      "\n",
      "[0, 1, 0, 1, 1, 1, 0, 0] \n",
      "\n",
      "[0, 0, 0, 0, 1, 0, 0, 0] \n",
      "\n",
      "[0, 0, 0, 0, 0, 0, 0, 0] \n",
      "\n",
      "[0, 0, 0, 0, 0, 0, 0, 0] \n",
      "\n",
      "[0, 0, 0, 0, 0, 0, 0, 0] \n",
      "\n",
      "--------------\n",
      "[0, 1, 0, 1, 1, 1, 1, 1] \n",
      "\n",
      "[1, 1, 1, 1, 1, 0, 1, 0] \n",
      "\n",
      "[0, 1, 0, 1, 1, 1, 1, 1] \n",
      "\n",
      "[0, 0, 0, 0, 1, 0, 1, 0] \n",
      "\n",
      "[0, 0, 0, 0, 0, 0, 0, 0] \n",
      "\n",
      "[0, 0, 0, 0, 0, 0, 0, 0] \n",
      "\n",
      "[0, 0, 0, 0, 0, 0, 0, 0] \n",
      "\n",
      "--------------\n",
      "[0, 1, 0, 1, 1, 1, 1, 1] \n",
      "\n",
      "[1, 1, 1, 1, 1, 0, 1, 0] \n",
      "\n",
      "[0, 1, 0, 1, 1, 1, 1, 1] \n",
      "\n",
      "[1, 1, 1, 0, 1, 0, 1, 0] \n",
      "\n",
      "[0, 1, 0, 0, 0, 0, 0, 0] \n",
      "\n",
      "[0, 0, 0, 0, 0, 0, 0, 0] \n",
      "\n",
      "[0, 0, 0, 0, 0, 0, 0, 0] \n",
      "\n",
      "--------------\n",
      "[0, 1, 0, 1, 1, 1, 1, 1] \n",
      "\n",
      "[1, 1, 1, 1, 1, 0, 1, 0] \n",
      "\n",
      "[0, 1, 0, 1, 1, 1, 1, 1] \n",
      "\n",
      "[1, 1, 1, 1, 1, 0, 1, 0] \n",
      "\n",
      "[0, 1, 1, 1, 1, 0, 0, 0] \n",
      "\n",
      "[0, 0, 0, 1, 0, 0, 0, 0] \n",
      "\n",
      "[0, 0, 0, 0, 0, 0, 0, 0] \n",
      "\n",
      "--------------\n",
      "[0, 1, 0, 1, 1, 1, 1, 1] \n",
      "\n",
      "[1, 1, 1, 1, 1, 0, 1, 0] \n",
      "\n",
      "[0, 1, 0, 1, 1, 1, 1, 1] \n",
      "\n",
      "[1, 1, 1, 1, 1, 0, 1, 0] \n",
      "\n",
      "[0, 1, 1, 1, 1, 1, 1, 0] \n",
      "\n",
      "[0, 0, 0, 1, 0, 1, 0, 0] \n",
      "\n",
      "[0, 0, 0, 0, 0, 0, 0, 0] \n",
      "\n",
      "--------------\n",
      "[0, 1, 0, 1, 1, 1, 1, 1] \n",
      "\n",
      "[1, 1, 1, 1, 1, 0, 1, 0] \n",
      "\n",
      "[0, 1, 0, 1, 1, 1, 1, 1] \n",
      "\n",
      "[1, 1, 1, 1, 1, 0, 1, 0] \n",
      "\n",
      "[0, 1, 1, 1, 1, 1, 1, 0] \n",
      "\n",
      "[1, 1, 1, 1, 0, 1, 0, 0] \n",
      "\n",
      "[0, 1, 0, 0, 0, 0, 0, 0] \n",
      "\n",
      "--------------\n",
      "[0, 1, 0, 1, 1, 1, 1, 1] \n",
      "\n",
      "[1, 1, 1, 1, 1, 0, 1, 0] \n",
      "\n",
      "[0, 1, 0, 1, 1, 1, 1, 1] \n",
      "\n",
      "[1, 1, 1, 1, 1, 0, 1, 0] \n",
      "\n",
      "[0, 1, 1, 1, 1, 1, 1, 0] \n",
      "\n",
      "[1, 1, 1, 1, 0, 1, 0, 0] \n",
      "\n",
      "[0, 1, 0, 0, 0, 0, 0, 0] \n",
      "\n",
      "--------------\n",
      "[0, 1, 0, 0, 0, 0, 0, 0] \n",
      "\n",
      "[1, 1, 1, 0, 0, 0, 0, 0] \n",
      "\n",
      "[0, 1, 0, 0, 0, 0, 0, 0] \n",
      "\n",
      "[0, 0, 0, 0, 0, 0, 0, 0] \n",
      "\n",
      "[0, 0, 0, 0, 0, 0, 0, 0] \n",
      "\n",
      "[0, 0, 0, 0, 0, 0, 0, 0] \n",
      "\n",
      "[0, 0, 0, 0, 0, 0, 0, 0] \n",
      "\n",
      "--------------\n",
      "[0, 1, 0, 1, 1, 1, 1, 1] \n",
      "\n",
      "[1, 1, 1, 1, 1, 0, 1, 0] \n",
      "\n",
      "[0, 1, 0, 1, 1, 1, 1, 1] \n",
      "\n",
      "[1, 1, 1, 1, 1, 0, 1, 0] \n",
      "\n",
      "[0, 1, 1, 1, 1, 1, 1, 0] \n",
      "\n",
      "[1, 1, 1, 1, 0, 1, 1, 1] \n",
      "\n",
      "[0, 1, 0, 0, 0, 0, 1, 0] \n",
      "\n",
      "--------------\n",
      "[0, 1, 0, 1, 1, 1, 1, 1] \n",
      "\n",
      "[1, 1, 1, 1, 1, 0, 1, 0] \n",
      "\n",
      "[0, 1, 0, 1, 1, 1, 1, 1] \n",
      "\n",
      "[1, 1, 1, 1, 1, 0, 1, 0] \n",
      "\n",
      "[0, 1, 1, 1, 1, 1, 1, 0] \n",
      "\n",
      "[1, 1, 1, 1, 0, 1, 1, 1] \n",
      "\n",
      "[0, 1, 0, 0, 0, 0, 1, 0] \n",
      "\n",
      "--------------\n",
      "[0, 1, 1, 1, 1, 0, 0, 0] \n",
      "\n",
      "[1, 1, 1, 1, 0, 0, 0, 0] \n",
      "\n",
      "[0, 1, 0, 0, 0, 0, 0, 0] \n",
      "\n",
      "[0, 0, 0, 0, 0, 0, 0, 0] \n",
      "\n",
      "[0, 0, 0, 0, 0, 0, 0, 0] \n",
      "\n",
      "[0, 0, 0, 0, 0, 0, 0, 0] \n",
      "\n",
      "[0, 0, 0, 0, 0, 0, 0, 0] \n",
      "\n",
      "--------------\n"
     ]
    },
    {
     "data": {
      "text/plain": [
       "[[[0, 1, 0, 1, 1, 1, 1, 1],\n",
       "  [1, 1, 1, 1, 1, 0, 1, 0],\n",
       "  [0, 1, 0, 1, 1, 1, 1, 1],\n",
       "  [1, 1, 1, 1, 1, 0, 1, 0],\n",
       "  [0, 1, 1, 1, 1, 1, 1, 0],\n",
       "  [1, 1, 1, 1, 0, 1, 1, 1],\n",
       "  [0, 1, 0, 0, 0, 0, 1, 0]],\n",
       " [[0, 1, 1, 1, 1, 0, 0, 0],\n",
       "  [1, 1, 1, 1, 0, 0, 0, 0],\n",
       "  [0, 1, 0, 0, 0, 0, 0, 0],\n",
       "  [0, 0, 0, 0, 0, 0, 0, 0],\n",
       "  [0, 0, 0, 0, 0, 0, 0, 0],\n",
       "  [0, 0, 0, 0, 0, 0, 0, 0],\n",
       "  [0, 0, 0, 0, 0, 0, 0, 0]]]"
      ]
     },
     "execution_count": 15,
     "metadata": {},
     "output_type": "execute_result"
    }
   ],
   "source": [
    "fit_pallets(matrix, pallets, poligons)"
   ]
  }
 ],
 "metadata": {
  "kernelspec": {
   "display_name": "Python 3.9.10 64-bit (system)",
   "language": "python",
   "name": "python3"
  },
  "language_info": {
   "codemirror_mode": {
    "name": "ipython",
    "version": 3
   },
   "file_extension": ".py",
   "mimetype": "text/x-python",
   "name": "python",
   "nbconvert_exporter": "python",
   "pygments_lexer": "ipython2",
   "version": "3.9.10"
  },
  "vscode": {
   "interpreter": {
    "hash": "6643e6ed50db0d59a33908eb86408b16df6c710e8c0d335ec4f1e3d889261d64"
   }
  }
 },
 "nbformat": 4,
 "nbformat_minor": 0
}
