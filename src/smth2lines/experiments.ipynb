{
 "cells": [
  {
   "cell_type": "code",
   "execution_count": null,
   "metadata": {
    "collapsed": true,
    "pycharm": {
     "name": "#%%\n"
    }
   },
   "outputs": [],
   "source": [
    "from src.smth2matrix.shift2zero import shift2zero\n",
    "import numpy as np\n",
    "from math import ceil, floor\n",
    "\n",
    "def line(p1, p2):\n",
    "    A = (p1[1] - p2[1])\n",
    "    B = (p2[0] - p1[0])\n",
    "    C = (p1[0]*p2[1] - p2[0]*p1[1])\n",
    "    return A, B, -C\n",
    "\n",
    "def intersection(points1, points2):\n",
    "    L1 = line(points1[0], points1[1])\n",
    "    L2 = line(points2[0], points2[1])\n",
    "    D  = L1[0] * L2[1] - L1[1] * L2[0]\n",
    "    Dx = L1[2] * L2[1] - L1[1] * L2[2]\n",
    "    Dy = L1[0] * L2[2] - L1[2] * L2[0]\n",
    "    if D != 0:\n",
    "        x = Dx / D\n",
    "        y = Dy / D\n",
    "        return x,y\n",
    "    else:\n",
    "        return False"
   ]
  },
  {
   "cell_type": "code",
   "execution_count": null,
   "outputs": [],
   "source": [
    "h = 1\n",
    "points = np.array([[0.3, 3], [1, 0], [2.1, 0], [3, 3.7]])\n",
    "\n",
    "size_of_sides = shift2zero(points)\n",
    "n_x = ceil(size_of_sides[0] / h)\n",
    "n_y = ceil(size_of_sides[1] / h)\n",
    "\n",
    "lines = []\n",
    "for _ in range(n_y+1):\n",
    "    lines.append([])\n",
    "\n",
    "for k in range(0, n_y+1):\n",
    "    for i0 in range(points.shape[0]):\n",
    "        if i0 == points.shape[0]-1:\n",
    "            i1 = 0\n",
    "        else:\n",
    "            i1 = (i0 + 1)\n",
    "        if i0 == 0:\n",
    "            i2 = points.shape[0]-1\n",
    "        else:\n",
    "            i2 = (i0 - 1)\n",
    "        #вершина лежит на линии\n",
    "        if points[i0][1] == k*h:\n",
    "            if points[i2][1] < k*h and points[i1][1] < k*h:\n",
    "                print('hi', points[i0][0])\n",
    "                lines[k].append([points[i0][0], points[i0][0]])\n",
    "            elif points[i2][1] > k*h and points[i1][1] > k*h:\n",
    "                print('ki',points[i0][0])\n",
    "                lines[k].append([points[i0][0], points[i0][0]])\n",
    "            else:\n",
    "                print('bi',points[i0][0])\n",
    "                lines[k].append([points[i0][0]])\n",
    "        #ребро пересекает линию\n",
    "        if points[i0][1] < k*h < points[i1][1] or points[i1][1] < k*h < points[i0][1]:\n",
    "            print(i0, k)\n",
    "            seg = intersection([points[i0], points[i1]], [[0, k*h], [n_x, k*h]])[0]\n",
    "            lines[k].append(seg)\n",
    "            print(intersection([points[i0], points[i1]], [[0, k*h], [n_x, k*h]])[0])\n",
    "\n",
    "\n",
    "        #extension algorithm\n",
    "        if k*(h + 1) > points[i0][1] > k*h >= points[i1][1] and points[i2][1] <= k*h:\n",
    "            lines[k+1].append(points[i0][0])\n",
    "            print(points[i0][0])\n",
    "            lines[k+1].append(points[i0][0])\n",
    "        elif points[i1][1] >= k*h > points[i0][1] > k*(h+1) and points[i2][1] >= k*h:\n",
    "            lines[k+1].append(points[i0][0])\n",
    "            print(points[i0][0])\n",
    "            lines[k+1].append(points[i0][0])\n",
    "\n",
    "print(lines)\n"
   ],
   "metadata": {
    "collapsed": false,
    "pycharm": {
     "name": "#%%\n"
    }
   }
  },
  {
   "cell_type": "code",
   "execution_count": null,
   "outputs": [],
   "source": [
    "# %run C:\\Users\\79833\\OneDrive\\Документы\\GitHub\\NestingProblem-BMW2022\\src\\greedy_alg\\class_pallets.py\n",
    "\n",
    "\n",
    "\n",
    "from src.greedy_alg.class_pallets import Pallets\n",
    "from src.class_packing import Packing\n",
    "from src.smth2lines.polygon2segments import polygon2segments\n",
    "\n",
    "h = 1\n",
    "points = np.array([[0.3, 3], [1, 0], [2.1, 0], [3, 3.7]])\n",
    "\n",
    "lines = polygon2segments(points, h)\n",
    "print(lines)\n",
    "\n",
    "packaging = Packing(width=200, height=30, drill_radius=0)\n",
    "\n",
    "pallets = Pallets([20, 20])\n",
    "pallets.add_pallet_lines()\n",
    "\n",
    "print(pallets.pallet_lines)"
   ],
   "metadata": {
    "collapsed": false,
    "pycharm": {
     "name": "#%%\n"
    }
   }
  },
  {
   "cell_type": "code",
   "execution_count": 30,
   "outputs": [
    {
     "name": "stdout",
     "output_type": "stream",
     "text": [
      "[[0.  3. ]\n",
      " [0.7 0. ]\n",
      " [1.8 0. ]\n",
      " [2.7 3.7]]\n",
      "[[0.  3. ]\n",
      " [0.7 0. ]\n",
      " [1.8 0. ]\n",
      " [2.7 3.7]]\n"
     ]
    }
   ],
   "source": [
    "from src.class_item import Item\n",
    "\n",
    "points = np.array([[0.3, 3], [1, 0], [2.1, 0], [3, 3.7]])\n",
    "shift2zero(points)\n",
    "item_1 = Item(1, points)"
   ],
   "metadata": {
    "collapsed": false,
    "pycharm": {
     "name": "#%%\n"
    }
   }
  },
  {
   "cell_type": "code",
   "execution_count": null,
   "outputs": [
    {
     "ename": "KeyboardInterrupt",
     "evalue": "",
     "output_type": "error",
     "traceback": [
      "\u001B[1;31m---------------------------------------------------------------------------\u001B[0m",
      "\u001B[1;31mKeyboardInterrupt\u001B[0m                         Traceback (most recent call last)",
      "\u001B[1;32m~\\AppData\\Local\\Temp/ipykernel_59636/1563406010.py\u001B[0m in \u001B[0;36m<module>\u001B[1;34m\u001B[0m\n\u001B[0;32m     25\u001B[0m                     \u001B[1;32mwhile\u001B[0m \u001B[0mj\u001B[0m \u001B[1;33m<\u001B[0m \u001B[0mlen\u001B[0m\u001B[1;33m(\u001B[0m\u001B[0mitem\u001B[0m\u001B[1;33m[\u001B[0m\u001B[0mi\u001B[0m\u001B[1;33m]\u001B[0m\u001B[1;33m)\u001B[0m \u001B[1;32mand\u001B[0m \u001B[0mr_flag\u001B[0m \u001B[1;33m==\u001B[0m \u001B[1;36m0\u001B[0m\u001B[1;33m:\u001B[0m\u001B[1;33m\u001B[0m\u001B[1;33m\u001B[0m\u001B[0m\n\u001B[0;32m     26\u001B[0m                         \u001B[0mm\u001B[0m \u001B[1;33m=\u001B[0m \u001B[1;36m0\u001B[0m\u001B[1;33m\u001B[0m\u001B[1;33m\u001B[0m\u001B[0m\n\u001B[1;32m---> 27\u001B[1;33m                         \u001B[1;32mwhile\u001B[0m \u001B[0mm\u001B[0m \u001B[1;33m<\u001B[0m \u001B[0mlen\u001B[0m\u001B[1;33m(\u001B[0m\u001B[0mpallets\u001B[0m\u001B[1;33m.\u001B[0m\u001B[0mpallet_lines\u001B[0m\u001B[1;33m[\u001B[0m\u001B[0mr\u001B[0m\u001B[1;33m+\u001B[0m\u001B[0mi\u001B[0m\u001B[1;33m]\u001B[0m\u001B[1;33m)\u001B[0m \u001B[1;32mand\u001B[0m \u001B[0mr_flag\u001B[0m \u001B[1;33m==\u001B[0m \u001B[1;36m0\u001B[0m\u001B[1;33m:\u001B[0m\u001B[1;33m\u001B[0m\u001B[1;33m\u001B[0m\u001B[0m\n\u001B[0m\u001B[0;32m     28\u001B[0m                             \u001B[1;32mif\u001B[0m \u001B[0mpallets\u001B[0m\u001B[1;33m.\u001B[0m\u001B[0mpallet_lines\u001B[0m\u001B[1;33m[\u001B[0m\u001B[0mr\u001B[0m\u001B[1;33m+\u001B[0m\u001B[0mi\u001B[0m\u001B[1;33m]\u001B[0m\u001B[1;33m[\u001B[0m\u001B[0mm\u001B[0m\u001B[1;33m]\u001B[0m\u001B[1;33m[\u001B[0m\u001B[1;36m0\u001B[0m\u001B[1;33m]\u001B[0m \u001B[1;33m<=\u001B[0m \u001B[0mitem\u001B[0m\u001B[1;33m[\u001B[0m\u001B[0mr\u001B[0m\u001B[1;33m+\u001B[0m\u001B[0mi\u001B[0m\u001B[1;33m]\u001B[0m\u001B[1;33m[\u001B[0m\u001B[0mj\u001B[0m\u001B[1;33m]\u001B[0m\u001B[1;33m[\u001B[0m\u001B[1;36m0\u001B[0m\u001B[1;33m]\u001B[0m \u001B[1;33m+\u001B[0m \u001B[0mt_vector\u001B[0m \u001B[1;33m<\u001B[0m \u001B[0mpallets\u001B[0m\u001B[1;33m.\u001B[0m\u001B[0mpallet_lines\u001B[0m\u001B[1;33m[\u001B[0m\u001B[0mr\u001B[0m\u001B[1;33m+\u001B[0m\u001B[0mi\u001B[0m\u001B[1;33m]\u001B[0m\u001B[1;33m[\u001B[0m\u001B[0mm\u001B[0m\u001B[1;33m]\u001B[0m\u001B[1;33m[\u001B[0m\u001B[1;36m1\u001B[0m\u001B[1;33m]\u001B[0m\u001B[1;33m:\u001B[0m\u001B[1;33m\u001B[0m\u001B[1;33m\u001B[0m\u001B[0m\n\u001B[0;32m     29\u001B[0m                                 \u001B[0mt_vector\u001B[0m \u001B[1;33m+=\u001B[0m \u001B[0mpallets\u001B[0m\u001B[1;33m.\u001B[0m\u001B[0mpallet_lines\u001B[0m\u001B[1;33m[\u001B[0m\u001B[0mr\u001B[0m\u001B[1;33m+\u001B[0m\u001B[0mi\u001B[0m\u001B[1;33m]\u001B[0m\u001B[1;33m[\u001B[0m\u001B[0mm\u001B[0m\u001B[1;33m]\u001B[0m\u001B[1;33m[\u001B[0m\u001B[1;36m1\u001B[0m\u001B[1;33m]\u001B[0m \u001B[1;33m-\u001B[0m \u001B[1;33m(\u001B[0m\u001B[0mitem\u001B[0m\u001B[1;33m[\u001B[0m\u001B[0mr\u001B[0m\u001B[1;33m+\u001B[0m\u001B[0mi\u001B[0m\u001B[1;33m]\u001B[0m\u001B[1;33m[\u001B[0m\u001B[0mj\u001B[0m\u001B[1;33m]\u001B[0m\u001B[1;33m[\u001B[0m\u001B[1;36m0\u001B[0m\u001B[1;33m]\u001B[0m \u001B[1;33m+\u001B[0m \u001B[0mt_vector\u001B[0m\u001B[1;33m)\u001B[0m\u001B[1;33m\u001B[0m\u001B[1;33m\u001B[0m\u001B[0m\n",
      "\u001B[1;31mKeyboardInterrupt\u001B[0m: "
     ]
    }
   ],
   "source": [
    "# items = [points]\n",
    "\n",
    "items = [[\n",
    "    [[0.7, 1.8]], [[0.46666666666666656, 2.043243243243243]], [[0.23333333333333328, 2.2864864864864862]], [[0.0, 2.5297297297297296]], [[2.7, 2.7]]\n",
    "]]\n",
    "\n",
    "print(pallets.pallet_lines)\n",
    "print(len(pallets.pallet_lines))\n",
    "for r in range(len(pallets.pallet_lines)):\n",
    "    row = pallets.pallet_lines[r]\n",
    "    for k in range(1, len(row)):\n",
    "        for item in items:\n",
    "            t_vector = row[k-1][1] - item[0][0][0]\n",
    "            r_flag = 0\n",
    "            ex_flag = 0\n",
    "            i = 0\n",
    "            l = len(item[0])\n",
    "            while i < len(item) and ex_flag == 0:\n",
    "                # если первая строка объекта уже не помещается в отрезок,\n",
    "                if i == 0 and item[0][l-1][1] + t_vector > row[k][0]:\n",
    "                        ex_flag = 1\n",
    "                # если первая строка ещё помещается в отрезок\n",
    "                else:\n",
    "                    j = 0\n",
    "                    while j < len(item[i]) and r_flag == 0:\n",
    "                        m = 0\n",
    "                        while m < len(pallets.pallet_lines[r+i]) and r_flag == 0:\n",
    "                            if pallets.pallet_lines[r+i][m][0] <= item[r+i][j][0] + t_vector < pallets.pallet_lines[r+i][m][1]:\n",
    "                                t_vector += pallets.pallet_lines[r+i][m][1] - (item[r+i][j][0] + t_vector)\n",
    "                                i = 0\n",
    "                                r_flag = 1\n",
    "                            elif pallets.pallet_lines[r+i][m][0] <= item[r+i][j][1] + t_vector < pallets.pallet_lines[r+i][m][1]:\n",
    "                                t_vector += pallets.pallet_lines[r+i][m][1] - (item[r+i][j][1] + t_vector)\n",
    "                                i = 0\n",
    "                                r_flag = 1\n",
    "                            m += 1\n",
    "                        j += 1\n",
    "\n",
    "\n",
    "\n"
   ],
   "metadata": {
    "collapsed": false,
    "pycharm": {
     "name": "#%%\n"
    }
   }
  }
 ],
 "metadata": {
  "kernelspec": {
   "display_name": "Python 3",
   "language": "python",
   "name": "python3"
  },
  "language_info": {
   "codemirror_mode": {
    "name": "ipython",
    "version": 2
   },
   "file_extension": ".py",
   "mimetype": "text/x-python",
   "name": "python",
   "nbconvert_exporter": "python",
   "pygments_lexer": "ipython2",
   "version": "2.7.6"
  }
 },
 "nbformat": 4,
 "nbformat_minor": 0
}