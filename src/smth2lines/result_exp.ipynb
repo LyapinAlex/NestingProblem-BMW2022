{
 "cells": [
  {
   "cell_type": "code",
   "execution_count": 3,
   "metadata": {
    "collapsed": true,
    "pycharm": {
     "name": "#%%\n"
    }
   },
   "outputs": [
    {
     "name": "stdout",
     "output_type": "stream",
     "text": [
      "[[[0.7, 1.8]], [[0.46666666666666656, 2.043243243243243]], [[0.23333333333333328, 2.2864864864864862]], [[0.0, 2.701]], [[2.7, 2.7]]]\n",
      "[[[0, 0], [10, 10]], [[0, 0], [10, 10]], [[0, 0], [10, 10]], [[0, 0], [10, 10]], [[0, 0], [10, 10]], [[0, 0], [10, 10]], [[0, 0], [10, 10]], [[0, 0], [10, 10]], [[0, 0], [10, 10]], [[0, 0], [10, 10]], [[0, 0], [10, 10]], [[0, 0], [10, 10]], [[0, 0], [10, 10]], [[0, 0], [10, 10]], [[0, 0], [10, 10]], [[0, 0], [10, 10]], [[0, 0], [10, 10]], [[0, 0], [10, 10]], [[0, 0], [10, 10]], [[0, 0], [10, 10]], [[0, 0], [10, 10]], [[0, 0], [10, 10]], [[0, 0], [10, 10]], [[0, 0], [10, 10]], [[0, 0], [10, 10]], [[0, 0], [10, 10]], [[0, 0], [10, 10]], [[0, 0], [10, 10]], [[0, 0], [10, 10]], [[0, 0], [10, 10]]]\n",
      "\n",
      "строка 0 : [[0, 0], [0.7, 1.8], [10, 10]]\n",
      "строка 1 : [[0, 0], [0.46666666666666656, 2.043243243243243], [10, 10]]\n",
      "строка 2 : [[0, 0], [0.23333333333333328, 2.2864864864864862], [10, 10]]\n",
      "строка 3 : [[0, 0], [0.0, 2.701], [10, 10]]\n",
      "строка 4 : [[0, 0], [2.7, 2.7], [10, 10]]\n",
      "\n",
      "строка 0 : [[0, 0], [0.7, 1.8], [3.401, 4.501], [10, 10]]\n",
      "строка 1 : [[0, 0], [0.46666666666666656, 2.043243243243243], [3.1676666666666664, 4.744243243243243], [10, 10]]\n",
      "строка 2 : [[0, 0], [0.23333333333333328, 2.2864864864864862], [2.9343333333333335, 4.987486486486486], [10, 10]]\n",
      "строка 3 : [[0, 0], [0.0, 2.701], [2.701, 5.402], [10, 10]]\n",
      "строка 4 : [[0, 0], [2.7, 2.7], [5.401, 5.401], [10, 10]]\n",
      "\n",
      "строка 0 : [[0, 0], [0.7, 1.8], [3.401, 4.501], [6.102, 7.202], [10, 10]]\n",
      "строка 1 : [[0, 0], [0.46666666666666656, 2.043243243243243], [3.1676666666666664, 4.744243243243243], [5.868666666666667, 7.445243243243243], [10, 10]]\n",
      "строка 2 : [[0, 0], [0.23333333333333328, 2.2864864864864862], [2.9343333333333335, 4.987486486486486], [5.6353333333333335, 7.688486486486486], [10, 10]]\n",
      "строка 3 : [[0, 0], [0.0, 2.701], [2.701, 5.402], [5.402, 8.103], [10, 10]]\n",
      "строка 4 : [[0, 0], [2.7, 2.7], [5.401, 5.401], [8.102, 8.102], [10, 10]]\n",
      "\n",
      "строка 4 : [[0, 0], [0.7, 1.8], [2.7, 2.7], [5.401, 5.401], [8.102, 8.102], [10, 10]]\n",
      "строка 5 : [[0, 0], [0.46666666666666656, 2.043243243243243], [10, 10]]\n",
      "строка 6 : [[0, 0], [0.23333333333333328, 2.2864864864864862], [10, 10]]\n",
      "строка 7 : [[0, 0], [0.0, 2.701], [10, 10]]\n",
      "строка 8 : [[0, 0], [2.7, 2.7], [10, 10]]\n",
      "\n",
      "строка 4 : [[0, 0], [0.7, 1.8], [2.7, 2.7], [3.401, 4.501], [5.401, 5.401], [8.102, 8.102], [10, 10]]\n",
      "строка 5 : [[0, 0], [0.46666666666666656, 2.043243243243243], [3.1676666666666664, 4.744243243243243], [10, 10]]\n",
      "строка 6 : [[0, 0], [0.23333333333333328, 2.2864864864864862], [2.9343333333333335, 4.987486486486486], [10, 10]]\n",
      "строка 7 : [[0, 0], [0.0, 2.701], [2.701, 5.402], [10, 10]]\n",
      "строка 8 : [[0, 0], [2.7, 2.7], [5.401, 5.401], [10, 10]]\n"
     ]
    },
    {
     "ename": "AttributeError",
     "evalue": "'Packing' object has no attribute 'draw_segments_packing'",
     "output_type": "error",
     "traceback": [
      "\u001B[1;31m---------------------------------------------------------------------------\u001B[0m",
      "\u001B[1;31mAttributeError\u001B[0m                            Traceback (most recent call last)",
      "\u001B[1;32m~\\AppData\\Local\\Temp/ipykernel_106528/211409339.py\u001B[0m in \u001B[0;36m<module>\u001B[1;34m\u001B[0m\n\u001B[0;32m     49\u001B[0m \u001B[1;33m\u001B[0m\u001B[0m\n\u001B[0;32m     50\u001B[0m \u001B[0mpackaging\u001B[0m\u001B[1;33m.\u001B[0m\u001B[0msegments_bottom_left\u001B[0m\u001B[1;33m(\u001B[0m\u001B[1;33m)\u001B[0m\u001B[1;33m\u001B[0m\u001B[1;33m\u001B[0m\u001B[0m\n\u001B[1;32m---> 51\u001B[1;33m \u001B[0mpackaging\u001B[0m\u001B[1;33m.\u001B[0m\u001B[0mdraw_segments_packing\u001B[0m\u001B[1;33m(\u001B[0m\u001B[1;33m)\u001B[0m\u001B[1;33m\u001B[0m\u001B[1;33m\u001B[0m\u001B[0m\n\u001B[0m",
      "\u001B[1;31mAttributeError\u001B[0m: 'Packing' object has no attribute 'draw_segments_packing'"
     ]
    }
   ],
   "source": [
    "from src.smth2matrix.shift2zero import shift2zero\n",
    "import numpy as np\n",
    "from src.greedy_alg.class_pallets import Pallets\n",
    "from src.class_item import Item\n",
    "\n",
    "from copy import copy\n",
    "\n",
    "points = np.array([[0.3, 3], [1, 0], [2.1, 0], [3, 3.7]])\n",
    "shift2zero(points)\n",
    "\n",
    "h = 1\n",
    "\n",
    "item_1 = Item(1, points)\n",
    "item_1.set_segments(h)\n",
    "\n",
    "item_2 = Item(2, copy(points))\n",
    "item_2.set_segments(h)\n",
    "\n",
    "item_3 = Item(3, copy(points))\n",
    "item_3.set_segments(h)\n",
    "\n",
    "item_4 = Item(4, copy(points))\n",
    "item_4.set_segments(h)\n",
    "\n",
    "item_5 = Item(5, copy(points))\n",
    "item_5.set_segments(h)\n",
    "\n",
    "items = [copy(item_1), copy(item_2), copy(item_3), copy(item_4), copy(item_5)]\n",
    "\n",
    "from src.class_packing import Packing\n",
    "from src.smth2lines.polygon2segments import polygon2segments\n",
    "\n",
    "h = 1\n",
    "points = np.array([[0.3, 3], [1, 0], [2.1, 0], [3, 3.7]])\n",
    "\n",
    "lines = polygon2segments(points, h)\n",
    "print(lines)\n",
    "\n",
    "packaging = Packing(width=10, height=30, drill_radius=0)\n",
    "\n",
    "pallets = Pallets([10, 30])\n",
    "pallets.add_pallet_lines()\n",
    "\n",
    "print(pallets.pallet_lines)\n",
    "\n",
    "packaging.items = items\n",
    "packaging.pallets = pallets\n",
    "packaging.h = h\n",
    "\n",
    "packaging.segments_bottom_left()\n",
    "packaging.draw_segments_packing()"
   ]
  }
 ],
 "metadata": {
  "kernelspec": {
   "display_name": "Python 3",
   "language": "python",
   "name": "python3"
  },
  "language_info": {
   "codemirror_mode": {
    "name": "ipython",
    "version": 2
   },
   "file_extension": ".py",
   "mimetype": "text/x-python",
   "name": "python",
   "nbconvert_exporter": "python",
   "pygments_lexer": "ipython2",
   "version": "2.7.6"
  }
 },
 "nbformat": 4,
 "nbformat_minor": 0
}