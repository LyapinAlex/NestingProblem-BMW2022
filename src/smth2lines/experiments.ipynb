{
 "cells": [
  {
   "cell_type": "code",
   "execution_count": 188,
   "metadata": {
    "collapsed": true,
    "pycharm": {
     "name": "#%%\n"
    }
   },
   "outputs": [],
   "source": [
    "from src.smth2matrix.shift2zero import shift2zero\n",
    "import numpy as np\n",
    "from math import ceil, floor\n",
    "\n",
    "def line(p1, p2):\n",
    "    A = (p1[1] - p2[1])\n",
    "    B = (p2[0] - p1[0])\n",
    "    C = (p1[0]*p2[1] - p2[0]*p1[1])\n",
    "    return A, B, -C\n",
    "\n",
    "def intersection(points1, points2):\n",
    "    L1 = line(points1[0], points1[1])\n",
    "    L2 = line(points2[0], points2[1])\n",
    "    D  = L1[0] * L2[1] - L1[1] * L2[0]\n",
    "    Dx = L1[2] * L2[1] - L1[1] * L2[2]\n",
    "    Dy = L1[0] * L2[2] - L1[2] * L2[0]\n",
    "    if D != 0:\n",
    "        x = Dx / D\n",
    "        y = Dy / D\n",
    "        return x,y\n",
    "    else:\n",
    "        return False"
   ]
  },
  {
   "cell_type": "code",
   "execution_count": 189,
   "outputs": [
    {
     "name": "stdout",
     "output_type": "stream",
     "text": [
      "[[], [], [], [], []]\n"
     ]
    }
   ],
   "source": [
    "h = 1\n",
    "points = np.array([[0.3, 3], [1, 0], [2.1, 0], [3, 3.7]])\n",
    "\n",
    "size_of_sides = shift2zero(points)\n",
    "n_x = ceil(size_of_sides[0] / h)\n",
    "n_y = ceil(size_of_sides[1] / h)\n",
    "\n",
    "lines = []\n",
    "for _ in range(n_y+1):\n",
    "    lines.append([])\n",
    "print(lines)"
   ],
   "metadata": {
    "collapsed": false,
    "pycharm": {
     "name": "#%%\n"
    }
   }
  },
  {
   "cell_type": "code",
   "execution_count": 190,
   "outputs": [
    {
     "name": "stdout",
     "output_type": "stream",
     "text": [
      "[[[0.7, 1.8]], [[0.46666666666666656, 2.043243243243243]], [[0.23333333333333328, 2.2864864864864862]], [[0.0, 2.5297297297297296]], [[2.7, 2.7]]]\n"
     ]
    }
   ],
   "source": [
    "for k in range(0, n_y+1):\n",
    "    start = None\n",
    "    end = None\n",
    "    for i0 in range(points.shape[0]):\n",
    "        if i0 == points.shape[0]-1:\n",
    "            i1 = 0\n",
    "        else:\n",
    "            i1 = (i0 + 1)\n",
    "        if i0 == 0:\n",
    "            i2 = points.shape[0]-1\n",
    "        else:\n",
    "            i2 = (i0 - 1)\n",
    "\n",
    "        #вершина лежит на линии\n",
    "        if points[i0][1] == k*h:\n",
    "            if points[i2][1] < k*h and points[i1][1] < k*h:\n",
    "                lines[k].append([points[i0][0], points[i0][0]])\n",
    "            elif points[i2][1] > k*h and points[i1][1] > k*h:\n",
    "                lines[k].append([points[i0][0], points[i0][0]])\n",
    "            else:\n",
    "                if start is None:\n",
    "                    start = points[i0][0]\n",
    "                else:\n",
    "                    end = points[i0][0]\n",
    "        #ребро пересекает линию\n",
    "        elif points[i0][1] < k*h < points[i1][1] or points[i1][1] < k*h < points[i0][1]:\n",
    "            if start is None:\n",
    "                start = intersection([points[i0], points[i1]], [[0, k*h], [n_x, k*h]])[0]\n",
    "            else:\n",
    "                end = intersection([points[i0], points[i1]], [[0, k*h], [n_x, k*h]])[0]\n",
    "        if start is not None and end is not None:\n",
    "            lines[k].append([start, end])\n",
    "            start = None\n",
    "            end = None\n",
    "\n",
    "\n",
    "        #extension algorithm\n",
    "        if k*(h + 1) > points[i0][1] > k*h >= points[i1][1] and points[i2][1] <= k*h:\n",
    "            lines[k+1].append([points[i0][0], points[i0][0]])\n",
    "        elif  points[i1][1] >= k*(h + 1) > points[i0][1] > k*h  and  points[i2][1] >= k*(h+1):\n",
    "            lines[k+1].append([points[i0][0], points[i0][0]])\n",
    "\n",
    "print(lines)"
   ],
   "metadata": {
    "collapsed": false,
    "pycharm": {
     "name": "#%%\n"
    }
   }
  },
  {
   "cell_type": "code",
   "execution_count": 191,
   "outputs": [
    {
     "name": "stdout",
     "output_type": "stream",
     "text": [
      "Here\n",
      "[[0.0, 2.5297297297297296]]\n",
      "Hello\n",
      "1\n",
      "[0.0, 2.5297297297297296]\n",
      "[0.0, 2.7]\n"
     ]
    }
   ],
   "source": [
    "from copy import copy\n",
    "\n",
    "# для всех прямых:\n",
    "for i in range(len(lines) - 2):\n",
    "    for segment in lines[i]:\n",
    "        stop = False\n",
    "        j = 0\n",
    "        while j < len(lines[i+1]) - 1 and not stop:\n",
    "            if lines[i+1][j][1] < segment[0] < lines[i+1][j + 1][0] and lines[i+1][j][1] < segment[1] < lines[i+1][j + 1][0]:\n",
    "                segment[0] = copy(lines[i+1][j][1])\n",
    "                stop = True\n",
    "# для последней прямой:\n",
    "i = len(lines)\n",
    "for segment in lines[i - 1]:\n",
    "    print('Here')\n",
    "    stop = False\n",
    "    j = 0\n",
    "    print(lines[i-2])\n",
    "    while j < len(lines[i-2]) and not stop:\n",
    "        print('Hello')\n",
    "        if j != len(lines[i-2]) - 1:\n",
    "            if lines[i-2][j][1] < segment[0] < lines[i-2][j + 1][0] and lines[i-2][j][1] < segment[1] < lines[i-2][j + 1][0]:\n",
    "                print(lines[i-2][j])\n",
    "                lines[i-2][j][1] = copy(segment[0])\n",
    "                print(lines[i-2][j])\n",
    "                stop = True\n",
    "        else:\n",
    "            print('1')\n",
    "            if lines[i-2][j][1] < segment[0]:\n",
    "                print(lines[i-2][j])\n",
    "                lines[i-2][j][1] = copy(segment[0])\n",
    "                print(lines[i-2][j])\n",
    "                stop = True\n",
    "        j += 1"
   ],
   "metadata": {
    "collapsed": false,
    "pycharm": {
     "name": "#%%\n"
    }
   }
  },
  {
   "cell_type": "code",
   "execution_count": 192,
   "outputs": [
    {
     "data": {
      "text/plain": "<Figure size 432x288 with 1 Axes>",
      "image/png": "[encoded data removed]"
     },
     "metadata": {
      "needs_background": "light"
     },
     "output_type": "display_data"
    }
   ],
   "source": [
    "\n",
    "from matplotlib import pyplot as plt, patches\n",
    "\n",
    "pallet_width = size_of_sides[0]\n",
    "pallet_height = size_of_sides[1]\n",
    "\n",
    "fig, ax = plt.subplots()\n",
    "\n",
    "ax.set_xlim(-0.5, pallet_width + 2)\n",
    "ax.set_ylim(-0.5, pallet_height + 2)\n",
    "\n",
    "for i in range(len(lines)):\n",
    "    plt.plot([0, pallet_width], [i*h, i*h], color = 'black', linestyle=':')\n",
    "\n",
    "figure = patches.Polygon(points,\n",
    "                            linewidth=1,\n",
    "                            edgecolor='red',\n",
    "                            fill=False)\n",
    "ax.add_patch(figure)\n",
    "\n",
    "for i in range(len(lines)):\n",
    "    for sigment in lines[i]:\n",
    "        if sigment[0] != sigment[1]:\n",
    "            plt.plot(sigment, [i*h, i*h], color = 'blue')\n",
    "        else:\n",
    "            ax.scatter(sigment[0], i*h, color = 'blue', s = 4)\n",
    "\n",
    "plt.savefig('sigments.png')"
   ],
   "metadata": {
    "collapsed": false,
    "pycharm": {
     "name": "#%%\n"
    }
   }
  }
 ],
 "metadata": {
  "kernelspec": {
   "display_name": "Python 3",
   "language": "python",
   "name": "python3"
  },
  "language_info": {
   "codemirror_mode": {
    "name": "ipython",
    "version": 2
   },
   "file_extension": ".py",
   "mimetype": "text/x-python",
   "name": "python",
   "nbconvert_exporter": "python",
   "pygments_lexer": "ipython2",
   "version": "2.7.6"
  }
 },
 "nbformat": 4,
 "nbformat_minor": 0
}