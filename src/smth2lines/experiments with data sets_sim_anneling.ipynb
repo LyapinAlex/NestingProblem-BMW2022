{
 "cells": [
  {
   "cell_type": "code",
   "execution_count": 13,
   "metadata": {
    "collapsed": true
   },
   "outputs": [],
   "source": [
    "\n",
    "from src.class_item import Item\n",
    "import numpy as np\n",
    "from src.class_packing import Packing"
   ]
  },
  {
   "cell_type": "code",
   "execution_count": 14,
   "outputs": [],
   "source": [
    "from copy import copy\n",
    "from matplotlib import pyplot as plt, patches\n",
    "\n",
    "\n",
    "def draw_segments(item, h):\n",
    "\n",
    "    n_x1 = 0\n",
    "    n_y1 = 0\n",
    "    for point in item.points:\n",
    "        if point[0] > n_x1:\n",
    "            n_x1 = copy(point[0])\n",
    "        if point[1] > n_y1:\n",
    "            n_y1 = copy(point[1])\n",
    "    pallet_width = n_x1\n",
    "    pallet_height = n_y1\n",
    "\n",
    "    fig, ax = plt.subplots()\n",
    "\n",
    "    ax.set_xlim(-0.5, pallet_width + 2)\n",
    "    ax.set_ylim(-0.5, pallet_height + 2)\n",
    "\n",
    "    for i in range(len(item.segments)):\n",
    "        plt.plot([0, pallet_width], [i*h, i*h], color = 'black', linestyle=':')\n",
    "\n",
    "    figure = patches.Polygon(item.points,\n",
    "                                linewidth=1,\n",
    "                                edgecolor='red',\n",
    "                                fill=False)\n",
    "    ax.add_patch(figure)\n",
    "\n",
    "    for i in range(len(item.segments)):\n",
    "        for sigment in item.segments[i]:\n",
    "            if sigment[0] != sigment[1]:\n",
    "                plt.plot(sigment, [i*h, i*h], color = 'blue')\n",
    "            else:\n",
    "                ax.scatter(sigment[0], i*h, color = 'blue', s = 4)\n",
    "    # plt.savefig('swim_to_sigments ' + str(item.id) + ' with h = ' + str(h) + '.png')\n",
    "    plt.show()"
   ],
   "metadata": {
    "collapsed": false,
    "pycharm": {
     "name": "#%%\n"
    }
   }
  },
  {
   "cell_type": "code",
   "execution_count": 15,
   "outputs": [],
   "source": [
    "import math\n",
    "from src.class_polygon import Polygon\n",
    "\n",
    "# input_file_name = 'shirts.txt'\n",
    "# input_file_name = 'swim.txt'\n",
    "# input_file_name = 'trousers.txt'\n",
    "\n",
    "# width= 5752\n",
    "# height = 10000\n",
    "\n",
    "# width = 79\n",
    "# height = 300\n",
    "\n",
    "# width = 40\n",
    "# height = 80\n",
    "\n",
    "# num_rot=4\n",
    "# num_sort=2\n",
    "eps=0.0\n",
    "\n",
    "\"\"\"Входные данные типа swim.txt (trousers.txt)\"\"\"\n",
    "# ------------  чтение файла  ------------\n",
    "# path = 'shirts.txt'\n",
    "# path = 'swim.txt'\n",
    "# path = 'trousers.txt'\n",
    "# path = \"src\\\\input\\\\\" + input_file_name\n",
    "# f = open(path, 'r')\n",
    "# line = f.readline()\n",
    "# polygons = []\n",
    "# while line:\n",
    "#     f.readline()  #QUANTITY\n",
    "#     quantity = int(f.readline().split(' ')[0][:-1])\n",
    "#     f.readline()  #NUMBER OF VERTICES\n",
    "#     num_verties = int(f.readline().split(' ')[0][:-1])\n",
    "#     f.readline()  #VERTICES (X,Y)\n",
    "#     polygon = []\n",
    "#     for _ in range(num_verties):\n",
    "#         line = f.readline()\n",
    "#         list_point = (''.join([\n",
    "#             line[i] for i in range(len(line) - 1)\n",
    "#             if not ((line[i] == ' ') and (line[i + 1] == ' '))\n",
    "#         ])).split(' ')\n",
    "#         point = [float(list_point[-2]), float(list_point[-1])]\n",
    "#         polygon.append(copy(point))\n",
    "#     for _ in range(quantity):\n",
    "#         polygons.append(copy(polygon))\n",
    "#\n",
    "#     f.readline()  #\n",
    "#     line = f.readline()  #PIECE k\n",
    "# f.close()\n",
    "\n",
    "width = 100\n",
    "height = 100\n",
    "#\n",
    "path = 'concave15/test22.txt'\n",
    "f = open(path, 'r')\n",
    "num_items = int(f.readline())\n",
    "polygons = np.full(num_items, None)\n",
    "list_pallet_shape = f.readline().split(' ')\n",
    "for i in range(num_items):\n",
    "    list_points = f.readline().split(' ')\n",
    "    points = []\n",
    "    for j in range(0, len(list_points) - 1, 2):\n",
    "        point = [float(list_points[j]), float(list_points[j + 1])]\n",
    "        points.append(point)\n",
    "    if (points[0][0] == points[-1][0] and points[0][1] == points[-1][1]):\n",
    "        points.pop()\n",
    "    polygons[i] = np.array(points)\n",
    "f.close()\n",
    "#\n",
    "# ------------  Упаковка  ------------\n",
    "packing = Packing(width=width,\n",
    "                    height=height,\n",
    "                    drill_radius=0,\n",
    "                    border_distance=0)\n",
    "\n",
    "packing.polygons = copy(polygons)\n",
    "packing.num_items = len(polygons)\n",
    "\n",
    "packing.items = np.full(packing.num_items, None)\n",
    "def add_items_in_order(packing, permutation = None):\n",
    "    if permutation is None:\n",
    "        permutation = [n for n in range(packing.num_items)]\n",
    "    # print('======')\n",
    "    # print(permutation)\n",
    "    # print('======')\n",
    "    pack = copy.deepcopy(packing)\n",
    "    for i in range(packing.num_items):\n",
    "        num = permutation[i]\n",
    "        # print('mun', num)\n",
    "        pack.items[i] = copy.deepcopy(packing.items[num])\n",
    "    #     print(pack.items[i].id )\n",
    "    # print('-----')\n",
    "    return pack\n",
    "\n",
    "\n",
    "for id in range(packing.num_items):\n",
    "        rotated_points = copy(polygons[id])\n",
    "        new_points = Polygon(rotated_points)\n",
    "        new_points.rotate(math.pi/2)\n",
    "        new_points.move_to_origin()\n",
    "        points1 = new_points.points_to_list()\n",
    "\n",
    "        item = Item(id, copy(points1))\n",
    "        packing.items[id] = copy(item)\n",
    "        packing.items[id].rotation = 0\n",
    "\n",
    "# # for item in packing.items:\n",
    "# #     print(item.rotation)\n",
    "# for item in packing.items:\n",
    "#     print(item.points)"
   ],
   "metadata": {
    "collapsed": false,
    "pycharm": {
     "name": "#%%\n"
    }
   }
  },
  {
   "cell_type": "code",
   "execution_count": 16,
   "outputs": [],
   "source": [
    "from datetime import datetime\n",
    "from src.greedy_alg.class_pallets import Pallets\n",
    "\n",
    "h = 5\n",
    "\n",
    "# packing = Packing(width=width, height=height, drill_radius=0)\n",
    "\n",
    "pallets = Pallets([width, height])\n",
    "pallets.grid_step = h\n",
    "pallets.add_pallet_lines()\n",
    "\n",
    "packing.pallets = copy(pallets)\n",
    "packing.h = h\n",
    "packing.add_segments_for_items()\n",
    "\n",
    "packing.set_squares()\n",
    "\n",
    "# packing.sort_items(num_sort=2)\n",
    "\n",
    "# for item in packing.items:\n",
    "#     print(item.rotation)\n",
    "\n",
    "# for item in packing.items:\n",
    "#     draw_segments(item, h)"
   ],
   "metadata": {
    "collapsed": false,
    "pycharm": {
     "name": "#%%\n"
    }
   }
  },
  {
   "cell_type": "code",
   "execution_count": 17,
   "outputs": [],
   "source": [
    "# start_time = datetime.now()\n",
    "# max_height = packing.segments_bottom_left()\n",
    "# print(max_height)\n",
    "# print(datetime.now() - start_time)"
   ],
   "metadata": {
    "collapsed": false,
    "pycharm": {
     "name": "#%%\n"
    }
   }
  },
  {
   "cell_type": "code",
   "execution_count": 18,
   "outputs": [],
   "source": [
    "# packing.draw_segments_packing()"
   ],
   "metadata": {
    "collapsed": false,
    "pycharm": {
     "name": "#%%\n"
    }
   }
  },
  {
   "cell_type": "code",
   "execution_count": 19,
   "outputs": [],
   "source": [
    "# permutations = [i for i in range(len(packing.items))]\n",
    "# newPermutation = list(np.random.permutation(permutations))\n",
    "#\n",
    "# pack = copy(packing)\n",
    "# packing = add_items_in_order(packing, newPermutation)\n",
    "# new_height = packing.segments_bottom_left()"
   ],
   "metadata": {
    "collapsed": false,
    "pycharm": {
     "name": "#%%\n"
    }
   }
  },
  {
   "cell_type": "code",
   "execution_count": 20,
   "outputs": [
    {
     "name": "stdout",
     "output_type": "stream",
     "text": [
      "min:  [8, 0, 10, 2, 6, 3, 1, 9, 12, 14, 13, 4, 11, 7, 5]\n",
      "12\n",
      "else\n",
      "13\n",
      "else\n",
      "13\n",
      "else\n",
      "13\n",
      "else\n",
      "13\n",
      "else\n",
      "13\n"
     ]
    },
    {
     "name": "stderr",
     "output_type": "stream",
     "text": [
      "C:\\Users\\79833\\AppData\\Local\\Temp/ipykernel_15144/19998034.py:56: DeprecationWarning: scipy.rand is deprecated and will be removed in SciPy 2.0.0, use numpy.random.rand instead\n",
      "  value = rand(1)\n"
     ]
    },
    {
     "name": "stdout",
     "output_type": "stream",
     "text": [
      "else\n",
      "13\n",
      "else\n",
      "13\n",
      "else\n",
      "13\n",
      "else\n",
      "13\n"
     ]
    },
    {
     "ename": "KeyboardInterrupt",
     "evalue": "",
     "output_type": "error",
     "traceback": [
      "\u001B[1;31m---------------------------------------------------------------------------\u001B[0m",
      "\u001B[1;31mKeyboardInterrupt\u001B[0m                         Traceback (most recent call last)",
      "\u001B[1;32m~\\AppData\\Local\\Temp/ipykernel_15144/19998034.py\u001B[0m in \u001B[0;36m<module>\u001B[1;34m\u001B[0m\n\u001B[0;32m     37\u001B[0m         \u001B[0mpack\u001B[0m \u001B[1;33m=\u001B[0m \u001B[0mcopy\u001B[0m\u001B[1;33m.\u001B[0m\u001B[0mdeepcopy\u001B[0m\u001B[1;33m(\u001B[0m\u001B[0mpacking\u001B[0m\u001B[1;33m)\u001B[0m\u001B[1;33m\u001B[0m\u001B[1;33m\u001B[0m\u001B[0m\n\u001B[0;32m     38\u001B[0m         \u001B[0mpack\u001B[0m \u001B[1;33m=\u001B[0m \u001B[0madd_items_in_order\u001B[0m\u001B[1;33m(\u001B[0m\u001B[0mpack\u001B[0m\u001B[1;33m,\u001B[0m \u001B[0mnewPermutation\u001B[0m\u001B[1;33m)\u001B[0m\u001B[1;33m\u001B[0m\u001B[1;33m\u001B[0m\u001B[0m\n\u001B[1;32m---> 39\u001B[1;33m         \u001B[0mnew_height\u001B[0m \u001B[1;33m=\u001B[0m \u001B[0mpack\u001B[0m\u001B[1;33m.\u001B[0m\u001B[0msegments_bottom_left\u001B[0m\u001B[1;33m(\u001B[0m\u001B[1;33m)\u001B[0m\u001B[1;33m\u001B[0m\u001B[1;33m\u001B[0m\u001B[0m\n\u001B[0m\u001B[0;32m     40\u001B[0m         \u001B[1;31m# for item in pack.items:\u001B[0m\u001B[1;33m\u001B[0m\u001B[1;33m\u001B[0m\u001B[0m\n\u001B[0;32m     41\u001B[0m         \u001B[1;31m#     print(item.id)\u001B[0m\u001B[1;33m\u001B[0m\u001B[1;33m\u001B[0m\u001B[0m\n",
      "\u001B[1;32m~\\OneDrive\\Документы\\GitHub\\NestingProblem-BMW2022\\src\\class_packing.py\u001B[0m in \u001B[0;36msegments_bottom_left\u001B[1;34m(self)\u001B[0m\n\u001B[0;32m    110\u001B[0m \u001B[1;33m\u001B[0m\u001B[0m\n\u001B[0;32m    111\u001B[0m     \u001B[1;32mdef\u001B[0m \u001B[0msegments_bottom_left\u001B[0m\u001B[1;33m(\u001B[0m\u001B[0mself\u001B[0m\u001B[1;33m)\u001B[0m\u001B[1;33m:\u001B[0m\u001B[1;33m\u001B[0m\u001B[1;33m\u001B[0m\u001B[0m\n\u001B[1;32m--> 112\u001B[1;33m         \u001B[1;32mreturn\u001B[0m \u001B[0mpack_segments\u001B[0m\u001B[1;33m(\u001B[0m\u001B[0mself\u001B[0m\u001B[1;33m.\u001B[0m\u001B[0mitems\u001B[0m\u001B[1;33m,\u001B[0m \u001B[0mself\u001B[0m\u001B[1;33m.\u001B[0m\u001B[0mpallets\u001B[0m\u001B[1;33m,\u001B[0m \u001B[0mself\u001B[0m\u001B[1;33m.\u001B[0m\u001B[0mpallet_width\u001B[0m\u001B[1;33m)\u001B[0m\u001B[1;33m\u001B[0m\u001B[1;33m\u001B[0m\u001B[0m\n\u001B[0m\u001B[0;32m    113\u001B[0m \u001B[1;33m\u001B[0m\u001B[0m\n\u001B[0;32m    114\u001B[0m     \u001B[1;32mdef\u001B[0m \u001B[0mmove_packed_segment_items\u001B[0m\u001B[1;33m(\u001B[0m\u001B[0mself\u001B[0m\u001B[1;33m)\u001B[0m\u001B[1;33m:\u001B[0m\u001B[1;33m\u001B[0m\u001B[1;33m\u001B[0m\u001B[0m\n",
      "\u001B[1;32m~\\OneDrive\\Документы\\GitHub\\NestingProblem-BMW2022\\src\\smth2lines\\segments_bottom_left.py\u001B[0m in \u001B[0;36mpack_segments\u001B[1;34m(figures, palletes, pallet_width)\u001B[0m\n\u001B[0;32m     82\u001B[0m                                 \u001B[0mi\u001B[0m \u001B[1;33m=\u001B[0m \u001B[1;36m0\u001B[0m\u001B[1;33m\u001B[0m\u001B[1;33m\u001B[0m\u001B[0m\n\u001B[0;32m     83\u001B[0m                                 \u001B[0mj\u001B[0m \u001B[1;33m=\u001B[0m \u001B[1;36m0\u001B[0m\u001B[1;33m\u001B[0m\u001B[1;33m\u001B[0m\u001B[0m\n\u001B[1;32m---> 84\u001B[1;33m                             \u001B[1;32melif\u001B[0m \u001B[0mpallets\u001B[0m\u001B[1;33m.\u001B[0m\u001B[0mpallet_lines\u001B[0m\u001B[1;33m[\u001B[0m\u001B[0mr\u001B[0m \u001B[1;33m+\u001B[0m \u001B[0mi\u001B[0m\u001B[1;33m]\u001B[0m\u001B[1;33m[\u001B[0m\u001B[0mm\u001B[0m\u001B[1;33m]\u001B[0m\u001B[1;33m[\u001B[0m\u001B[1;36m0\u001B[0m\u001B[1;33m]\u001B[0m \u001B[1;33m<\u001B[0m \u001B[0msegments\u001B[0m\u001B[1;33m[\u001B[0m\u001B[0mi\u001B[0m\u001B[1;33m]\u001B[0m\u001B[1;33m[\u001B[0m\u001B[0mj\u001B[0m\u001B[1;33m]\u001B[0m\u001B[1;33m[\u001B[0m\u001B[1;36m1\u001B[0m\u001B[1;33m]\u001B[0m \u001B[1;33m+\u001B[0m \u001B[0mt_vector\u001B[0m \u001B[1;33m+\u001B[0m \u001B[1;36m0.0000000000001\u001B[0m \u001B[1;33m<=\u001B[0m\u001B[0;31m \u001B[0m\u001B[0;31m\\\u001B[0m\u001B[1;33m\u001B[0m\u001B[1;33m\u001B[0m\u001B[0m\n\u001B[0m\u001B[0;32m     85\u001B[0m                                     \u001B[0mpallets\u001B[0m\u001B[1;33m.\u001B[0m\u001B[0mpallet_lines\u001B[0m\u001B[1;33m[\u001B[0m\u001B[0mr\u001B[0m \u001B[1;33m+\u001B[0m \u001B[0mi\u001B[0m\u001B[1;33m]\u001B[0m\u001B[1;33m[\u001B[0m\u001B[0mm\u001B[0m\u001B[1;33m]\u001B[0m\u001B[1;33m[\u001B[0m\u001B[1;36m1\u001B[0m\u001B[1;33m]\u001B[0m\u001B[1;33m:\u001B[0m\u001B[1;33m\u001B[0m\u001B[1;33m\u001B[0m\u001B[0m\n\u001B[0;32m     86\u001B[0m                                 \u001B[0mt_vector\u001B[0m \u001B[1;33m=\u001B[0m \u001B[0mt_vector\u001B[0m \u001B[1;33m+\u001B[0m \u001B[0mpallets\u001B[0m\u001B[1;33m.\u001B[0m\u001B[0mpallet_lines\u001B[0m\u001B[1;33m[\u001B[0m\u001B[0mr\u001B[0m \u001B[1;33m+\u001B[0m \u001B[0mi\u001B[0m\u001B[1;33m]\u001B[0m\u001B[1;33m[\u001B[0m\u001B[0mm\u001B[0m\u001B[1;33m]\u001B[0m\u001B[1;33m[\u001B[0m\u001B[1;36m1\u001B[0m\u001B[1;33m]\u001B[0m \u001B[1;33m-\u001B[0m \u001B[1;33m(\u001B[0m\u001B[0msegments\u001B[0m\u001B[1;33m[\u001B[0m\u001B[0mi\u001B[0m\u001B[1;33m]\u001B[0m\u001B[1;33m[\u001B[0m\u001B[0mj\u001B[0m\u001B[1;33m]\u001B[0m\u001B[1;33m[\u001B[0m\u001B[1;36m0\u001B[0m\u001B[1;33m]\u001B[0m \u001B[1;33m+\u001B[0m \u001B[0mt_vector\u001B[0m\u001B[1;33m)\u001B[0m\u001B[1;33m\u001B[0m\u001B[1;33m\u001B[0m\u001B[0m\n",
      "\u001B[1;31mKeyboardInterrupt\u001B[0m: "
     ]
    }
   ],
   "source": [
    "\n",
    "from scipy import rand\n",
    "import copy\n",
    "import time\n",
    "\n",
    "permutations = [i for i in range(len(packing.items))]\n",
    "# permutation = list(np.random.permutation(permutations))\n",
    "minPermutation = []\n",
    "\n",
    "k = len(packing.items)\n",
    "pack = copy.deepcopy(packing)\n",
    "pack.sort_items(num_sort=2)\n",
    "# for item in pack.items:\n",
    "#     print(item.id)\n",
    "\n",
    "for item in pack.items:\n",
    "    minPermutation.append(item.id)\n",
    "# print('----', minPermutation)\n",
    "times = []\n",
    "pr = 0.95\n",
    "T0 = pr\n",
    "T=3.5*T0\n",
    "outs_func = []\n",
    "time_count = 0\n",
    "it = 0\n",
    "counter_t = 0\n",
    "height = len(packing.pallets.pallet_lines)\n",
    "min_pack = copy.deepcopy(packing)\n",
    "min_height = len(packing.pallets.pallet_lines)\n",
    "start_time = time.time()\n",
    "\n",
    "while counter_t < 15:\n",
    "    permutation = minPermutation\n",
    "    print('min: ', minPermutation)\n",
    "    # for i in range(k*k):\n",
    "    for i in range(k):\n",
    "        newPermutation = permutation\n",
    "        pack = copy.deepcopy(packing)\n",
    "        pack = add_items_in_order(pack, newPermutation)\n",
    "        new_height = pack.segments_bottom_left()\n",
    "        # for item in pack.items:\n",
    "        #     print(item.id)\n",
    "        # print('======')\n",
    "        # если рекорд, то запоминаем\n",
    "        if new_height < min_height:\n",
    "            min_height = new_height\n",
    "            minPermutation = newPermutation\n",
    "            min_pack = copy.deepcopy(pack)\n",
    "        # если меньше текущего значения, то обновляем перестановку\n",
    "        if new_height < height:\n",
    "            height = new_height\n",
    "            permutation = newPermutation\n",
    "        else:\n",
    "            # если нет, то обновляем с некоторой вероятностью\n",
    "            p = math.exp((height - new_height)/T)\n",
    "            # print(p)\n",
    "            value = rand(1)\n",
    "            # if p > 1 - p:\n",
    "            if value <= p:\n",
    "                print('else')\n",
    "                height = new_height\n",
    "                permutation = newPermutation\n",
    "\n",
    "        # получаем новую перестановку\n",
    "        a = 0\n",
    "        b = 0\n",
    "        while a == b:\n",
    "            a = np.random.randint(0,k)\n",
    "            b = np.random.randint(0,k)\n",
    "            te = 0\n",
    "        te = permutation[a]\n",
    "        permutation[a] = permutation[b]\n",
    "        permutation[b] = te\n",
    "        print(height)\n",
    "        outs_func.append(height)\n",
    "    counter_t += 1\n",
    "    T = T * pr\n",
    "work_time = time.time() - start_time\n",
    "print(work_time)"
   ],
   "metadata": {
    "collapsed": false,
    "pycharm": {
     "name": "#%%\n"
    }
   }
  },
  {
   "cell_type": "code",
   "execution_count": null,
   "outputs": [],
   "source": [
    "from src.smth2lines.segments_bottom_left import pack_segments\n",
    "# import copy\n",
    "\n",
    "# kf = copy.deepcopy(packing)\n",
    "# for i in range(1):\n",
    "#     # permutation = list(np.random.permutation(permutations))\n",
    "#     pack = copy.deepcopy(packing)\n",
    "#     print('+++++')\n",
    "#     for item in pack.items:\n",
    "#         print(item.id)\n",
    "#     print('======')\n",
    "#     pack = add_items_in_order(pack, minPermutation)\n",
    "#     for item in pack.items:\n",
    "#         print(item.id)\n",
    "#     # new_height = pack.segments_bottom_left()\n",
    "#     # pack.pallets.add_pallet_lines()\n",
    "#     # for item in packing.items:\n",
    "#         # item.t_vector = None\n",
    "#     #     print(item.t_vector)\n",
    "#     # print('======')\n",
    "#     # print(pack.pallets.pallet_lines)\n",
    "#     # print('-------')\n",
    "#     new_height = pack.segments_bottom_left()\n",
    "#     pack.draw_segments_packing()\n",
    "#     print(new_height)"
   ],
   "metadata": {
    "collapsed": false,
    "pycharm": {
     "name": "#%%\n"
    }
   }
  },
  {
   "cell_type": "code",
   "execution_count": null,
   "outputs": [],
   "source": [
    "# print(new_height)\n",
    "min_pack.draw_segments_packing()\n"
   ],
   "metadata": {
    "collapsed": false,
    "pycharm": {
     "name": "#%%\n"
    }
   }
  },
  {
   "cell_type": "code",
   "execution_count": null,
   "outputs": [],
   "source": [
    "fig, ax = plt.subplots()\n",
    "fig.set_size_inches(16, 10)\n",
    "ax.plot(outs_func, linestyle = ':', color = 'black', label = 'objective function')\n",
    "# ax.plot(outs_clean, color = 'black',  label = 'objective function')\n",
    "# ax.plot(outs_func, linestyle = ':', color = 'black', label = 'целевая функция со штрафом')\n",
    "# ax.plot(outs_clean, color = 'black',  label = 'целевая функция')\n",
    "# ax.set(xlabel='iterations', ylabel='function',\n",
    "#            title='')\n",
    "# plt.xlabel('номер итерации', fontsize=20)\n",
    "# plt.ylabel('значение функции', fontsize=20)\n",
    "\n",
    "plt.xlabel('number of iteration', fontsize=20)\n",
    "plt.ylabel('value of the function', fontsize=20)\n",
    "\n",
    "ax.grid()\n",
    "plt.legend(loc='best', frameon=False, prop={'size': 20})\n",
    "fig.savefig(\"Plot.png\")\n",
    "# fig.savefig(\"Plot.eps\")\n",
    "plt.show()"
   ],
   "metadata": {
    "collapsed": false,
    "pycharm": {
     "name": "#%%\n"
    }
   }
  }
 ],
 "metadata": {
  "kernelspec": {
   "display_name": "Python 3",
   "language": "python",
   "name": "python3"
  },
  "language_info": {
   "codemirror_mode": {
    "name": "ipython",
    "version": 2
   },
   "file_extension": ".py",
   "mimetype": "text/x-python",
   "name": "python",
   "nbconvert_exporter": "python",
   "pygments_lexer": "ipython2",
   "version": "2.7.6"
  }
 },
 "nbformat": 4,
 "nbformat_minor": 0
}