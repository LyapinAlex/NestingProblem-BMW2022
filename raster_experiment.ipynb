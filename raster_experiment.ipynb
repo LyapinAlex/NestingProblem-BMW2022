{
 "cells": [
  {
   "cell_type": "code",
   "execution_count": 5,
   "metadata": {
    "collapsed": true,
    "pycharm": {
     "name": "#%%\n"
    }
   },
   "outputs": [],
   "source": [
    "# from DrawSolution import draw_pallet\n",
    "# from class_item import Item\n",
    "# import copy\n",
    "# from matplotlib import pyplot as plt\n",
    "# from matplotlib import patches\n",
    "\n",
    "# eps = 1\n",
    "\n",
    "# poligon1 = [[0,1,0], [1,1,1], [0,1,0]]\n",
    "# poligon2 = [[1,1], [1,0]]\n",
    "# poligon3 = [[1,1,1], [0,1,0]]\n",
    "\n",
    "# points_1 = [[0,3], [2,0], [3,1], [2,1], [1, 4]]\n",
    "# points_2 = [[0,0], [1,0], [1,8], [0,8]]\n",
    "# points_3 = [[0,3], [2,0], [2,1], [3,2], [1, 4]]\n",
    "\n",
    "# poligon_matrix = [[1,1,1,1], [1,1,1,1], [1,1,1,1]]\n",
    "# short_poligon_matrix = [[1,1,1,1,1,1,1,1]]\n",
    "\n",
    "# poligons = [copy.deepcopy(points_2), copy.deepcopy(points_2), copy.deepcopy(points_1), copy.deepcopy(points_1), copy.deepcopy(points_1), copy.deepcopy(points_1), copy.deepcopy(points_1), copy.deepcopy(points_1), copy.deepcopy(points_1), copy.deepcopy(points_1)]\n",
    "\n",
    "# # poligons = [copy.deepcopy(points_2),copy.deepcopy(points_2)]\n",
    "# items = [Item(i, poligons[i]) for i in range(len(poligons))]\n",
    "\n",
    "\n",
    "\n",
    "# items[0].matrix = short_poligon_matrix\n",
    "# items[1].matrix = short_poligon_matrix\n",
    "\n",
    "\n",
    "\n",
    "\n",
    "# for item in items:\n",
    "#     if item.matrix is None:\n",
    "#         item.matrix = poligon_matrix\n",
    "\n",
    "# pallet_width = 7\n",
    "# pallet_height = 8\n",
    "\n",
    "\n",
    "\n",
    "# matrix = [[0,0,0,0,0,0,0,0],\n",
    "#           [0,0,0,0,0,0,0,0],\n",
    "#           [0,0,0,0,0,0,0,0],\n",
    "#           [0,0,0,0,0,0,0,0],\n",
    "#           [0,0,0,0,0,0,0,0],\n",
    "#           [0,0,0,0,0,0,0,0],\n",
    "#           [0,0,0,0,0,0,0,0]]"
   ]
  },
  {
   "cell_type": "code",
   "execution_count": 6,
   "metadata": {},
   "outputs": [
    {
     "ename": "SyntaxError",
     "evalue": "invalid syntax (polygon.py, line 169)",
     "output_type": "error",
     "traceback": [
      "Traceback \u001b[1;36m(most recent call last)\u001b[0m:\n",
      "  File \u001b[0;32m~\\AppData\\Roaming\\Python\\Python39\\site-packages\\IPython\\core\\interactiveshell.py:3361\u001b[0m in \u001b[0;35mrun_code\u001b[0m\n    exec(code_obj, self.user_global_ns, self.user_ns)\n",
      "  Input \u001b[0;32mIn [6]\u001b[0m in \u001b[0;35m<cell line: 6>\u001b[0m\n    import generate\n",
      "\u001b[1;36m  File \u001b[1;32mc:\\Users\\Александр\\Desktop\\NestingProblem-BMW2022\\generate.py:3\u001b[1;36m in \u001b[1;35m<module>\u001b[1;36m\u001b[0m\n\u001b[1;33m    import polygon\u001b[0m\n",
      "\u001b[1;36m  File \u001b[1;32mc:\\Users\\Александр\\Desktop\\NestingProblem-BMW2022\\polygon.py:169\u001b[1;36m\u001b[0m\n\u001b[1;33m    def coordinate\u001b[0m\n\u001b[1;37m                  ^\u001b[0m\n\u001b[1;31mSyntaxError\u001b[0m\u001b[1;31m:\u001b[0m invalid syntax\n"
     ]
    }
   ],
   "source": [
    "from DrawSolution import draw_pallet\n",
    "from class_item import Item\n",
    "import copy\n",
    "from matplotlib import pyplot as plt\n",
    "from matplotlib import patches\n",
    "import generate \n",
    "import pallet\n",
    "\n",
    "eps = 1\n",
    "pallet_width = 10\n",
    "pallet_leight = 10\n",
    "numPoligons = 2\n",
    "\n",
    "\n",
    "g= generate.Generator(pallet_width, pallet_leight, numPoligons  )\n",
    "g.start(eps)\n",
    "items_e = g.data\n",
    "\n",
    "pal = pallet.Pallet(0, pallet_width, pallet_leight, eps)\n",
    "\n",
    "# print(items[0])\n",
    "# print(items_e[0])\n",
    "# print(items[0].id)\n",
    "# print(items_e[0].id)\n",
    "# print(items[0].matrix)\n",
    "# print(items_e[0].matrix)\n",
    "# print(type(items[0]))\n",
    "# print(type(items_e[0]))\n",
    "# print(items[0].points)\n",
    "# print(items_e[0].points)\n",
    "# print(type(items[0].points))\n",
    "# print(type(items_e[0].points))\n",
    "# print(items[0].rotation)\n",
    "# print(items_e[0].rotation)\n",
    "# print(items[0])\n",
    "# print(items_e[0])\n",
    "\n",
    "\n"
   ]
  },
  {
   "cell_type": "code",
   "execution_count": null,
   "metadata": {},
   "outputs": [],
   "source": [
    "# print(items[0].id)\n",
    "# locSearch(matrix, items, eps)\n",
    "\n"
   ]
  },
  {
   "cell_type": "code",
   "execution_count": null,
   "metadata": {
    "collapsed": false,
    "pycharm": {
     "name": "#%%\n"
    }
   },
   "outputs": [],
   "source": [
    "def draw_pallet(items, pallet_width, pallet_height):\n",
    "    # fig, ax = plt.subplots(figsize=(pallet_height, pallet_height))\n",
    "    fig, ax = plt.subplots()\n",
    "    pallet = patches.Rectangle((0, 0), pallet_width, pallet_height, linewidth=2, facecolor='none', edgecolor='black')\n",
    "    ax.add_patch(pallet)\n",
    "    ax.set_xlim(-1, pallet_width + 1)\n",
    "    ax.set_ylim(-1, pallet_height + 1)\n",
    "    for item in items:\n",
    "        for point in item.points:\n",
    "            point[0] += item.lb_x\n",
    "            point[1] += item.lb_y\n",
    "        polygon = patches.Polygon(item.points, linewidth=1, edgecolor = 'black', facecolor='silver')\n",
    "        ax.add_patch(polygon)\n",
    "    print(items[0])\n",
    "    # plt.title('pallet'.items[0].pallet_number)\n",
    "    return fig, ax"
   ]
  },
  {
   "cell_type": "code",
   "execution_count": null,
   "metadata": {
    "collapsed": false,
    "pycharm": {
     "name": "#%%\n"
    }
   },
   "outputs": [],
   "source": [
    "def print_matrix(matrix):\n",
    "    for i in range(len(matrix)):\n",
    "        print(matrix[i])\n",
    "        print('\\n')"
   ]
  },
  {
   "cell_type": "code",
   "execution_count": null,
   "metadata": {
    "collapsed": false,
    "pycharm": {
     "name": "#%%\n"
    }
   },
   "outputs": [],
   "source": [
    "def fit_item(pallet, item):\n",
    "    print(\"fitItem Part\")\n",
    "    print(item)\n",
    "    print(type(item))\n",
    "    for i in range(len(pallet[0])):\n",
    "        for j in range(len(pallet)):\n",
    "            exit = False\n",
    "            # условия, что объект влезает\n",
    "            if len(item.matrix) + i <= len(pallet) and len(item.matrix[0]) + j <= len(pallet[0]):\n",
    "                # располагаем объект\n",
    "                for p in range(len(item.matrix)):\n",
    "                    for k in range(len(item.matrix[0])):\n",
    "                        # решаем есть ли пересечение\n",
    "                        if pallet[i+p][j+k] + item.matrix[p][k] == 2:\n",
    "                            exit = True\n",
    "                            break\n",
    "                    if exit:\n",
    "                        break\n",
    "            else:\n",
    "                exit = True\n",
    "            # если пересечений нет и элемент влезает, то добавляем его\n",
    "            if not exit:\n",
    "                item.lb_x = i\n",
    "                item.lb_y = j\n",
    "                for p in range(len(item.matrix)):\n",
    "                    for k in range(len(item.matrix[0])):\n",
    "                        pallet[i+p][j+k] += item.matrix[p][k]\n",
    "                break\n",
    "        if not exit:\n",
    "            break\n",
    "    # print_matrix(pallet)\n",
    "    print('--------------')\n",
    "    print_matrix(pallet)\n",
    "    print(item.matrix)\n",
    "    print('--------------')\n",
    "    return pallet, exit"
   ]
  },
  {
   "cell_type": "code",
   "execution_count": null,
   "metadata": {
    "collapsed": false,
    "pycharm": {
     "name": "#%%\n"
    }
   },
   "outputs": [],
   "source": [
    "def find_lb_coordinates(items, eps):\n",
    "    for item in items:\n",
    "        item.lb_x = item.lb_x * eps\n",
    "        item.lb_y = item.lb_y * eps\n",
    "    return items"
   ]
  },
  {
   "cell_type": "code",
   "execution_count": null,
   "metadata": {
    "collapsed": false,
    "pycharm": {
     "name": "#%%\n"
    }
   },
   "outputs": [],
   "source": [
    "def fit_pallets(matrix, items, eps):\n",
    "    pallets = []\n",
    "    pallets.append(copy.deepcopy(matrix))\n",
    "    for item in items:\n",
    "        i=0\n",
    "        exit = True\n",
    "        while exit and i<len(pallets):\n",
    "            pallets[i], exit = fit_item(pallets[i], item)\n",
    "            if exit and i==(len(pallets)-1):\n",
    "                pallets.append(copy.deepcopy(matrix))\n",
    "            if not exit:\n",
    "                item.pallet_number = i\n",
    "                # print(i)\n",
    "            i+=1\n",
    "    find_lb_coordinates(items, eps)\n",
    "\n",
    "    return pallets"
   ]
  },
  {
   "cell_type": "code",
   "execution_count": null,
   "metadata": {
    "collapsed": false,
    "pycharm": {
     "name": "#%%\n"
    }
   },
   "outputs": [],
   "source": [
    "def understand_pallets(items):\n",
    "    packing = []\n",
    "    usedNumPallet = max([item.pallet_number for item in items])\n",
    "    # print([item.pallet_number for item in items])\n",
    "    for i in range(usedNumPallet  + 1):\n",
    "        # print(i)\n",
    "        packing.append([])\n",
    "    # print(packing)\n",
    "    for i in range(usedNumPallet  + 1):\n",
    "        for item in items:\n",
    "            if item.pallet_number > len(packing):\n",
    "                    packing.append([])\n",
    "            if item.pallet_number == i:\n",
    "                packing[i].append(item)\n",
    "    # print([item.pallet_number for item in items])\n",
    "\n",
    "    # print(packing)\n",
    "    return packing\n",
    "            # print(packing, '\\n')\n",
    "            # print(packing[i], '\\n')\n",
    "            # print(packing[i][0].points, '\\n')\n",
    "            # print('-----------')\n",
    "\n",
    "# print(packing)\n",
    "    \n",
    "def draw_all_pallets(packing):\n",
    "    print(len(packing))\n",
    "    for i in range(len(packing)):\n",
    "        print(i)\n",
    "        draw_pallet(packing[i], pallet_width, pallet_leight)"
   ]
  },
  {
   "cell_type": "code",
   "execution_count": null,
   "metadata": {
    "collapsed": false,
    "pycharm": {
     "name": "#%%\n"
    }
   },
   "outputs": [],
   "source": [
    "# import rastr_method\n",
    "# import copy\n",
    "\n",
    "\n",
    "def swap(list, pos1, pos2):\n",
    "\n",
    "    list[pos1], list[pos2] = list[pos2], list[pos1]\n",
    "    return list\n",
    "\n",
    "\n",
    "#  алгоритм локального поиска\n",
    "def locSearch(matrix, poligons, eps):\n",
    "    # print(eps)\n",
    "\n",
    "    # print(poligons[0].id)\n",
    "    # print(swap(poligons, 0 ,1)[0].id)\n",
    "    n = len( poligons)\n",
    "\n",
    "    objVal = len(fit_pallets(matrix,  poligons, eps))\n",
    "\n",
    "    poligonsBest = copy.deepcopy(poligons)\n",
    "\n",
    "    betterNeighboor = (0,0)\n",
    "    stop = False\n",
    "    while not stop:\n",
    "        \n",
    "        stop = True\n",
    "        for i in range(n):\n",
    "            for j in range(i + 1, n):\n",
    "                # надо сделать, что бы два раза не проходила\n",
    "                pal = fit_pallets(matrix, swap(copy.deepcopy(poligonsBest), i, j), eps)\n",
    "                # print(items[0].pallet_number)\n",
    "                # val = len(fit_pallets(matrix, swap(copy.deepcopy(poligons), i, j), eps))\n",
    "                val = len(pal)\n",
    "                if val < objVal:\n",
    "                    stop = False\n",
    "                    objVal = val\n",
    "                    betterNeighboor = (i,j)\n",
    "                    fit_pallets(matrix, swap(poligonsBest, i, j), eps)\n",
    "\n",
    "                    # print(betterNeighboor)\n",
    "\n",
    "                if betterNeighboor[1] != 0:\n",
    "                    swap( poligonsBest, betterNeighboor[0], betterNeighboor[1])\n",
    "        # print([item.pallet_number for item in poligonsBest])\n",
    "\n",
    "   \n",
    "    # print([item.pallet_number for item in items])\n",
    "    # for i in range(len(pal)):\n",
    "    #     print_matrix(pal[i])\n",
    "    #     print('--------------')\n",
    "    # understand_pallets(poligonsBest)\n",
    "\n",
    "    draw_all_pallets(understand_pallets(poligonsBest))\n",
    "\n",
    "    return val"
   ]
  },
  {
   "cell_type": "code",
   "execution_count": null,
   "metadata": {
    "collapsed": false,
    "pycharm": {
     "name": "#%%\n"
    }
   },
   "outputs": [],
   "source": [
    "# fit_pallets(matrix, items, eps)\n"
   ]
  },
  {
   "cell_type": "code",
   "execution_count": null,
   "metadata": {
    "collapsed": false,
    "pycharm": {
     "name": "#%%\n"
    }
   },
   "outputs": [
    {
     "name": "stdout",
     "output_type": "stream",
     "text": [
      "fitItem Part\n",
      "<class_item.Item object at 0x0000020B39702F70>\n",
      "<class 'class_item.Item'>\n",
      "--------------\n",
      "[1, 1, 0, 0, 0, 0, 0, 0, 0, 0]\n",
      "\n",
      "\n",
      "[1, 1, 0, 0, 0, 0, 0, 0, 0, 0]\n",
      "\n",
      "\n",
      "[1, 1, 0, 0, 0, 0, 0, 0, 0, 0]\n",
      "\n",
      "\n",
      "[1, 1, 0, 0, 0, 0, 0, 0, 0, 0]\n",
      "\n",
      "\n",
      "[0, 0, 0, 0, 0, 0, 0, 0, 0, 0]\n",
      "\n",
      "\n",
      "[0, 0, 0, 0, 0, 0, 0, 0, 0, 0]\n",
      "\n",
      "\n",
      "[0, 0, 0, 0, 0, 0, 0, 0, 0, 0]\n",
      "\n",
      "\n",
      "[0, 0, 0, 0, 0, 0, 0, 0, 0, 0]\n",
      "\n",
      "\n",
      "[0, 0, 0, 0, 0, 0, 0, 0, 0, 0]\n",
      "\n",
      "\n",
      "[0, 0, 0, 0, 0, 0, 0, 0, 0, 0]\n",
      "\n",
      "\n",
      "[[1, 1], [1, 1], [1, 1], [1, 1]]\n",
      "--------------\n",
      "fitItem Part\n",
      "<class_item.Item object at 0x0000020B3C32E9D0>\n",
      "<class 'class_item.Item'>\n",
      "--------------\n",
      "[1, 1, 1, 1, 1, 0, 0, 0, 0, 0]\n",
      "\n",
      "\n",
      "[1, 1, 1, 1, 1, 0, 0, 0, 0, 0]\n",
      "\n",
      "\n",
      "[1, 1, 0, 0, 0, 0, 0, 0, 0, 0]\n",
      "\n",
      "\n",
      "[1, 1, 0, 0, 0, 0, 0, 0, 0, 0]\n",
      "\n",
      "\n",
      "[0, 0, 0, 0, 0, 0, 0, 0, 0, 0]\n",
      "\n",
      "\n",
      "[0, 0, 0, 0, 0, 0, 0, 0, 0, 0]\n",
      "\n",
      "\n",
      "[0, 0, 0, 0, 0, 0, 0, 0, 0, 0]\n",
      "\n",
      "\n",
      "[0, 0, 0, 0, 0, 0, 0, 0, 0, 0]\n",
      "\n",
      "\n",
      "[0, 0, 0, 0, 0, 0, 0, 0, 0, 0]\n",
      "\n",
      "\n",
      "[0, 0, 0, 0, 0, 0, 0, 0, 0, 0]\n",
      "\n",
      "\n",
      "[[1, 1, 1], [1, 1, 1]]\n",
      "--------------\n",
      "fitItem Part\n",
      "<class_item.Item object at 0x0000020B3C36E280>\n",
      "<class 'class_item.Item'>\n",
      "--------------\n",
      "[1, 1, 1, 0, 0, 0, 0, 0, 0, 0]\n",
      "\n",
      "\n",
      "[1, 1, 1, 0, 0, 0, 0, 0, 0, 0]\n",
      "\n",
      "\n",
      "[0, 0, 0, 0, 0, 0, 0, 0, 0, 0]\n",
      "\n",
      "\n",
      "[0, 0, 0, 0, 0, 0, 0, 0, 0, 0]\n",
      "\n",
      "\n",
      "[0, 0, 0, 0, 0, 0, 0, 0, 0, 0]\n",
      "\n",
      "\n",
      "[0, 0, 0, 0, 0, 0, 0, 0, 0, 0]\n",
      "\n",
      "\n",
      "[0, 0, 0, 0, 0, 0, 0, 0, 0, 0]\n",
      "\n",
      "\n",
      "[0, 0, 0, 0, 0, 0, 0, 0, 0, 0]\n",
      "\n",
      "\n",
      "[0, 0, 0, 0, 0, 0, 0, 0, 0, 0]\n",
      "\n",
      "\n",
      "[0, 0, 0, 0, 0, 0, 0, 0, 0, 0]\n",
      "\n",
      "\n",
      "[[1, 1, 1], [1, 1, 1]]\n",
      "--------------\n",
      "fitItem Part\n",
      "<class_item.Item object at 0x0000020B3C36E220>\n",
      "<class 'class_item.Item'>\n",
      "--------------\n",
      "[1, 1, 1, 1, 1, 0, 0, 0, 0, 0]\n",
      "\n",
      "\n",
      "[1, 1, 1, 1, 1, 0, 0, 0, 0, 0]\n",
      "\n",
      "\n",
      "[0, 0, 0, 1, 1, 0, 0, 0, 0, 0]\n",
      "\n",
      "\n",
      "[0, 0, 0, 1, 1, 0, 0, 0, 0, 0]\n",
      "\n",
      "\n",
      "[0, 0, 0, 0, 0, 0, 0, 0, 0, 0]\n",
      "\n",
      "\n",
      "[0, 0, 0, 0, 0, 0, 0, 0, 0, 0]\n",
      "\n",
      "\n",
      "[0, 0, 0, 0, 0, 0, 0, 0, 0, 0]\n",
      "\n",
      "\n",
      "[0, 0, 0, 0, 0, 0, 0, 0, 0, 0]\n",
      "\n",
      "\n",
      "[0, 0, 0, 0, 0, 0, 0, 0, 0, 0]\n",
      "\n",
      "\n",
      "[0, 0, 0, 0, 0, 0, 0, 0, 0, 0]\n",
      "\n",
      "\n",
      "[[1, 1], [1, 1], [1, 1], [1, 1]]\n",
      "--------------\n",
      "1\n",
      "0\n"
     ]
    },
    {
     "data": {
      "text/plain": [
       "1"
      ]
     },
     "execution_count": 60,
     "metadata": {},
     "output_type": "execute_result"
    },
    {
     "data": {
      "image/png": "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",
      "text/plain": [
       "<Figure size 432x288 with 1 Axes>"
      ]
      "text/plain": "<Figure size 432x288 with 1 Axes>",
      "image/png": "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\n"
     },
     "metadata": {
      "needs_background": "light"
     },
     "output_type": "display_data"
    },
    {
     "data": {
      "text/plain": "<Figure size 432x288 with 1 Axes>",
      "image/png": "iVBORw0KGgoAAAANSUhEUgAAAW0AAAD4CAYAAAAn3bdmAAAAOXRFWHRTb2Z0d2FyZQBNYXRwbG90bGliIHZlcnNpb24zLjQuMywgaHR0cHM6Ly9tYXRwbG90bGliLm9yZy/MnkTPAAAACXBIWXMAAAsTAAALEwEAmpwYAAA720lEQVR4nO3dd3jN5//H8eediESsqL2+aJHYo2m1SilqtPasos2JiFA5kUgQRAixKTVCRBLUbOy9VxKJVWrHamlRaqvN/fuD+GlRQc65z0nux3W5rtKTz/2qJu+c3J/3+3MLKSWapmmadbBRHUDTNE1LOV20NU3TrIgu2pqmaVZEF21N0zQroou2pmmaFclgiovmypVLFi1a1BSX1jRNS5N27979l5Qy96teZ5KiXbRoUXbt2mWKS2uapqVJQojfUvI6vT2iaZpmRXTR1jRNsyK6aGuaplkRXbQ1TdOsiC7amqZpVkQXbU3TNCuii7amaZoV0UVb0zTNiuiirWmaZkV00dY0TbMiumhrmqZZEV20NU3TrIgu2pqmaVZEF21N0zQroou2pmmaFdFFW9M0zYrooq1pmmZFUlS0hRC+QoiDQogDQog5QggHUwfTNE3TnvfKoi2EKAgYAVcpZVnAFvjK1ME0TdO056X0jMgMQCYhxH3AEThrukipTwihOoKmaRZGSqk6wht55TttKeUfwCjgNHAOuCalXPvv1wkhPIUQu4QQuy5evJj6Sd+SnZ2d6gjPsaRMNjY22NvbkzFjRtVRtDfg4OBAxowZLepzSjONV77TFkLkAJoAxYCrwE9CiPZSyh+ffZ2UMhwIB3B1dbW4b2H3799n8+bNqmP8Q82aNZV+t5dSEhMTg5+fH87Oznh6evLjjz9SvHhxxowZoyyXljJXr16lf//+zJo1iw4dOlCjRg06duzItm3bKFOmjOp4Fsvaf/JOyY3IOsApKeVFKeV9YCFQ1bSxNFPbv38/NWrUoG/fvvj7+xMUFETevHkxGAxER0dz7Ngx1RG1l3j48CHh4eGULFmS06dPExkZSbNmzXjnnXdo164dPj4+Vvujv/ZqKSnap4GPhBCO4vG3qNrAYdPG0kzl8uXLdO3alZo1a+Lq6kpYWBgVK1Z8+u/feecdWrdujZ+fn7qQ2kvFxcVRuXJlwsLCGDJkCL6+vjg5OT39902aNOH48eOsWrVKXUjNpFKyp50IxAB7gP1PPibcxLm0VPbw4UMmTZqEs7Mz58+fJyoqiiZNmpAhw/M7ZM2bN2fv3r1s2LBBQVLtRf744w/atm1Ly5YtadKkCd9//z0lSpR47nV2dnZ07twZHx8f7t+/ryCpZmop6tOWUgZLKV2klGWllB2klHdNHUxLPVu3bqVixYpMmzaN4cOH4+PjQ/bs2V/6ent7ezp16oSPjw8PHz40Y1Lt3+7cucOQIUMoV64cdnZ2REVFUbt27f/cl/3444/JmTMnkyZNMmNSzVz0RGQadubMGVq3bk2bNm1o0aIFo0eP5r333kvRx3766afY29szbdo0E6fUXkRKydKlSylVqhRr1qxhwoQJdOzYkUyZMr3yY4UQdO7cmUGDBnH58mUzpNXMSRftNOj27duEhIRQvnx5MmfOTHR0NJ999tlr3TUXQuDl5UVQUBDXrl0zYVrt344cOULdunXp3r073333HSEhIRQsWPC1rvHuu+9SvXp1goODTZRSU0UX7TRESsmiRYtwcXFh06ZNhIWF4ebmhoPDmz11oGTJknz44YcMHjw4lZNqL3Lt2jV8fX2pWrUqLi4uTJ06lQ8++OCNr+fm5sasWbM4fFj3DaQluminEYcOHaJ27doEBATg4+PDgAEDyJ8//1tf12AwMG3aNE6cOJEKKbUXefToEZGRkZQsWZLjx48TGRlJy5YtX3iT+HU4OTnRtm1bfH19UympZgl00bZyV69exWg0Uq1aNcqWLcuUKVN4//33U+36OXPmpGXLlvTo0SPVrqn9v8TERD744APGjRtHSEgI/v7+5MiRI9Wu36xZMw4fPszq1atT7ZqaWrpoW6l/D1hERUXRokWLt3539iItW7Zk165dFjdRas3OnTtHhw4daNy4MfXr12fs2LG4uLik+jrPtgA+ePAg1a+vmZ8u2lYoLi6O999/n0mTJhEaGvrcgEVqS24BNBqNugXwLd27d48RI0ZQpkwZpJRER0dTt25dbGxM96VYtWpVsmfPzuTJk022hmY+umhbkWcHLBo1asTYsWMpWbKkWdauUaMGtra2REVFmWW9tGjlypWULl2aZcuWMX78eDp16oSjo6PJ103uBBo4cCBXrlwx+XqaaemibQXu3r37jwGLyMhI6tSpY9YH3wgh6NKlC/369eP69etmWzctOHbsGA0aNKBr1654enoyePBgChUqZNYM7733Hp988gkDBgww67pa6tNF24JJKVm2bBkuLi7/GLAwx7uzF3F2dub9998nNDRUyfrW5saNGwQEBFClShWKFStGREQEVapUUZbHzc2NmTNncvToUWUZtLeni7aFSh6w8PHxeeMBC1Nwd3dn6tSpnDp1SnUUi/Xo0SOmT59OyZIlOXToEBEREbRp00b5s65z5MjBV199pVsArZwu2hbm2rVr+Pn5UbVqVZydnd96wCK15cqVixYtWugWwJfYuXMnH330ESNHjqR///707NmTnDlzqo71VLNmzThw4ABr1z53jolmJXTRthDPDlgcO3aMadOm0apVK5O08L2tVq1akZiYyNatW1VHsRh//vknBoOBL7/8klq1ajF+/HhKly6tOtZzMmbMiKenp24BtGK6aFuA5AGLsWPHPh2weOedd1THeil7e3s8PDzw9vZO9y2A9+/fZ8yYMZQuXZo7d+4QFRVFgwYNTNrC97aqVatGlixZCA/XT1i2Rpb7mZVOfPPNNzRu3Jh69eoxbtw4kwxYmMJnn30GwPTp0xUnUWft2rWUKVOGn376ie+//x4vLy+yZMmiOtYrJbcABgcHc/XqVdVxtNeki7YiR44cIWPGjDx8+JDo6Gjq1atn0e/O/k0IQdeuXenTpw83btxQHcfsfH19cXd3x2AwMHToUIoUKaI60mspXrw4VatWZeDAgaqjaK/JeqpEGpMtWzaEEDg6OqboGcmWyMXFhcqVKzNkyBDVUczuvffe4+HDh+TJk8dqD4p1c3Nj+vTpJCUlqY6ivQZdtBUpUKAAd+/eZceOHYwZM8Zqbwq5u7szZcoUfv31V9VRzKpbt26MGzeOnj17snPnTtVx3og+D9Q66aKtWGxsLHfu3CEoKIhbt26pjvPacufOTfPmzfH391cdxexat27NkiVLGDFihNUepNuiRQv27dvH+vXrVUfRUkgXbcWyZs3KihUrKFWqFL6+vly6dEl1pNfWqlUr4uLiiI2NVR3F7KpVq8a2bduYO3cu0dHRSClVR3otyS2ARqPRan/aS2900bYAdnZ2RERE0K5dO7y9va1uq8HBwYFOnTrh7e3No0ePVMcxO2dnZxITE9m3bx8jR460uuJXvXp1MmXKREREhOooWgroom0hhBAEBQUxdOhQ/Pz8+Pnnn1VHei21atXi4cOHzJgxQ3UUJfLmzcu2bduQUtKnTx/+/vtv1ZFSLPlhYP3799fngVoBXbQtzDfffMP8+fMZPHiwVe0zJn/hBwYGcvPmTdVxlMicOTNLly6lUqVKdO/enYsXL6qOlGIlSpSgSpUqhISEqI6ivYIu2haodu3abNq0iaioKGbPnm01+6SlS5emQoUKDB06VHUUZTJkyEBYWBgdO3bE29ubkydPqo6UYgaDgaioKI4fP646ivYfdNG2UOXKlSMxMZG4uDjGjRtnNfukHTt2JCwsjN9++011FGWEEPTq1YvRo0fj7+/P7t27VUdKkZw5c9KqVSvdAmjhdNG2YAULFiQ+Pp7r168THBxsFS2BefLkoWnTpgQEBKiOotzXX3/NwoULGTp0KGvWrFEdJ0VatGjBnj172Lhxo+oo2kvoom3hsmXLxurVqylevDg9evSwipbANm3asG3bNuLj41VHUa5GjRps3bqVWbNmMXPmTIvf6tLngVo+XbStgJ2dHVFRUbRq1Qqj0WjxWw8ODg5P93TTYwvgv5UqVYqEhAR27dplFdOvNWrUIGPGjEybNk11FO0FdNG2EkIIBg4cyKBBg/Dz8+OXX35RHek/1a5dm3v37vHjjz+qjmIR8ufPT2xsLPfu3bP46dfkpwAGBQXpFkALpIu2lTEYDMyePZuBAwda9L6jjY0NXbp0oXfv3lbVs2xKWbJkYfny5ZQuXRpfX1/++usv1ZFeytnZmQ8++IDBgwerjqL9iy7aVqhu3bps2LCBiIgI5s2bZ7H7pGXKlKFcuXIMGzZMdRSLkSFDBqZOnUr79u0xGo0Wfdamu7s7ERERnDhxQnUU7Rm6aFupChUqkJCQwObNmxk/frzF3jTy8PBgwoQJnD59WnUUiyGEoF+/fgwbNgx/f3+LnX7NmTMnLVu21OeBWhhdtK1Y4cKF2b59O5cvX2bAgAHcuXNHdaTnJLcA9uzZU3UUi9OhQwd++uknQkNDLXb6tVWrVuzcuZPNmzerjqI9oYu2lcuePTtr1qyhSJEi9OjRgytXrqiO9Jw2bdqwefNmtm/frjqKxfnss8/YtGkT0dHRFjn9qlsALU+KirYQwkkIESOEOCKEOCyE+NjUwbSUy5gxIzNmzKBp06Z4e3tz5swZ1ZH+IVOmTHTs2BGj0ahbAF+gbNmyJCYmsn37dsaOHWtxLYE1a9bExsaGqKgo1VE0Uv5OexywWkrpAlQADpsukvYmhBAMHjyY/v374+vry/79+1VH+oc6depw+/Zt5syZozqKRSpQoABxcXH8/fff9O/f36JaApMfBta3b1+uX7+uOk6698qiLYTIDnwKTAOQUt6TUl41cS7tDXXq1ImZM2cSHBzMli1bVMd5KrkFsGfPnroF8CWyZs3KypUrKVmypMVNv7q4uODq6kpoaKjqKOleSt5pFwMuAlFCiJ+FEBFCiMwmzqW9hfr167N+/XomT57MTz/9pDrOU2XLlqVMmTKMGDFCdRSLZWdnR2RkJG3atLG46Vd3d3fCw8Mtuk0xPUhJ0c4AVAbCpJSVgL+B3v9+kRDCUwixSwixy5qeI5xWVapUie3bt7NhwwYmTpxoMTeROnbsyPjx4/n9999VR7FYQgiCg4MZPHgwfn5+7Nu3T3UkAHLlykWLFi10C6BiKSnavwO/SykTn/w+hsdF/B+klOFSSlcppWvu3LlTM6P2hooUKUJ8fDznz58nJCSEu3fvqo5Evnz5aNSokW4BTAE3Nzfmzp1LSEgIGzZsUB0HeHyYcUJCAlu3blUdJd16ZdGWUp4HzgghnJ/8UW3gkElTaakmR44crFu3jnz58uHv78/Vq1dVR+Krr75i48aNJCYmvvrF6VydOnXYuHEjkZGRzJ07V3lLoL29PR4eHnh7e1vMT2/pTUq7R7yBWUKIX4CKwBCTJdJSnb29PbNnz+aLL77AaDQq35pwdHTEYDDg7e2tvAhZg/Llyz99d/vDDz8oL5a1atUCYPr06UpzpFcpKtpSyr1Ptj7KSymbSiktb4JD+082NjYMGzaMwMBAfH19OXjwoNI8devW5ebNm8ydO1dpDmtRqFAh4uPjuXLlCsHBwdy+fVtZluQWwD59+nDjxg1lOdIrPRGZznh5eREVFUVQUBDbtm1TliO5BTAgIMCiepItWfL0a9GiRfH39+fy5cvKspQqVYpKlSoxZIj+odvcdNFOh7788kvWrFnDxIkTWbhwobIc5cuXx8XFhVGjRinLYG2Sp1+bNWuG0WhU+iAud3d3Jk+ezK+//qosQ3qki3Y65erqSnx8PKtWrWLy5MnKxss9PDwYO3Ysf/zxh5L1rZEQgkGDBhEcHIyfn5+y6dc8efLQvHlz/P39layfXuminY4VK1aMhIQETp8+zeDBg5W0BObPn5+GDRvSq1cvs69t7Tw8PPjxxx8ZMGCAsqfwtW7dmri4OGJjY5Wsnx7pop3OvfPOO2zYsIGcOXPSs2dPJcdLtW3blrVr17Jz506zr23t6tWrx7p165gyZQrz5883ezeOg4PD0xZA/TAw89BFW8PBwYG5c+fy+eef4+Pjw9mzZ826vqOjI+7u7roF8A1VqlSJhIQENm7cqGT6tXbt2jx8+JAZM2aYdd30ShdtDXjczTFy5Eh69OiBj48PR44cMev69erV49q1a8yfP9+s66YV//vf/9i+fTt//vknISEhZj0QI/kg4MDAQG7evGm2ddMrXbS1f+jWrRsRERH07duX+Ph4s637bAugyh5ka+bk5MS6devInz8/AQEBZp1+LVOmDOXLl2fo0KFmWzO90kVbe07jxo1ZuXIl48aNY8mSJWZbt0KFCpQoUYLRo0ebbc20Jnn69csvvzT79KuHhweTJk2yqCcTpkW6aGsv9OGHHxIfH8/SpUsJDw83202mTp06MWbMGLPvq6clQgiGDh1Knz59zDr9mnweaEBAgFnWS6900dZe6t133yUxMZETJ04wZMgQ7t27Z/I18+fPzxdffEFgYKDJ10rrOnfuTHR0tFmnX9u0acO2bdvMurWW3uiirf2nnDlzsmnTJrJmzUqvXr3M8qyJr7/+mlWrVrF7926Tr5XWffHFF6xdu5aJEyeyYMECk6+XKVOmp51AugXQNHTR1l4pU6ZMxMTEUKNGDXx8fDh37pxJ18ucOTNubm66BTCVvP/++2zfvp3Vq1czadIkkxfTOnXqcPfuXX788UeTrpNe6aKtpYiNjQ3ff/89RqMRHx8fjh49atL16tevz+XLl4mJiTHpOulF0aJFSUxM5I8//mDQoEEmnX61sbGha9eu9O7dW58HagK6aGuvxcfHh8mTJxMYGEhCQoLJ1rG1tcXLywt/f3+z9hynZTly5GDDhg3kypXL5C2BZcqUoWzZsgwfPtxka6RXGVQH0KxPs2bNyJ8/P02aNKFDhw40atTIJOtUqlSJd999l5CQENq3b2+SNd6Uk5MTBQoUUB3jtdnb2zN37lx69+6Nj48PQ4YMoWDBgiZZy8PDg86dO1O/fn2cnJxMskZ6JEyxZ+jq6ip37dqV6td9U0IIAGUP1XmZmjVrWvWe7fHjx6lbty7VqlXD3d396d9zajp79qzJf5x/HdeuXePSpUs0aNCAlStXqo7zViZOnMjAgQMJCQmhVKlSJllj4cKFLF++3CTXfhNnzpzh/v37ABb3tSeE2C2ldH3l63TRVsfaizbAxYsX+fLLL8mRIwcBAQHY2dmpjmQS9+/fZ9GiRcyZMweDwUBwcDDZsmVTHeutLVu2DDc3N3r06MEnn3yiOo7JnD17lilTpvDrr78+Hf6xtK+9lBZtvaetvZXcuXOzefNm7O3t6d27d5o8fioxMZFOnTpx7Ngx4uPjGT16dJoo2ACNGjVi9erV/PDDDyxevFh1nFR3+/Ztpk2bRteuXfn888/N/kwdU9BFW3trjo6OLFq0iI8++oju3bvz559/qo6UKn7//XeCgoKYPHky48ePZ82aNbi4uKiOleo++OAD4uPjWbZsGVOmTEkT/dVSSjZs2IDBYODu3bvs37+fvn374uDgoDraW9NFW0sVtra2jB8/ni5dumA0Gjl27JjqSG/s1q1bTJ06FW9vbxo0aMDhw4dp2LChSfbsLUXy9OupU6cIDQ21mHsIb+LYsWP4+fmxePFi5s+fz7x58yhUqJDqWKlGF20t1Qgh6NGjBz/88AO9evVix44dqiO9Fikl69atw2Aw8OjRIw4cOEBgYCD29vaqo5lF8vSrk5MTvXv35vr166ojvZarV68yduxYAgMD8fT05Oeff6Z69eqqY6U6XbS1VNe6dWuWLFnCyJEjWbFiheo4KXL06FF8fHxYsWIFCxcuZPbs2VbZ0ve2HBwcmD9/PjVr1sRoNJp8+jU1PHjwgIULF+Lu7k7BggVJSkrCy8sLW1tb1dFMQvdpayZRrVo1tm3bRv369blw4QJubm4Wub1w5coVIiMjSUhIIDQ0FHd39zT7xZ5SNjY2jBkzhqJFi2I0Ghk0aJDF7uXv2bOHSZMmUbBgQbZs2ULZsmVVRzI5/U5bMxlnZ2cSEhLYv38/w4cPf9ofawkePHhATEwM7u7uFCtWjKSkJDp16pTuC/azjEYj4eHh9OnTx+Ke2nf+/HkGDhzI999/z7Bhw9i0aVO6KNigi7ZmYnnz5mXr1q3Y2trSt29fiziOateuXXh6enLw4EFiY2MZN26cnth7iaZNm7JixQrGjh3LsmXLVMfhzp07REdH4+XlxaeffsrRo0dp0aKFRf4UZyq6aGsmlzlzZpYsWULlypXx9fXlwoULSnKcPXuW4OBgxo8fz+jRo9mwYQOlS5dWksWafPTRR8TFxbFo0SKmTp2qpCVQSsnmzZsxGAzcuHGDffv2MWDAADJlymT2LKrpoq2Zha2tLZMmTcLDwwOj0ciJEyfMtvazAxZ16tThyJEjNG3aNF29O3tbxYsXJyEhgaSkJIYNG2aWAzGSnTx5En9/f+bPn8/s2bOJiYnhf//7n9nWtzS6aGtmI4SgZ8+ejBkzhoCAAEz9qIMXDVj069cvTQxYqJA8/erg4GCW6dfr16/zww8/EBAQgMFgYN++fdSsWdOka1oDXbQ1s2vbti2LFi1i2LBhrFq1yiRrJA9YLFq0KE0OWKji6OjIwoULqVq1Kj4+Ppw/fz7V13j48CFLlizBYDCQJ08ejh49ynfffUeGDLrZDXTLn6bIp59+ytatW6lfvz4XL16kQ4cOqbJdcfXqVaKjo4mNjWXQoEG6I8QEkqdfixUrhtFoZPDgwZQsWTJVrr1v3z4mTpxI7ty52bBhAxUqVEiV66YlumhrypQqVYrExMSnvdzdu3d/43dTDx48YOnSpcycOZOvv/6ao0eP8s4776RyYu1Zfn5+FC5cGC8vL3r16kWVKlXe+FoXLlwgPDycw4cPM2bMGFq1aqXvObyE3h7RlMqXLx+xsbHcv3+fvn37vtHxVHv27MHLy4u9e/eyZcsWJkyYoAu2mbRq1YqlS5cyatSoN3pu9t27d5k5cyaenp589NFHJCUl0bp1a12w/4N+p60plyVLFpYvX06XLl3w9fVlyJAh5MqV65Ufd/78eaZMmcLx48f5/vvvad68uf5iV+CTTz4hNjaWevXqceHCBQwGwyv/P0gpiY2NZfLkybi6urJnzx6KFStmpsTWTb/T1ixChgwZCA8P59tvv8Xb25uTJ0++9LXPDlhUr16dI0eOpLsBC0tTsmRJEhMTOXDgwCunX0+dOkXPnj2ZNWsW06dPZ/Hixbpgv4YUF20hhK0Q4mchhOWcHaSlKUII+vTpw4gRI/D392fPnj3/+PfPDlhcv36dvXv3MnDgQBwdHRUl1p6VJ08etm7dSoYMGQgMDHxu+vXGjRtMnDiRHj160K5dO3755Rdq166tKK31ep132j7AYVMF0bRk7du3JyYmhtDQUNauXQs8P2CxYMECihQpojip9m+ZM2dm8eLFfPDBB3Tv3p0LFy7w8OFDli9fjsFgIHv27Bw5cgQfH580ezSdqaVoT1sIUQj4EggF/EyaSFPm5MmT3LlzxyJGuz/77DO2bNlC/fr12bhxI8eOHWPAgAF4eXnpft0XkFKybds2KlWqRNasWZVmsbW1ZeLEiYwaNQqj0YiTkxNOTk6sWbOGypUrK82WFqT0s38s0BN46WeDEMIT8ATS9YipNbp58yaDBw8mPDwcW1tbkpKSyJEjh+pYlClThsTERGbNmoW7uzs5c+ZUHcki7du3j++++45ffvmFtm3bMmXKFNWREEIQEBBA6dKl+fvvv3ULXyp65faIEKIhcEFKufu/XielDJdSukopXXPnzp1qATXTkVIya9YsSpYsyd69e5k6dSrVqlVjwIABqqM9VaBAAQICAnTBfoFLly7h5eVF7dq1qVKlCjNnziQmJob9+/erjvbUl19+qVv4UllK9rQ/ARoLIX4F5gK1hBA/mjSVZnJ79uyhatWqhIaG0rdvXwIDA8mVKxdubm7MnDmTo0ePqo6ovcSDBw+YMGECzs7OXLp0iejoaBo3boyTkxPt27fHaDQipVQdUzORVxZtKWWglLKQlLIo8BWwUUrZ3uTJNJO4ePEiHTt2pF69elSrVo0JEyb84+HxTk5OtG3bFl9fX4UptZfZvHkzFSpUYPr06YwcOZJu3br9Yw+7cePGnD59+o0GXTTroPu004n79+8zduxYXFxcuHnzJlFRUTRs2PCFz+Vo1qwZBw8efNq5oan322+/0aJFC9q1a0ebNm0YOXIk77777nOvy5AhA507d6Z79+5mfXyqZj6vVbSllJullA1NFUYzjfXr11OuXDnmzJnDmDFj6Nq16392GNjZ2eHp6YmPjw8PHjwwY1Lt327fvk1wcDCVKlXCycmJqKgoatSo8Z97xFWqVCFv3rxMmDDBjEk1c9HvtNOwU6dO0aRJE9zc3Gjfvj3Dhw+naNGiKfrYTz75hCxZshAeHm7akNoLSSmJiYnB2dmZuLg4Jk+ezDfffIO9vX2KPt7Ly4vQ0FD++usvEyfVzE0X7TTo77//pl+/flSuXJk8efIQGRlJ9erVX+sOvhCCLl26EBwczNWrV00XVnvO/v37qVmzJn369MHPz4+goCDy5s37WtcoUqQItWrVIigoyEQpNVV00U5DpJTMmzcPZ2dnduzYQXh4OO3bt0/xu7N/e++99/jkk08YOHBgKifVXuTy5ct899131KxZk8qVKxMWFkalSpXe+HodOnRg/vz5HDhwIBVTaqrpop1G7Nu3j+rVq9O/f3969epF3759yZMnz1tf183NjenTp5OUlJQKKbUXefjwIWFhYTg7O3Pu3DmioqJo2rTpW09+Zs+enXbt2uHj46NbANMQXbSt3LMDFh9++CFhYWGUL18+1a6fI0cO2rRpg5+ffnqBKSSPnk+dOpVhw4bh4+ND9uzZU+36TZo04eTJk6xcuTLVrqmppYu2lXp2wOKvv/4iKiqKJk2amORorebNm7Nv3z7Wr1+f6tdOr86cOUPr1q1p3bo1zZo1Y8yYMRQvXjzV18mQIQNeXl74+Pj85+NSNeuhi7YV+veAhbe3N9myZTPZehkzZqRz584YjUbdAviW7ty5w+DBgylfvjyOjo5ERUVRq1Ytk455V6lShdy5czNx4kSTraGZjy7aVuTZAYvWrVu/dMDCFKpVq4ajoyMRERFmWS+tkVKyePFinJ2d2bBhA2FhYRgMBjJlymTytYUQdO7cmUGDBnHp0iWTr6eZli7aViB5wKJixYpkz56dyMhIatasadaH8Agh8PLyon///ly7ds1s66YFhw4donbt2vTo0QOj0ciAAQPInz+/WTMUK1aMmjVr0r9/f7Ouq6U+XbQt2LMDFsnn6X377bc4ODgoyVOiRAk++ugjQkJClKxvba5evYqPjw/VqlWjbNmyhIeH4+rqqizPN998w5w5czh06JCyDNrb00XbQiUPWAQGBuLn50f//v3Jly+f6lgYDAaioqI4fvy46igW6+HDh0ydOpWSJUvy22+/ERUVRYsWLZQf3uDk5ES7du3o3r270hza29FF28I8O2BRqVIlJk+e/FYDFqntnXfeoXXr1roF8CXi4+NxdXVlwoQJhIaG4uvri5OTk+pYTzVp0oSkpCRWrVqlOor2hnTRthDPDlicPXuWyMhImjVrpvzd2Ys0b96cn3/+mY0bN6qOYjHOnj3L119/TfPmzWnYsCHjxo2jZMmSqmM9x87Ojs6dO+sWQCumi7YFeHbAYujQoXTv3t2i3p39m729PR4eHhiNRh4+fKg6jlJ3795l6NChlC1bFltbW6KioqhTp45Fn9Ty8ccfkyNHDsLCwlRH0d6ALtqK/XvAokSJEqojpUiNGjXImDEj06ZNUx1FCSkly5Ytw8XFhVWrVjFhwgQ8PDxwdHRUHe2VkjuBQkJCuHz5suo42mvSRVuRw4cPY2dnR6ZMmcwyYJHakr/wg4KC0mULoLe3N926daNr164MGjSIggULqo70Wt59912qV69OcHCw6ijaa9JFWxEnJydsbGwQQihr4Xtbzs7OfPDBBwwePFh1FLMrW7Ysd+7cSdXnhJibm5sbs2bN4vDhw6qjaK9BF21F8ufPz927d9m/fz/Dhw+32ptC7u7uREREcOLECdVRzMrLy4spU6YQGBjI9u3bVcd5I/o8UOuki7ZiW7duxdbWlr59+3Lz5k3VcV5bzpw5admyJT169FAdxeyaNm3KihUr+P7771m2bJnqOG+kWbNmHD58mNWrV6uOoqWQLtqKZc6cmSVLllC5cmV8fX25cOGC6kivrVWrVuzcuZPNmzerjmJ2H330EXFxcSxatIiIiAgePXqkOtJr0eeBWh9dtC2Ara0tkyZNetpGZ21bDfb29nTq1CndtgAWL16cxMREkpKSGDZsmNWdgv7JJ5+QLVs2Jk+erDqKlgK6aFsIIQQ9e/ZkzJgxBAQEsGvXLtWRXkvNmjWxsbEhKipKdRQlcuXKxebNm3FwcCAwMJAbN26ojpRiyeeBDhgwgCtXrqiOo72CLtoWpm3btixatIhhw4ZZ1ahx8hd+3759uX79uuo4SmTKlImFCxdStWpVfHx8+PPPP1VHSrH33nuPatWqMWDAANVRtFfQRdsCffrpp2zdupU5c+YwY8YMqznfz8XFBVdXV0JDQ1VHUcbW1pYffviBbt26YTQaOXbsmOpIKebm5sbMmTM5evSo6ijaf9BF20KVKlWKxMREdu/ezejRo63mJpG7uztTp07l1KlTqqMo5evry4QJE+jVqxeJiYmq46SIPg/UOuiibcHy5ctHbGws9+/fp2/fvvz999+qI71Srly5aN68Of7+/qqjKNeyZUuWLVvGqFGjWLFiheo4KdK8eXN++eUX1q1bpzqK9hK6aFu4LFmysHz5csqVK4evry9//fWX6kiv1Lp1a7Zv3862bdtUR1GuatWqxMbGEhMTQ1RUlMVvdSWfB6pbAC2XLtpWIEOGDISHh/Ptt9/i7e3NyZMnVUf6T8lPAfT29ra6vmVTKFmyJAkJCRw4cMAqpl+TzwOdOnWq6ijaC+iibSWEEPTp04cRI0bg7+/Pnj17VEf6T7Vq1UJKyfTp01VHsQh58uRh69atZMiQgT59+lj09Gvyw8CCg4O5evWq6jjav+iibWXat29PTEwMoaGhrF27VnWcl0puAbT0AmVOjo6OLF68GFdXV7p3727R06/6PFDLpYu2Ffrss8/YsmULM2bM4Mcff7TYfdJSpUpRsWJFhgwZojqKxbC1tWXixIl07twZo9Fo0WdtGgwGoqOjraptMT3QRdtKlSlThsTERBITE/n+++8t9qaRu7s7YWFh/Pbbb6qjWAwhBP7+/owdO5aePXta7PSrPg/UMumibcUKFChAXFwct27dIigoiFu3bqmO9Jw8efLoFsCXaNOmDYsXL2b48OEWO/2afB7ohg0bVEfRntBF28plzZqVlStX4uLigp+fH5cuXVId6TmtW7cmNjaWuLg41VEsTvXq1dm6dStz585l+vTpFrfVZW9vj6enZ7p9GJglemXRFkIUFkJsEkIcEkIcFEL4mCOYlnJ2dnZMmzaNtm3b4u3tza+//qo60j84ODjoFsD/4OLiQmJiInv37mXUqFEWt9X16aefYm9vT0REhOooGil7p/0A6CGlLA18BHwnhCht2lja6xJC0L9/f4YMGUKPHj3Yu3ev6kj/ULt2bR48eMDMmTNVR7FIefPmZdu2bTx69Ig+ffpY1PRrcidQej0P1NK8smhLKc9JKfc8+ecbwGHAuk4xTUe+/fZb5s2bx6BBgyxqHzK59zcwMFC3AL5E5syZWbp0KRUrVsTX15eLFy+qjvRUyZIlqVKlCoMGDVIdJd17rT1tIURRoBJgHU/ASadq167Npk2biIyMZM6cORazT1qmTBnKlSvHsGHDVEexWBkyZGDy5MkYDAaMRqNFTb8aDAYiIyMtuk0xPUhx0RZCZAEWAN2llM89MFkI4SmE2CWE2GVJ7xDSq3LlypGQkEBsbCzjxo2zmH1SDw8PJk6cyOnTp1VHsVhCCHr37s3IkSMtavo1PZ8HaklSVLSFEHY8LtizpJQLX/QaKWW4lNJVSumaO3fu1MyovaFChQoRHx/P9evXGTBgALdv31YdiTx58tC0aVMCAgJUR7F47dq1Y8GCBRY1/dqyZUt2797Npk2bVEdJt1LSPSKAacBhKeUY00fSUlO2bNlYvXo17777Lv7+/ly+fFl1JNq0acPWrVuJj49XHcXi1axZky1btjBz5kyLmH5N7+eBWoKUvNP+BOgA1BJC7H3y6wsT59JSkZ2dHdHR0TRv3hxvb2/lWxOZMmXC3d0do9GoWwBToEyZMiQkJLBjxw7GjBmjfKurRo0aZMiQgcjISKU50quUdI/ESimFlLK8lLLik18rzRFOSz1CCEJCQggJCcHPz49ffvlFaZ46depw584dZs2apTSHtShQoACxsbHcuXNH+fRrcgtgv3790u15oCrpich0xt3dnVmzZjFw4EA2b96sLIeNjQ1du3ald+/eFtWTbMmyZs3KihUrKFWqFL6+vkqnX52dnXF1dWXw4MHKMqRXuminQ3Xr1mX9+vWEh4czf/58ZfukZcqUoUyZMgwfPlzJ+tbIzs6OiIgI2rVrp3z6Nfk8UEtqS0wPdNFOpypWrEhCQgKbNm1i4sSJym4qeXh4MH78eM6cOaNkfWskhCAoKIihQ4fi5+fHzz//rCRHrly5dAugArpop2OFCxcmPj6eixcvMnDgQO7cuWP2DHnz5qVJkyb07NnT7Gtbu2+++Yb58+czePBg1q9fryRDq1at2LFjB1u2bFGyfnqki3Y65+TkxNq1aylcuDD+/v5Kjpdq06YNmzZtIiEhwexrW7vk6deoqChmz55t9q2u5PNAdQug+eiirZExY0ZmzpxJ48aN8fb25vfffzfr+o6Ojri7u+Pt7a28D9kalStXjsTEROLi4pRMv3722WcAREdHm3Xd9EoXbQ14vE8aGhpKv3796N69OwcPHjTr+p9//jm3bt1izpw5Zl03rShYsODT6dfg4GCztgQKIejatSt9+/blxo0bZls3vdJFW/sHT09PZsyYQf/+/dm6davZ1rWxsaFLly707NnTIk/gsQbJ06/FixenR48eZm0JdHFxoXLlyoSGhpptzfRKF23tOQ0aNGDt2rVMmjSJBQsWmG3dcuXKUapUKUaMGGG2NdMaOzs7oqKiaNWqFUaj0axnc7q7uzNlyhROnTpltjXTI120tReqXLkyCQkJrFmzhokTJ5pt3NzDw4Nx48aZfV89LRFCMHDgQAYNGmTW6dfcuXPTokULfR6oiemirb1UkSJFSEhI4Ny5cwwaNIi7d++afM18+fLRqFEjevXqZfK10jqDwcDs2bMZOHAgGzduNMuarVq1Ij4+nm3btpllvfRIF23tP+XIkYP169eTK1cuAgICzNIS2LZtW9avX8+OHTtMvlZaV7duXTZs2EBERATz5s0zeXeOg4MDnTp10ueBmpAu2tor2dvbM3fuXOrVq4fRaOSPP/4w6XqOjo4YDAbdAphKKlSoQEJCAps3b2b8+PEm76euVasWjx49Yvr06SZdJ73SRVtLERsbG0aMGEGvXr3o3r07hw4dMul69erV4/r168ybN8+k66QXhQsXZvv27Vy+fJkBAwaYdPo1+SmAffr00eeBmoAu2tpr6dq1K5GRkfTr14/Y2FiTrZP8FMCAgACLOHEnLciePTtr1qyhSJEi9OjRgytXrphsrdKlS1OhQgWGDBlisjXSqwyqA2jWp2HDhqxevZpGjRpx8eJFmjVrZpJ1ypcvT8mSJenfvz/t2rUzyRpvKmfOnBQuXFh1jNeWMWNGZsyYQVBQEN7e3gwdOtRk/x0dO3bE09OTunXr4uTkZJI10iNhij1DV1dXuWvXrlS/7pt6fGIaSp8f/SI1a9a06j3bU6dOUa9ePd5//308PT2xsUn9H9zOnTvH0KFDzdK5khJXrlzhwoULfPHFF6xYsUJ1nLcydepU+vTpQ3BwMOXKlTPJGkuXLrWov6eTJ09y//59AIv72hNC7JZSur7ydbpoq2PtRRvg0qVLNGrUCEdHR3r27Im9vb3qSCZx9+5dYmJiiImJwcvLiz59+pAlSxbVsd7a6tWradeuHT4+PtSoUUN1HJM5c+YMYWFh/Pnnn5w4cQKw3qKt97S1t5IzZ042btxIjhw56NWrV5o7fkpKSVxcHB4eHpw7d46dO3cyZMiQNFGwAerXr8/69euZPHkyP/30k+o4qe7vv/9mypQpGI1GmjVrZvIb6Oagi7b21hwcHJg3bx61atXCaDRy7tw51ZFSxW+//UZgYCDR0dFERESwbNky3nvvPdWxUl2lSpXYvn07GzZsUHogRmp69OgRq1evxmAwYGdnx6FDh/D39ydjxoyqo701XbS1VGFjY8Po0aPx8/PDaDRy5MgR1ZHe2M2bNwkLC8PX15fWrVtz8OBB6tatqzqWSRUpUoT4+HjOnz9PSEiIxdxDeBNHjhzBaDSybt06li5dyvTp08mXL5/qWKlGF20tVXl7ez+9wRUfH686zmt59OgRK1euxGAw4OjoyOHDh/H19cXOzk51NLPIkSMH69atI1++fMoOxHgbly9fZuTIkQQHB+Pn58eOHTuoUqWK6lipThdtLdU1adKElStXMnbsWJYuXao6ToocPHgQb29vNm/ezMqVK4mMjCRPnjyqY5mdvb09s2fP5osvvsBoNFrFg7vu37/P/Pnz6dixI87OziQlJWEwGEzSzWQJdJ+2ZhJVqlQhPj6eevXq8eeff9KxY0eL/CK6dOkSERER/PzzzwwfPpz27dtbZE5zsrGxYdiwYRQpUgRfX18GDBhAmTJlVMd6oR07dhAWFkbx4sXZvn07zs7OqiOZXPr+7NRM6r333iMhIYFjx44xdOhQ7t27pzrSU/fu3WPOnDl4eHhQtmxZkpKS+Oabb9J9wX5Wly5diIyMJCgoyOKe2vfHH38QFBREWFgYP/zwA2vWrEkXBRt00dZMLFeuXGzevBlHR0d69+5tEcdRJSQk0KlTJ06fPk1iYiIjRowga9asqmNZpIYNG7JmzRomTJjAwoULVcfh1q1bRERE0K1bN7744gsOHz5Mw4YNn85ipAe6aGsmlylTJhYsWEC1atXw8fHh/PnzSnKcOXOGPn36MHXqVMLCwli5ciUlSpRQksWauLq6sn37dlatWkVYWJiSR65KKVm3bh0Gg4FHjx5x4MABevfunWaHuf6LLtqaWdja2jJu3Di6deuG0WgkKSnJbGvfunWL8PBwjEYjTZs25dChQzRo0MBs66cFxYoVIyEhgdOnT5vtQIxkSUlJdO/enRUrVrBw4UJmzZpFgQIFzLa+pdFFWzMrX19fJk2aRO/evUlMTDTpWo8ePWLNmjW4ublha2vLwYMHCQgISBMDFiq88847bNy4kZw5c9KzZ0+uXbtm0vWuXr3KmDFj6Nu3L9999x27du2iatWqJl3TGuiirZldixYtWLZsGaNGjWL58uUmWSN5wGLNmjUsXbqUGTNmkD9/fpOslZ4kT7/WqVMHo9HI2bNnU32NBw8esGDBAgwGA0WLFiUpKYlOnTpha2ub6mtZI93ypylRtWpV4uLiqFevHhcuXMBgMKTKzaTLly8TGRnJjh07GDp0KG5ubrojJJXZ2NgwatQoihYtio+PDyEhIZQqVSpVrr1r1y4mTZpEkSJFiI2NpXTp0qly3bREfzZrypQoUYKEhAQOHTrEsGHDnj4y8008O2BRokQJkpKScHd31wXbhLp168bUqVPp27cvcXFxb3Wtc+fOERwczPjx4xk9ejQbNmzQBfsl9Ge0plSePHnYsmULdnZ2b9wSuGPHDjw9PUlKSiI+Pp4xY8aQPXt2E6TV/i15+nXcuHEsXrz4tT/+9u3bREVF0aVLF+rUqcORI0do2rRpumrhe126aGvKOTo6snjxYqpUqUL37t25cOFCij4uecBi0qRJjBs3jrVr1+Li4mLitNq/JU+/Llu2jPDw8BS1BEop2bhxIwaDgdu3b7N//3769euHg4ODGRJbN120NYtga2vLhAkT8PLywtvbm2PHjr30tckDFt999x0NGjTgyJEjNGrUSL87Uyh5+vXEiROEhob+Z0vg8ePH6dGjBwsXLmT+/PnMmzePQoUKmTGtdUtR0RZC1BdCHBVCHBdC9DZ1KC19EkLg7+/PDz/8QK9evdixY8c//v2zAxYPHz7kwIEDBAYGpssBC0uUK1cuNm3aRLZs2ejdu/dzB2Jcu3aNsWPH0rt3bzp16sTevXupXr26orTW65VFWwhhC0wEGgClgbZCCH2HQDOZ1q1bs2TJEkaOHMnKlSuB/x+wWL58OQsWLGD27NkULFhQcVLt3zJlykRMTAyffvopPj4+nDt3jgcPHrBo0SIMBgMFCxbk6NGjeHl56Ra+N/TKMyKFEB8DA6SU9Z78PhBASjn0ZR+jz4hMmZo1a6qOYPHs7e0pXrw4x48ft+oH86dHQggyZ85M1qxZuXLlCnfu3FEd6R+s9YzIlPRpFwTOPPP734HnniwuhPAEPAH+97//pTCm+djZ2VlckbSzs3urNrf04O7duxw8eFB1DO0NSCm5efMmN2/eVB0lTUm14RopZTgQDo/faafWdVODpX1H1TRNe1MpuRH5B1D4md8XevJnmqZpmpmlpGjvBEoIIYoJITICXwHWcYaUpmlaGvPK7REp5QMhRDdgDWALREop9SajpmmaAina05ZSrgRWmjiLpmma9gp6IlLTNM2K6KKtaZpmRXTR1jRNsyK6aGuaplkRXbQ1TdOsiC7amqZpVkQXbU3TNCuii7amaZoV0UVb0zTNiuiirWmaZkV00dY0TbMiumhrmqZZEV20NU3TrIgu2pqmaVZEF21N0zQroou2pmmaFRGmOPRWCHEDOJrqF347uYC/VIf4F50pZSwxE1hmLp0pZSwxk7OUMuurXpRqp7H/y1EppauJrv1GhBC7dKZX05lSzhJz6UwpY6mZUvI6vT2iaZpmRXTR1jRNsyKmKtrhJrru29CZUkZnSjlLzKUzpYzVZjLJjUhN0zTNNPT2iKZpmhXRRVvTNM2KmKRoCyFaCSEOCiEeCSGUttUIIeoLIY4KIY4LIXqrzJJMCBEphLgghDigOksyIURhIcQmIcShJ//vfCwgk4MQYocQYt+TTANVZ0omhLAVQvwshFiuOguAEOJXIcR+IcTelLaOmYMQwkkIESOEOCKEOCyE+FhxHucnf0fJv64LIbqrzPQkl++Tz/EDQog5QgiHl77WRMM1pYBHwBTAX0qp5JNICGELJAGfA78DO4G2UspDKvI8k+tT4CYwQ0pZVmWWZEKI/EB+KeUeIURWYDfQVOXflRBCAJmllDeFEHZALOAjpUxQlSmZEMIPcAWySSkbWkCeXwFXKaVFDYwIIaYD26SUEUKIjICjlPKq4ljA0/rwB1BFSvmbwhwFefy5XVpKeVsIMR9YKaWMftHrTfJOW0p5WEppCRORHwLHpZQnpZT3gLlAE8WZkFJuBS6rzvEsKeU5KeWeJ/98AzgMFFScSUopbz75rd2TX8rvnAshCgFfAhGqs1gyIUR24FNgGoCU8p6lFOwnagMnVBbsZ2QAMgkhMgCOwNmXvTCt72kXBM488/vfUVyIrIEQoihQCUhUHCV5G2IvcAFYJ6VUngkYC/Tk8U+TlkICa4UQu4UQnqrDPFEMuAhEPdlKihBCZFYd6hlfAXNUh5BS/gGMAk4D54BrUsq1L3v9GxdtIcT6J/sv//6l/J2s9uaEEFmABUB3KeV11XmklA+llBWBQsCHQgil20lCiIbABSnlbpU5XqCalLIy0AD47skWnGoZgMpAmJSyEvA3YCn3lTICjYGfLCBLDh7vABQDCgCZhRDtX/b6N372iJSyzpt+rBn9ARR+5veFnvyZ9gJP9o0XALOklAtV53mWlPKqEGITUB9QeQP3E6CxEOILwAHIJoT4UUr50i8yc3jybg0p5QUhxCIebw1uVZmJxz/Z/v7MT0cxWEjR5vE3tz1Syj9VBwHqAKeklBcBhBALgarAjy96cVrfHtkJlBBCFHvynfUrYKniTBbpyU2/acBhKeUY1XkAhBC5hRBOT/45E49vKB9RmUlKGSilLCSlLMrjz6eNqgu2ECLzk5vHPNl+qIvab2wASCnPA2eEEM5P/qg2oLQJ4BltsYCtkSdOAx8JIRyffB3W5vE9pRcyVctfMyHE78DHwAohxBpTrPMqUsoHQDdgDY//EuZLKQ+qyPIsIcQcYDvgLIT4XQjRUXUmHr+D7ADUeqYd6gvFmfIDm4QQv/D4G/A6KaVFtNhZmLxArBBiH7ADWCGlXK04UzJvYNaT/4cVgSFq4zz9xvY5YBE/TT75SSQG2APs53FdfulIux5j1zRNsyJpfXtE0zQtTdFFW9M0zYrooq1pmmZFdNHWNE2zIrpoa5qmWRFdtDVN06yILtqapmlW5P8A0ZP3KEzKOC4AAAAASUVORK5CYII=\n"
     },
     "metadata": {
      "needs_background": "light"
     },
     "output_type": "display_data"
    }
   ],
   "source": [
    "locSearch(pal.matrix, items_e, eps)\n",
    "# locSearch(matrix, items, eps)"
   ]
  }
 ],
 "metadata": {
  "kernelspec": {
   "display_name": "Python 3.9.10 64-bit (system)",
   "language": "python",
   "name": "python3"
  },
  "language_info": {
   "codemirror_mode": {
    "name": "ipython",
    "version": 3
   },
   "file_extension": ".py",
   "mimetype": "text/x-python",
   "name": "python",
   "nbconvert_exporter": "python",
   "pygments_lexer": "ipython3",
   "version": "3.9.10"
  },
  "vscode": {
   "interpreter": {
    "hash": "6643e6ed50db0d59a33908eb86408b16df6c710e8c0d335ec4f1e3d889261d64"
   }
  }
 },
 "nbformat": 4,
 "nbformat_minor": 0
}