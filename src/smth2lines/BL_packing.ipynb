{
 "cells": [
  {
   "cell_type": "code",
   "execution_count": 37,
   "metadata": {
    "collapsed": true
   },
   "outputs": [
    {
     "name": "stdout",
     "output_type": "stream",
     "text": [
      "[[[0, 0], [100, 100]], [[0, 0], [100, 100]], [[0, 0], [100, 100]], [[0, 0], [100, 100]], [[0, 0], [100, 100]], [[0, 0], [100, 100]], [[0, 0], [100, 100]], [[0, 0], [100, 100]], [[0, 0], [100, 100]], [[0, 0], [100, 100]], [[0, 0], [100, 100]], [[0, 0], [100, 100]], [[0, 0], [100, 100]], [[0, 0], [100, 100]], [[0, 0], [100, 100]], [[0, 0], [100, 100]], [[0, 0], [100, 100]], [[0, 0], [100, 100]], [[0, 0], [100, 100]], [[0, 0], [100, 100]], [[0, 0], [100, 100]], [[0, 0], [100, 100]], [[0, 0], [100, 100]], [[0, 0], [100, 100]], [[0, 0], [100, 100]], [[0, 0], [100, 100]], [[0, 0], [100, 100]], [[0, 0], [100, 100]], [[0, 0], [100, 100]], [[0, 0], [100, 100]], [[0, 0], [100, 100]], [[0, 0], [100, 100]], [[0, 0], [100, 100]], [[0, 0], [100, 100]], [[0, 0], [100, 100]], [[0, 0], [100, 100]], [[0, 0], [100, 100]], [[0, 0], [100, 100]], [[0, 0], [100, 100]], [[0, 0], [100, 100]], [[0, 0], [100, 100]], [[0, 0], [100, 100]], [[0, 0], [100, 100]], [[0, 0], [100, 100]], [[0, 0], [100, 100]], [[0, 0], [100, 100]], [[0, 0], [100, 100]], [[0, 0], [100, 100]], [[0, 0], [100, 100]], [[0, 0], [100, 100]], [[0, 0], [100, 100]], [[0, 0], [100, 100]], [[0, 0], [100, 100]], [[0, 0], [100, 100]], [[0, 0], [100, 100]], [[0, 0], [100, 100]], [[0, 0], [100, 100]], [[0, 0], [100, 100]], [[0, 0], [100, 100]], [[0, 0], [100, 100]], [[0, 0], [100, 100]], [[0, 0], [100, 100]], [[0, 0], [100, 100]], [[0, 0], [100, 100]], [[0, 0], [100, 100]], [[0, 0], [100, 100]], [[0, 0], [100, 100]], [[0, 0], [100, 100]], [[0, 0], [100, 100]], [[0, 0], [100, 100]], [[0, 0], [100, 100]], [[0, 0], [100, 100]], [[0, 0], [100, 100]], [[0, 0], [100, 100]], [[0, 0], [100, 100]], [[0, 0], [100, 100]], [[0, 0], [100, 100]], [[0, 0], [100, 100]], [[0, 0], [100, 100]], [[0, 0], [100, 100]], [[0, 0], [100, 100]], [[0, 0], [100, 100]], [[0, 0], [100, 100]], [[0, 0], [100, 100]], [[0, 0], [100, 100]], [[0, 0], [100, 100]], [[0, 0], [100, 100]], [[0, 0], [100, 100]], [[0, 0], [100, 100]], [[0, 0], [100, 100]], [[0, 0], [100, 100]], [[0, 0], [100, 100]], [[0, 0], [100, 100]], [[0, 0], [100, 100]], [[0, 0], [100, 100]], [[0, 0], [100, 100]], [[0, 0], [100, 100]], [[0, 0], [100, 100]], [[0, 0], [100, 100]], [[0, 0], [100, 100]]]\n"
     ]
    }
   ],
   "source": [
    "from src.class_polygon import Polygon\n",
    "from src.smth2matrix.shift2zero import shift2zero\n",
    "import numpy as np\n",
    "from src.greedy_alg.class_pallets import Pallets\n",
    "from src.class_item import Item\n",
    "\n",
    "from copy import copy\n",
    "import math\n",
    "\n",
    "from src.class_packing import Packing\n",
    "from src.smth2lines.polygon2segments import polygon2segments\n",
    "\n",
    "h = 1\n",
    "\n",
    "width = 100\n",
    "height = 100\n",
    "\n",
    "path = 'concave15/test22.txt'\n",
    "f = open(path, 'r')\n",
    "num_items = int(f.readline())\n",
    "polygons = np.full(num_items, None)\n",
    "list_pallet_shape = f.readline().split(' ')\n",
    "for i in range(num_items):\n",
    "    list_points = f.readline().split(' ')\n",
    "    points = []\n",
    "    for j in range(0, len(list_points) - 1, 2):\n",
    "        point = [float(list_points[j]), float(list_points[j + 1])]\n",
    "        points.append(point)\n",
    "    if (points[0][0] == points[-1][0] and points[0][1] == points[-1][1]):\n",
    "        points.pop()\n",
    "    polygons[i] = np.array(points)\n",
    "f.close()\n",
    "\n",
    "\n",
    "packing = Packing(width=width, height=height, drill_radius=0)\n",
    "\n",
    "packing.polygons = copy(polygons)\n",
    "packing.num_items = len(polygons)\n",
    "\n",
    "pallets = Pallets([width, height])\n",
    "pallets.grid_step = h\n",
    "pallets.add_pallet_lines()\n",
    "\n",
    "print(pallets.pallet_lines)"
   ]
  },
  {
   "cell_type": "code",
   "execution_count": 38,
   "outputs": [],
   "source": [
    "packing.items = np.full(len(polygons), None)\n",
    "\n",
    "for id in range(len(polygons)):\n",
    "    item = Item(id, polygons[id])\n",
    "    packing.items[id] = item\n",
    "    item.rotation = 0\n",
    "\n",
    "packing.pallets = pallets\n",
    "packing.h = h\n",
    "packing.add_segments_for_items()"
   ],
   "metadata": {
    "collapsed": false,
    "pycharm": {
     "name": "#%%\n"
    }
   }
  },
  {
   "cell_type": "code",
   "execution_count": 39,
   "outputs": [],
   "source": [
    "packing.set_squares()\n",
    "\n",
    "packing.sort_items(num_sort=2)"
   ],
   "metadata": {
    "collapsed": false,
    "pycharm": {
     "name": "#%%\n"
    }
   }
  },
  {
   "cell_type": "code",
   "execution_count": 40,
   "outputs": [],
   "source": [
    "def pack_item(item, pallets, t_vector, r, best_rotation):\n",
    "    item.t_vector = [t_vector, r]\n",
    "    item.packed = True\n",
    "    item.best_rotation = best_rotation\n",
    "    for s in range(len(item.segments[best_rotation])):\n",
    "        for l in range(len(item.segments[best_rotation][s])):\n",
    "            new_line = [copy(item.segments[best_rotation][s][l][0]) + copy(item.t_vector[0]), copy(item.segments[best_rotation][s][l][1]) + copy(item.t_vector[0])]\n",
    "            pallets.pallet_lines[r+s].append(copy(new_line))\n",
    "        pallets.pallet_lines[r+s].sort(key=lambda x: int(x[0]), reverse=False)\n",
    "\n",
    "    def first_elem(e):\n",
    "      return e[0]\n",
    "\n",
    "    for line in pallets.pallet_lines:\n",
    "        for segment in line:\n",
    "            segment.sort()\n",
    "        line.sort(key=first_elem)\n",
    "        i = 0\n",
    "        while i < (len(line) - 1):\n",
    "            if line[i][1] == line[i+1][0]:\n",
    "                line[i][1] = line[i+1][1]\n",
    "                line.pop(i+1)\n",
    "                continue\n",
    "            if line[i][1] > line[i+1][0]:\n",
    "                if line[i][1] < line[i+1][1]:\n",
    "                    line[i][1] = line[i+1][1]\n",
    "                    line.pop(i+1)\n",
    "                    continue\n",
    "                elif line[i][1] >= line[i+1][1]:\n",
    "                    line.pop(i+1)\n",
    "                    continue\n",
    "            i+=1\n",
    "\n",
    "def pack_segments(items, pallets):\n",
    "    for item in items:\n",
    "        best_height = 10000\n",
    "        best_t_vector = None\n",
    "        best_rotation = None\n",
    "        best_r = None\n",
    "        for rotation in range(item.rotation + 1):\n",
    "            segments = copy(item.segments[rotation])\n",
    "            r = 0\n",
    "            finish_flag = 0\n",
    "            while r < len(pallets.pallet_lines) and item.packed == False and finish_flag == 0:\n",
    "                row = pallets.pallet_lines[r]\n",
    "                k = 1\n",
    "                ex_flag = 0\n",
    "                while k < len(row) and item.packed == False and ex_flag == 0:\n",
    "                    t_vector = row[k-1][1] - segments[0][0][0]\n",
    "                    i = 0\n",
    "                    # l = len(segments[0])\n",
    "                    while i < len(segments) and r + i < len(pallets.pallet_lines) and ex_flag == 0:\n",
    "                            j = 0\n",
    "                            while j < len(segments[i]) and ex_flag == 0:\n",
    "                                m = 0\n",
    "                                while m < len(pallets.pallet_lines[r+i]) and ex_flag == 0:\n",
    "                                    # случаи пересечения линии и упаковки\n",
    "                                    if segments[i][j][1] + t_vector > pallets.shape[0]:\n",
    "                                        ex_flag = 1\n",
    "                                    elif pallets.pallet_lines[r+i][m][0] <= segments[i][j][0] + t_vector < pallets.pallet_lines[r+i][m][1] and segments[i][j][0] + t_vector != segments[i][j][1] + t_vector:\n",
    "                                        t_vector = pallets.pallet_lines[r+i][m][1]\n",
    "                                        i = 0\n",
    "                                        j = 0\n",
    "                                    elif pallets.pallet_lines[r+i][m][0] < segments[i][j][1] + t_vector <= pallets.pallet_lines[r+i][m][1] and segments[i][j][0] + t_vector != segments[i][j][1] + t_vector:\n",
    "                                        t_vector = pallets.pallet_lines[r+i][m][1]\n",
    "                                        i = 0\n",
    "                                        j = 0\n",
    "                                    elif segments[i][j][0] + t_vector < pallets.pallet_lines[r + i][m][0] and \\\n",
    "                                            pallets.pallet_lines[r + i][m][1] < segments[i][j][1] + t_vector:\n",
    "                                        t_vector = pallets.pallet_lines[r + i][m][1]\n",
    "                                        i = 0\n",
    "                                        j = 0\n",
    "                                    elif segments[i][j][0] + t_vector < 0:\n",
    "                                        t_vector = - segments[i][j][0]\n",
    "                                        i = 0\n",
    "                                        j = 0\n",
    "\n",
    "                                    m += 1\n",
    "                                j += 1\n",
    "                            i += 1\n",
    "                    # если объект влезает, сохраняем его координаты\n",
    "                    if ex_flag == 0:\n",
    "                        # pack_item(item, pallets, t_vector, r)\n",
    "                        if best_height > r :\n",
    "                            best_height = copy(r)\n",
    "                            best_r = copy(r)\n",
    "                            best_t_vector = copy(t_vector)\n",
    "                            best_rotation = copy(rotation)\n",
    "                        finish_flag = 1\n",
    "                        ex_flag = 1\n",
    "                    k += 1\n",
    "                r += 1\n",
    "        pack_item(item, pallets, best_t_vector, best_r, best_rotation)\n",
    "\n",
    "pack_segments(packing.items, packing.pallets)\n"
   ],
   "metadata": {
    "collapsed": false,
    "pycharm": {
     "name": "#%%\n"
    }
   }
  },
  {
   "cell_type": "code",
   "execution_count": 41,
   "outputs": [
    {
     "data": {
      "text/plain": "<Figure size 720x720 with 1 Axes>",
      "image/png": "[encoded data removed]"
     },
     "metadata": {
      "needs_background": "light"
     },
     "output_type": "display_data"
    }
   ],
   "source": [
    "from src.class_vector import Vector\n",
    "import random\n",
    "from matplotlib import pyplot as plt, patches\n",
    "\n",
    "pallet_width = width\n",
    "pallet_height = height\n",
    "\n",
    "fig, ax = plt.subplots()\n",
    "\n",
    "MAX_SIZE = 10\n",
    "if pallet_width > pallet_height:\n",
    "    fig.set_figheight(MAX_SIZE)\n",
    "    fig.set_figwidth(\n",
    "        MAX_SIZE * pallet_width/pallet_height)\n",
    "else:\n",
    "    fig.set_figheight(\n",
    "        MAX_SIZE * pallet_height/pallet_width)\n",
    "    fig.set_figwidth(MAX_SIZE)\n",
    "\n",
    "pallet = patches.Rectangle((0, 0),\n",
    "                            pallet_width,\n",
    "                            pallet_height,\n",
    "                            linewidth=2,\n",
    "                            facecolor='none',\n",
    "                            edgecolor='black')\n",
    "ax.add_patch(pallet)\n",
    "ax.set_xlim(-0.5, pallet_width + 2)\n",
    "ax.set_ylim(-0.5, pallet_height + 2)\n",
    "\n",
    "# for i in range(int(pallet_height/h)):\n",
    "#     plt.plot([0, pallet_width], [i*h, i*h], linestyle = 'dotted', color = 'black')\n",
    "\n",
    "# h = 1\n",
    "max_height = 0\n",
    "\n",
    "for polygon in packing.items:\n",
    "\n",
    "    rotated_points = copy(polygon.points)\n",
    "    new_points = Polygon(rotated_points)\n",
    "    t_vec = copy(polygon.t_vector)\n",
    "    t_v = Vector(t_vec[0], t_vec[1])\n",
    "    new_points.move_to(t_v)\n",
    "    rotated_points = new_points.points_to_list()\n",
    "    for r_point in rotated_points:\n",
    "        if r_point[1] > max_height:\n",
    "                    max_height = copy(r_point[1])\n",
    "\n",
    "    figure = patches.Polygon(rotated_points,\n",
    "                            linewidth=1,\n",
    "                            edgecolor='red',\n",
    "                            fill=False)\n",
    "    ax.add_patch(figure)\n",
    "    # random_color = \"#\" + \\\n",
    "    #                 ''.join([random.choice('0123456789ABCDEF') for j in range(6)])\n",
    "    # print(rot)\n",
    "    # for i in range(len(polygon.segments[rot])):\n",
    "    #     for sigment in polygon.segments[rot][i]:\n",
    "    #         sigment[0]+=polygon.t_vector[0]\n",
    "    #         sigment[1]+=polygon.t_vector[0]\n",
    "    #         if sigment[0] != sigment[1]:\n",
    "    #             plt.plot(sigment, [(i+polygon.t_vector[1])*h, (i+polygon.t_vector[1])*h], color = random_color, alpha=0.7)\n",
    "    #         else:\n",
    "    #             ax.scatter(sigment[0], (i+polygon.t_vector[1])*h, color = random_color, s = 4, alpha=0.7)\n",
    "plt.title('Max height: ' + str(max_height) + ', R: ' + str(packing.h))\n",
    "# plt.savefig('line-packing.png')\n",
    "plt.show()"
   ],
   "metadata": {
    "collapsed": false,
    "pycharm": {
     "name": "#%%\n"
    }
   }
  },
  {
   "cell_type": "code",
   "execution_count": 42,
   "outputs": [],
   "source": [
    "# packing.draw_segments_packing()"
   ],
   "metadata": {
    "collapsed": false,
    "pycharm": {
     "name": "#%%\n"
    }
   }
  }
 ],
 "metadata": {
  "kernelspec": {
   "display_name": "Python 3",
   "language": "python",
   "name": "python3"
  },
  "language_info": {
   "codemirror_mode": {
    "name": "ipython",
    "version": 2
   },
   "file_extension": ".py",
   "mimetype": "text/x-python",
   "name": "python",
   "nbconvert_exporter": "python",
   "pygments_lexer": "ipython2",
   "version": "2.7.6"
  }
 },
 "nbformat": 4,
 "nbformat_minor": 0
}